{
 "cells": [
  {
   "cell_type": "markdown",
   "metadata": {},
   "source": [
    "# Análise dos Resultados da Previsão de Engajamento - Classificação"
   ]
  },
  {
   "cell_type": "code",
   "execution_count": 1,
   "metadata": {
    "cellView": "form",
    "executionInfo": {
     "elapsed": 3119,
     "status": "ok",
     "timestamp": 1678973020538,
     "user": {
      "displayName": "PABLO SAMPAIO",
      "userId": "06578877141428254753"
     },
     "user_tz": 180
    },
    "id": "OJV4GlB7-Jqx",
    "metadata": {}
   },
   "outputs": [],
   "source": [
    "import pandas as pd\n",
    "import numpy as np\n",
    "import matplotlib.pyplot as plt\n",
    "\n",
    "from util import load_results, filter_dataset"
   ]
  },
  {
   "cell_type": "code",
   "execution_count": 2,
   "metadata": {},
   "outputs": [
    {
     "data": {
      "text/plain": [
       "'1.6.1'"
      ]
     },
     "execution_count": 2,
     "metadata": {},
     "output_type": "execute_result"
    }
   ],
   "source": [
    "# show sklearn version\n",
    "import sklearn\n",
    "sklearn.__version__"
   ]
  },
  {
   "cell_type": "code",
   "execution_count": 3,
   "metadata": {
    "metadata": {}
   },
   "outputs": [],
   "source": [
    "BASE_PATH = 'dados/preprocessed/'\n",
    "EMBEDDING_MODEL = 'paraphrase-multilingual-MiniLM'\n",
    "SOCIAL_NETWORK = 'tiktok'"
   ]
  },
  {
   "cell_type": "markdown",
   "metadata": {
    "id": "xg4V0QFFLo7g"
   },
   "source": [
    "# 1 - Carregando Dados"
   ]
  },
  {
   "cell_type": "markdown",
   "metadata": {},
   "source": [
    "### Altere Aqui"
   ]
  },
  {
   "cell_type": "code",
   "execution_count": 4,
   "metadata": {},
   "outputs": [],
   "source": [
    "RESULTS_FILE_PATH = \"resultados/resultados50p_2025-04-03-16h16m_bolsonaro(mxbai-embed-large-v1)_(tiktok).npy\"  # TODAS as features\n",
    "#RESULTS_FILE_PATH = \"resultados/resultados50p_2025-04-03-15h53m_bolsonaro(mxbai-embed-large-v1)_(tiktok).npy\"  # usa APENAS os embeddings"
   ]
  },
  {
   "cell_type": "markdown",
   "metadata": {},
   "source": [
    "Carregando os dados dos resultados."
   ]
  },
  {
   "cell_type": "code",
   "execution_count": 5,
   "metadata": {},
   "outputs": [],
   "source": [
    "metadata, results = load_results(RESULTS_FILE_PATH)"
   ]
  },
  {
   "cell_type": "code",
   "execution_count": 6,
   "metadata": {},
   "outputs": [
    {
     "data": {
      "text/plain": [
       "{'date': '2025-04-03-16h16m',\n",
       " 'subdataset': 'bolsonaro',\n",
       " 'dropped_features': [],\n",
       " 'target': 'Curtidas-2Classes-50p',\n",
       " 'random_state': 1231,\n",
       " 'description': 'Treinamento com \\n    - dados balanceados (50p) \\n    - dataset bolsonaro\\n    - com todos os modelos, incluindo novos ensembles (sem vazamento?)\\n    - deixando todas as features\\n    - tentativas de ajustar a opções de parâmetros da random forest (testando valores para class_weight)\\n',\n",
       " 'basic_models': ['Random Forest'],\n",
       " 'cv_outer': RepeatedStratifiedKFold(n_repeats=1, n_splits=5, random_state=1231),\n",
       " 'cv_inner': StratifiedKFold(n_splits=5, random_state=None, shuffle=True)}"
      ]
     },
     "execution_count": 6,
     "metadata": {},
     "output_type": "execute_result"
    }
   ],
   "source": [
    "metadata"
   ]
  },
  {
   "cell_type": "code",
   "execution_count": 7,
   "metadata": {},
   "outputs": [
    {
     "name": "stdout",
     "output_type": "stream",
     "text": [
      "Treinamento com \n",
      "    - dados balanceados (50p) \n",
      "    - dataset bolsonaro\n",
      "    - com todos os modelos, incluindo novos ensembles (sem vazamento?)\n",
      "    - deixando todas as features\n",
      "    - tentativas de ajustar a opções de parâmetros da random forest (testando valores para class_weight)\n",
      "\n"
     ]
    }
   ],
   "source": [
    "print(metadata['description'])"
   ]
  },
  {
   "cell_type": "code",
   "execution_count": 8,
   "metadata": {},
   "outputs": [
    {
     "data": {
      "text/plain": [
       "[]"
      ]
     },
     "execution_count": 8,
     "metadata": {},
     "output_type": "execute_result"
    }
   ],
   "source": [
    "metadata['dropped_features']"
   ]
  },
  {
   "cell_type": "markdown",
   "metadata": {
    "id": "Z_SocVpnTp-p"
   },
   "source": [
    "Carregando dados brutos."
   ]
  },
  {
   "cell_type": "code",
   "execution_count": 9,
   "metadata": {
    "executionInfo": {
     "elapsed": 838,
     "status": "ok",
     "timestamp": 1678973021364,
     "user": {
      "displayName": "PABLO SAMPAIO",
      "userId": "06578877141428254753"
     },
     "user_tz": 180
    },
    "id": "pbGadD5L-aMf",
    "metadata": {}
   },
   "outputs": [],
   "source": [
    "dfx_full = pd.read_excel(f\"{BASE_PATH}full-preproc2-inputs_{EMBEDDING_MODEL}_{SOCIAL_NETWORK}.xlsx\", index_col='ID')\n",
    "dfy_full = pd.read_excel(f\"{BASE_PATH}full-preproc2-outputs_{EMBEDDING_MODEL}_{SOCIAL_NETWORK}.xlsx\", index_col='ID')"
   ]
  },
  {
   "cell_type": "code",
   "execution_count": 10,
   "metadata": {},
   "outputs": [
    {
     "name": "stdout",
     "output_type": "stream",
     "text": [
      "Dataset BOLSONARO (indicador 0)\n"
     ]
    }
   ],
   "source": [
    "dfx, dfy = filter_dataset(dfx_full, dfy_full, metadata)"
   ]
  },
  {
   "cell_type": "code",
   "execution_count": 11,
   "metadata": {},
   "outputs": [
    {
     "data": {
      "text/plain": [
       "Index(['Only Hashtags', 'Dias Decorridos', 'x1', 'x2', 'x3', 'x4', 'x5', 'x6',\n",
       "       'x7', 'x8',\n",
       "       ...\n",
       "       'x375', 'x376', 'x377', 'x378', 'x379', 'x380', 'x381', 'x382', 'x383',\n",
       "       'x384'],\n",
       "      dtype='object', length=386)"
      ]
     },
     "execution_count": 11,
     "metadata": {},
     "output_type": "execute_result"
    }
   ],
   "source": [
    "dfx.columns"
   ]
  },
  {
   "cell_type": "code",
   "execution_count": 12,
   "metadata": {},
   "outputs": [
    {
     "data": {
      "text/plain": [
       "['Random Forest']"
      ]
     },
     "execution_count": 12,
     "metadata": {},
     "output_type": "execute_result"
    }
   ],
   "source": [
    "BASIC_MODEL_NAMES = metadata['basic_models']\n",
    "BASIC_MODEL_NAMES"
   ]
  },
  {
   "cell_type": "code",
   "execution_count": 13,
   "metadata": {},
   "outputs": [
    {
     "data": {
      "text/plain": [
       "5"
      ]
     },
     "execution_count": 13,
     "metadata": {},
     "output_type": "execute_result"
    }
   ],
   "source": [
    "TOTAL_SPLITS = metadata['cv_outer'].get_n_splits()\n",
    "TOTAL_SPLITS"
   ]
  },
  {
   "cell_type": "markdown",
   "metadata": {},
   "source": [
    "# 2 - Métricas Principais"
   ]
  },
  {
   "cell_type": "code",
   "execution_count": 14,
   "metadata": {
    "metadata": {}
   },
   "outputs": [],
   "source": [
    "from ipywidgets import interact"
   ]
  },
  {
   "cell_type": "code",
   "execution_count": 15,
   "metadata": {},
   "outputs": [
    {
     "name": "stdout",
     "output_type": "stream",
     "text": [
      "Modelos testados:\n"
     ]
    },
    {
     "data": {
      "text/plain": [
       "dict_keys(['Random Forest', 'FOLD_00-hard-vote', 'FOLD_00-soft-vote', 'FOLD_01-hard-vote', 'FOLD_01-soft-vote', 'FOLD_02-hard-vote', 'FOLD_02-soft-vote', 'FOLD_03-hard-vote', 'FOLD_03-soft-vote', 'FOLD_04-hard-vote', 'FOLD_04-soft-vote', 'Best-hard-vote', 'Best-soft-vote'])"
      ]
     },
     "execution_count": 15,
     "metadata": {},
     "output_type": "execute_result"
    }
   ],
   "source": [
    "# Modelos disponíveis (básicos e ensemble)\n",
    "print(\"Modelos testados:\")\n",
    "results.keys()"
   ]
  },
  {
   "cell_type": "code",
   "execution_count": 16,
   "metadata": {
    "metadata": {}
   },
   "outputs": [],
   "source": [
    "METRICS = [\n",
    "    'f1_score_mean', 'f1_score_std', \n",
    "    'precision_mean', 'precision_std', \n",
    "    'recall_mean', 'recall_std', \n",
    "    'accuracy_mean', 'accuracy_std', \n",
    "    'auc_roc_mean', 'auc_roc_std', \n",
    "    'auc_pr_mean', 'auc_pr_std'\n",
    "]"
   ]
  },
  {
   "cell_type": "code",
   "execution_count": 17,
   "metadata": {
    "metadata": {}
   },
   "outputs": [],
   "source": [
    "df_result = pd.DataFrame(results).T\n",
    "df_result = df_result[METRICS]"
   ]
  },
  {
   "cell_type": "markdown",
   "metadata": {},
   "source": [
    "## 2.1 - Modelos Básicos"
   ]
  },
  {
   "cell_type": "markdown",
   "metadata": {},
   "source": [
    "Resultados ordenados pelo F1-score."
   ]
  },
  {
   "cell_type": "code",
   "execution_count": 18,
   "metadata": {},
   "outputs": [
    {
     "data": {
      "text/html": [
       "<div>\n",
       "<style scoped>\n",
       "    .dataframe tbody tr th:only-of-type {\n",
       "        vertical-align: middle;\n",
       "    }\n",
       "\n",
       "    .dataframe tbody tr th {\n",
       "        vertical-align: top;\n",
       "    }\n",
       "\n",
       "    .dataframe thead th {\n",
       "        text-align: right;\n",
       "    }\n",
       "</style>\n",
       "<table border=\"1\" class=\"dataframe\">\n",
       "  <thead>\n",
       "    <tr style=\"text-align: right;\">\n",
       "      <th></th>\n",
       "      <th>f1_score_mean</th>\n",
       "      <th>f1_score_std</th>\n",
       "      <th>precision_mean</th>\n",
       "      <th>precision_std</th>\n",
       "      <th>recall_mean</th>\n",
       "      <th>recall_std</th>\n",
       "      <th>accuracy_mean</th>\n",
       "      <th>accuracy_std</th>\n",
       "      <th>auc_roc_mean</th>\n",
       "      <th>auc_roc_std</th>\n",
       "      <th>auc_pr_mean</th>\n",
       "      <th>auc_pr_std</th>\n",
       "    </tr>\n",
       "  </thead>\n",
       "  <tbody>\n",
       "    <tr>\n",
       "      <th>Random Forest</th>\n",
       "      <td>0.705677</td>\n",
       "      <td>0.038033</td>\n",
       "      <td>0.612467</td>\n",
       "      <td>0.045617</td>\n",
       "      <td>0.838462</td>\n",
       "      <td>0.070501</td>\n",
       "      <td>0.65</td>\n",
       "      <td>0.052172</td>\n",
       "      <td>0.704438</td>\n",
       "      <td>0.035164</td>\n",
       "      <td>0.685634</td>\n",
       "      <td>0.045061</td>\n",
       "    </tr>\n",
       "  </tbody>\n",
       "</table>\n",
       "</div>"
      ],
      "text/plain": [
       "              f1_score_mean f1_score_std precision_mean precision_std  \\\n",
       "Random Forest      0.705677     0.038033       0.612467      0.045617   \n",
       "\n",
       "              recall_mean recall_std accuracy_mean accuracy_std auc_roc_mean  \\\n",
       "Random Forest    0.838462   0.070501          0.65     0.052172     0.704438   \n",
       "\n",
       "              auc_roc_std auc_pr_mean auc_pr_std  \n",
       "Random Forest    0.035164    0.685634   0.045061  "
      ]
     },
     "execution_count": 18,
     "metadata": {},
     "output_type": "execute_result"
    }
   ],
   "source": [
    "df_result.loc[df_result.index.isin(BASIC_MODEL_NAMES), :].sort_values('f1_score_mean', ascending=False)"
   ]
  },
  {
   "cell_type": "markdown",
   "metadata": {},
   "source": [
    "## 2.2 - Todos os Modelos"
   ]
  },
  {
   "cell_type": "code",
   "execution_count": 19,
   "metadata": {
    "metadata": {}
   },
   "outputs": [
    {
     "data": {
      "application/vnd.jupyter.widget-view+json": {
       "model_id": "3694e18f99a84f2599493797e39c6a21",
       "version_major": 2,
       "version_minor": 0
      },
      "text/plain": [
       "interactive(children=(Dropdown(description='order_by', options=('f1_score_mean', 'f1_score_std', 'precision_me…"
      ]
     },
     "metadata": {},
     "output_type": "display_data"
    }
   ],
   "source": [
    "def order_models_by(order_by):\n",
    "    display(df_result.sort_values(by=order_by, ascending=False))\n",
    "    return\n",
    "\n",
    "interact(order_models_by, order_by=METRICS);"
   ]
  },
  {
   "cell_type": "markdown",
   "metadata": {},
   "source": [
    "## 2.3 - Classificador Aleatório (para comparação)"
   ]
  },
  {
   "cell_type": "code",
   "execution_count": 20,
   "metadata": {},
   "outputs": [],
   "source": [
    "from classification_util import random_classifier_results"
   ]
  },
  {
   "cell_type": "code",
   "execution_count": 21,
   "metadata": {
    "metadata": {}
   },
   "outputs": [
    {
     "name": "stdout",
     "output_type": "stream",
     "text": [
      "RANDOM CLASSIFIER (50% chance for class 1)\n",
      " - F1-Score   : 0.5048 +/- 0.0331\n",
      " - Acurácia   : 0.5055 +/- 0.0299\n",
      " - Precisão   : 0.5055 +/- 0.0300\n",
      " - Revocação  : 0.5050 +/- 0.0420\n",
      " - AUC ROC    : 0.5000 +/- 0.0000\n",
      " - AUC PR     : 0.5000 +/- 0.0000\n",
      "================================================== \n",
      "\n"
     ]
    }
   ],
   "source": [
    "CLASSIFIER_TRUE_PROB = 0.5\n",
    "\n",
    "rand_results = random_classifier_results(dfy, classifier_true_prob=CLASSIFIER_TRUE_PROB, trials=100)\n",
    "\n",
    "print(f\"RANDOM CLASSIFIER ({100*CLASSIFIER_TRUE_PROB:.0f}% chance for class 1)\")\n",
    "print(f\" - F1-Score   : {rand_results['f1_score_mean']:.4f} +/- {rand_results['f1_score_std']:.4f}\")\n",
    "print(f\" - Acurácia   : {rand_results['accuracy_mean']:.4f} +/- {rand_results['accuracy_std']:.4f}\")\n",
    "print(f\" - Precisão   : {rand_results['precision_mean']:.4f} +/- {rand_results['precision_std']:.4f}\")\n",
    "print(f\" - Revocação  : {rand_results['recall_mean']:.4f} +/- {rand_results['recall_std']:.4f}\")\n",
    "print(f\" - AUC ROC    : {rand_results['auc_roc_mean']:.4f} +/- {rand_results['auc_roc_std']:.4f}\")\n",
    "print(f\" - AUC PR     : {rand_results['auc_pr_mean']:.4f} +/- {rand_results['auc_pr_std']:.4f}\")\n",
    "print('=' * 50, '\\n')"
   ]
  },
  {
   "cell_type": "markdown",
   "metadata": {},
   "source": [
    "# 3 - Melhores Hiper-Parâmetros"
   ]
  },
  {
   "cell_type": "markdown",
   "metadata": {},
   "source": [
    "### 3.1 - Valores de parâmetros mais frequentes entre os melhores, por modelo"
   ]
  },
  {
   "cell_type": "code",
   "execution_count": 22,
   "metadata": {
    "metadata": {}
   },
   "outputs": [
    {
     "data": {
      "application/vnd.jupyter.widget-view+json": {
       "model_id": "978586d07b514cb18f856250b8289246",
       "version_major": 2,
       "version_minor": 0
      },
      "text/plain": [
       "interactive(children=(Dropdown(description='model_name', options=('Random Forest',), value='Random Forest'), O…"
      ]
     },
     "metadata": {},
     "output_type": "display_data"
    },
    {
     "data": {
      "text/plain": [
       "<function __main__.aggregate_best_params(model_name)>"
      ]
     },
     "execution_count": 22,
     "metadata": {},
     "output_type": "execute_result"
    }
   ],
   "source": [
    "from collections import Counter\n",
    "\n",
    "def aggregate_best_params(model_name):\n",
    "    best_params_list = results[model_name]['best_parameters']\n",
    "    \n",
    "    # for each name of parameter, counts the number of times each of its value appeared among the best\n",
    "    params_count = dict()\n",
    "\n",
    "    for param_name in best_params_list[0].keys():\n",
    "        # fora each value of the parameter, counts the occurences\n",
    "        params_count[param_name] = Counter()\n",
    "        \n",
    "        for params in best_params_list:\n",
    "            param_value = params[param_name]\n",
    "            if type(param_value) == dict:\n",
    "                param_value = str(param_value)\n",
    "            params_count[param_name][param_value] += 1\n",
    "    \n",
    "    display(params_count)\n",
    "\n",
    "#aggregate_best_params('Logistic Regression')\n",
    "interact(aggregate_best_params, model_name=BASIC_MODEL_NAMES)"
   ]
  },
  {
   "cell_type": "markdown",
   "metadata": {},
   "source": [
    "### 3.2 - Melhor modelo *básico* por fold (e seus hiperparâmetros)"
   ]
  },
  {
   "cell_type": "code",
   "execution_count": 23,
   "metadata": {
    "metadata": {}
   },
   "outputs": [
    {
     "name": "stdout",
     "output_type": "stream",
     "text": [
      "FOLD 0 - best model is a 'Random Forest' with hiper-parameters:\n",
      " - pca: PCA(n_components=10)\n",
      " - predictor__class_weight: {0: 1.0, 1: 2.0}\n",
      " - predictor__max_depth: 4\n",
      " - predictor__min_samples_split: 8\n",
      " - predictor__n_estimators: 70\n",
      " - F1 score: 0.7018\n",
      "FOLD 1 - best model is a 'Random Forest' with hiper-parameters:\n",
      " - pca: PCA(n_components=20)\n",
      " - predictor__class_weight: {0: 1.0, 1: 2.0}\n",
      " - predictor__max_depth: 2\n",
      " - predictor__min_samples_split: 4\n",
      " - predictor__n_estimators: 10\n",
      " - F1 score: 0.6349\n",
      "FOLD 2 - best model is a 'Random Forest' with hiper-parameters:\n",
      " - pca: PCA(n_components=20)\n",
      " - predictor__class_weight: {0: 1.0, 1: 2.0}\n",
      " - predictor__max_depth: 4\n",
      " - predictor__min_samples_split: 10\n",
      " - predictor__n_estimators: 10\n",
      " - F1 score: 0.7458\n",
      "FOLD 3 - best model is a 'Random Forest' with hiper-parameters:\n",
      " - pca: PCA(n_components=10)\n",
      " - predictor__class_weight: {0: 1.0, 1: 2.0}\n",
      " - predictor__max_depth: 4\n",
      " - predictor__min_samples_split: 10\n",
      " - predictor__n_estimators: 30\n",
      " - F1 score: 0.7246\n",
      "FOLD 4 - best model is a 'Random Forest' with hiper-parameters:\n",
      " - pca: PCA(n_components=30)\n",
      " - predictor__class_weight: {0: 1.0, 1: 1.5}\n",
      " - predictor__max_depth: 2\n",
      " - predictor__min_samples_split: 4\n",
      " - predictor__n_estimators: 30\n",
      " - F1 score: 0.7213\n"
     ]
    }
   ],
   "source": [
    "def list_best_model_per_fold():\n",
    "    for fold in range(TOTAL_SPLITS):   \n",
    "        best_f1 = 0.0\n",
    "        best_model_params = None\n",
    "        best_model_name = None\n",
    "        for model_name in BASIC_MODEL_NAMES:\n",
    "            if results[model_name]['f1_score_list'][fold] > best_f1:\n",
    "                best_f1 = results[model_name]['f1_score_list'][fold]\n",
    "                best_model_params = results[model_name]['best_parameters'][fold]\n",
    "                best_model_name = model_name\n",
    "        \n",
    "        print(f\"FOLD {fold} - best model is a '{best_model_name}' with hiper-parameters:\")\n",
    "        if best_model_params is not None:\n",
    "            for key in best_model_params:\n",
    "                if key is not None:\n",
    "                    print(f\" - {key}: {best_model_params[key]}\")\n",
    "        print(f\" - F1 score: {results[best_model_name]['f1_score_list'][fold]:.4f}\")\n",
    "\n",
    "list_best_model_per_fold()"
   ]
  },
  {
   "cell_type": "markdown",
   "metadata": {},
   "source": [
    "### 3.3 - Melhores hiperparâmetros de cada modelo (em todos os folds)"
   ]
  },
  {
   "cell_type": "markdown",
   "metadata": {},
   "source": [
    "Observação: A seção 3.1 mostra esta informação de forma mais condensada."
   ]
  },
  {
   "cell_type": "code",
   "execution_count": 24,
   "metadata": {
    "metadata": {}
   },
   "outputs": [
    {
     "data": {
      "application/vnd.jupyter.widget-view+json": {
       "model_id": "bc174ab94228431e970dea2bdd8ce08a",
       "version_major": 2,
       "version_minor": 0
      },
      "text/plain": [
       "interactive(children=(Dropdown(description='model_name', options=('Random Forest',), value='Random Forest'), O…"
      ]
     },
     "metadata": {},
     "output_type": "display_data"
    },
    {
     "data": {
      "text/plain": [
       "<function __main__.list_all_best_params(model_name)>"
      ]
     },
     "execution_count": 24,
     "metadata": {},
     "output_type": "execute_result"
    }
   ],
   "source": [
    "def list_all_best_params(model_name):\n",
    "    best_params_list = results[model_name]['best_parameters']\n",
    "    for i, paramset in enumerate(best_params_list):\n",
    "        print(\"BEST PARAM SET IN FOLD\", i, \":\")\n",
    "        for key in paramset.keys():\n",
    "            print(f\" - {key}: {paramset[key]}\")\n",
    "        print(f\" - F1 score: {results[model_name]['f1_score_list'][i]:.4f}\")\n",
    "\n",
    "\n",
    "#list_all_best_params('Logistic Regression')\n",
    "#list_all_best_params('Random Forest')\n",
    "#list_all_best_params('Support Vector Machine')\n",
    "\n",
    "interact(list_all_best_params, model_name=BASIC_MODEL_NAMES)"
   ]
  },
  {
   "cell_type": "markdown",
   "metadata": {},
   "source": [
    "# 4 - Curvas ROC e PR"
   ]
  },
  {
   "cell_type": "code",
   "execution_count": 25,
   "metadata": {},
   "outputs": [],
   "source": [
    "from classification_util import plot_roc_curve, plot_pr_curve"
   ]
  },
  {
   "cell_type": "code",
   "execution_count": 26,
   "metadata": {},
   "outputs": [
    {
     "data": {
      "application/vnd.jupyter.widget-view+json": {
       "model_id": "d50782b669524c84af97a586e750c253",
       "version_major": 2,
       "version_minor": 0
      },
      "text/plain": [
       "interactive(children=(Dropdown(description='model_name', options=('Random Forest', 'FOLD_00-hard-vote', 'FOLD_…"
      ]
     },
     "metadata": {},
     "output_type": "display_data"
    },
    {
     "data": {
      "text/plain": [
       "<function __main__.plot_model_roc_curves(model_name, overlapped=True)>"
      ]
     },
     "execution_count": 26,
     "metadata": {},
     "output_type": "execute_result"
    }
   ],
   "source": [
    "def plot_model_roc_curves(model_name, overlapped=True):\n",
    "    if overlapped:\n",
    "        # Plot ROC curves for all folds in a single plot\n",
    "        plt.figure(figsize=(10, 6))\n",
    "        for fold in range(TOTAL_SPLITS):\n",
    "            plot_roc_curve(results, model_name=model_name, fold=fold, show_plot=False, plot_ref_line=False)\n",
    "        plt.plot([0, 1], [0, 1], 'r--', label='Random Guess')\n",
    "        plt.legend(loc='lower right')\n",
    "        plt.title(f'Curva ROC - {model_name} (Overlapped)')\n",
    "    \n",
    "    else:\n",
    "        # Calculate the number of rows needed for two columns\n",
    "        n_rows = (TOTAL_SPLITS + 1) // 2\n",
    "\n",
    "        # Create a figure with subplots arranged in two columns\n",
    "        fig, axes = plt.subplots(n_rows, 2, figsize=(10, 4 * n_rows))  # Adjust width and height\n",
    "\n",
    "        # Flatten the axes array for easier indexing\n",
    "        axes = axes.flatten()\n",
    "\n",
    "        # Plot each fold's ROC curve\n",
    "        for fold in range(TOTAL_SPLITS):\n",
    "            ax = axes[fold]\n",
    "            plt.sca(ax)  # Set current axis\n",
    "            plot_roc_curve(results, model_name=model_name, fold=fold, show_plot=False, plot_ref_line=True)\n",
    "            ax.set_title(f'Curva ROC - {model_name} (Fold {fold + 1})')\n",
    "\n",
    "        # Hide any unused subplots\n",
    "        for i in range(TOTAL_SPLITS, len(axes)):\n",
    "            axes[i].axis('off')\n",
    "\n",
    "    # Adjust layout for better spacing\n",
    "    plt.tight_layout()\n",
    "\n",
    "    # Show the combined plot\n",
    "    plt.show()\n",
    "\n",
    "interact(plot_model_roc_curves, model_name=results.keys(), overlapped=[True, False])"
   ]
  },
  {
   "cell_type": "code",
   "execution_count": 27,
   "metadata": {},
   "outputs": [
    {
     "data": {
      "application/vnd.jupyter.widget-view+json": {
       "model_id": "2c4b55db2f6b437fa80ea823afeb0d71",
       "version_major": 2,
       "version_minor": 0
      },
      "text/plain": [
       "interactive(children=(Dropdown(description='model_name', options=('Random Forest', 'FOLD_00-hard-vote', 'FOLD_…"
      ]
     },
     "metadata": {},
     "output_type": "display_data"
    },
    {
     "data": {
      "text/plain": [
       "<function __main__.plot_model_pr_curves(model_name, overlapped=True)>"
      ]
     },
     "execution_count": 27,
     "metadata": {},
     "output_type": "execute_result"
    }
   ],
   "source": [
    "def plot_model_pr_curves(model_name, overlapped=True):\n",
    "    if overlapped:\n",
    "        # Plot ROC curves for all folds in a single plot\n",
    "        plt.figure(figsize=(10, 6))\n",
    "        for fold in range(TOTAL_SPLITS):\n",
    "            plot_pr_curve(results, model_name=model_name, fold=fold, show_plot=False)\n",
    "        plt.legend(loc='lower right')\n",
    "        plt.title(f'Curva PR - {model_name} (Overlapped)')\n",
    "    \n",
    "    else:\n",
    "        # Calculate the number of rows needed for two columns\n",
    "        n_rows = (TOTAL_SPLITS + 1) // 2\n",
    "\n",
    "        # Create a figure with subplots arranged in two columns\n",
    "        fig, axes = plt.subplots(n_rows, 2, figsize=(10, 4 * n_rows))  # Adjust width and height\n",
    "\n",
    "        # Flatten the axes array for easier indexing\n",
    "        axes = axes.flatten()\n",
    "\n",
    "        # Plot each fold's ROC curve\n",
    "        for fold in range(TOTAL_SPLITS):\n",
    "            ax = axes[fold]\n",
    "            plt.sca(ax)  # Set current axis\n",
    "            plot_pr_curve(results, model_name=model_name, fold=fold, show_plot=False)\n",
    "            ax.set_title(f'Curva PR - {model_name} (Fold {fold + 1})')\n",
    "\n",
    "        # Hide any unused subplots\n",
    "        for i in range(TOTAL_SPLITS, len(axes)):\n",
    "            axes[i].axis('off')\n",
    "\n",
    "    # Adjust layout for better spacing\n",
    "    plt.tight_layout()\n",
    "\n",
    "    # Show the combined plot\n",
    "    plt.show()\n",
    "\n",
    "interact(plot_model_pr_curves, model_name=results.keys(), overlapped=[True, False])"
   ]
  },
  {
   "cell_type": "markdown",
   "metadata": {
    "id": "MmujMeBpoAkU"
   },
   "source": [
    "# 5 - Importâncias dos Atributos\n"
   ]
  },
  {
   "cell_type": "markdown",
   "metadata": {
    "id": "UT5hVGjgAAwi"
   },
   "source": [
    "- Baseado nos valores de `feature_importances_` calculados em alguns modelos"
   ]
  },
  {
   "cell_type": "code",
   "execution_count": 28,
   "metadata": {
    "cellView": "form",
    "executionInfo": {
     "elapsed": 51,
     "status": "ok",
     "timestamp": 1678973723605,
     "user": {
      "displayName": "PABLO SAMPAIO",
      "userId": "06578877141428254753"
     },
     "user_tz": 180
    },
    "id": "AfddNtwOrJyF",
    "metadata": {}
   },
   "outputs": [],
   "source": [
    "#@title Definições auxiliares (não precisa abrir)\n",
    "from sklearn.tree import plot_tree\n",
    "\n",
    "\n",
    "def plot_importance(importances, title=None, max_features=None, feature_names=None, sort=True, ax=None):\n",
    "    \"\"\"\n",
    "    Plot feature importances for a scikit-learn random forest or gradient boosting model.\n",
    "\n",
    "    Parameters\n",
    "    ----------\n",
    "    model : object\n",
    "        A scikit-learn random forest or gradient boosting model.\n",
    "    title: str or None, optional (default=None)\n",
    "        The title of the plot.\n",
    "    max_features : int or None, optional (default=None)\n",
    "        The maximum number of features to plot. If None, plot all features.\n",
    "    feature_names : list or None, optional (default=None)\n",
    "        A list of feature names to use in the plot. If None, use the feature indices.\n",
    "    sort : bool, optional (default=True)\n",
    "        Whether to sort the feature importances in descending order.\n",
    "    ax : matplotlib.axes.Axes or None, optional (default=None)\n",
    "        The matplotlib axes to plot the feature importances on. If None, create a new figure and axes.\n",
    "\n",
    "    Returns\n",
    "    -------\n",
    "    ax : matplotlib.axes.Axes\n",
    "        The matplotlib axes containing the plot.\n",
    "\n",
    "    \"\"\"\n",
    "    # Extract feature importances\n",
    "    #importances = model.feature_importances_\n",
    "\n",
    "    # Get feature names\n",
    "    if feature_names is None:\n",
    "        feature_names = [str(i) for i in range(len(importances))]\n",
    "\n",
    "    # Sort feature importances\n",
    "    if sort:\n",
    "        indices = np.argsort(importances)[::-1]\n",
    "        importances = importances[indices]\n",
    "        feature_names = [feature_names[i] for i in indices]\n",
    "\n",
    "    # Truncate feature importances\n",
    "    if max_features is not None:\n",
    "        importances = importances[:max_features]\n",
    "        feature_names = feature_names[:max_features]\n",
    "\n",
    "    # Create plot\n",
    "    if ax is None:\n",
    "        fig, ax = plt.subplots()\n",
    "   \n",
    "    if title:\n",
    "        ax.set_title(title, fontsize=12)\n",
    "\n",
    "    ax.barh(np.arange(len(importances)), importances, align='center')\n",
    "    ax.set_yticks(np.arange(len(importances)))\n",
    "    ax.set_yticklabels(feature_names)\n",
    "    #ax.set_xlabel('Gini importance', fontsize=10)\n",
    "    ax.invert_yaxis()\n",
    "\n",
    "    return ax"
   ]
  },
  {
   "cell_type": "markdown",
   "metadata": {},
   "source": [
    "Mostras as importâncias para CADA uma das configurações ótimas (1 por outer fold) do modelo"
   ]
  },
  {
   "cell_type": "code",
   "execution_count": 29,
   "metadata": {},
   "outputs": [],
   "source": [
    "from sklearn import clone"
   ]
  },
  {
   "cell_type": "code",
   "execution_count": 30,
   "metadata": {},
   "outputs": [
    {
     "data": {
      "image/png": "[encoded data removed]",
      "text/plain": [
       "<Figure size 1400x4000 with 5 Axes>"
      ]
     },
     "metadata": {},
     "output_type": "display_data"
    }
   ],
   "source": [
    "for model_name in results.keys():\n",
    "    if 'vote' in model_name:\n",
    "        continue\n",
    "\n",
    "    model_pipeline = results[model_name]['best_models'][0]  # the best model found in the first fold\n",
    "    model_predictor = model_pipeline.named_steps['predictor']\n",
    "\n",
    "    # testa se o modelo guarda as importâncias das features\n",
    "    if not hasattr(model_predictor, 'feature_importances_'):\n",
    "        print(f\"O modelo {model_name} não registra as importâncias das features\")\n",
    "        continue\n",
    "\n",
    "    fig, axs = plt.subplots(TOTAL_SPLITS, 1, figsize=(14, 8 * TOTAL_SPLITS))\n",
    "    \n",
    "    # Configurando a validação cruzada externa (igual à da função de treinamento)\n",
    "    cv_outer = metadata['cv_outer']\n",
    "\n",
    "    fold = 0\n",
    "    for train_ix, test_ix in cv_outer.split(dfx, dfy):\n",
    "        X_train = dfx.iloc[train_ix]\n",
    "        y_train = dfy.iloc[train_ix]\n",
    "\n",
    "        model_pipeline = results[model_name]['best_models'][fold]\n",
    "        model_predictor = model_pipeline.named_steps['predictor']\n",
    "        \n",
    "        model_pipeline.fit(X_train, y_train)\n",
    "\n",
    "        #features_names = model_pipeline.named_steps['preproc'].get_feature_names_out()\n",
    "        features_names = None\n",
    "        importances = model_predictor.feature_importances_\n",
    "        plot_importance(importances, \n",
    "                        title=f\"Importância das features no modelo {model_name} / fold {fold+1}\", \n",
    "                        feature_names=features_names, \n",
    "                        max_features=10, \n",
    "                        ax=axs[fold])\n",
    "        fold += 1"
   ]
  },
  {
   "cell_type": "code",
   "execution_count": 31,
   "metadata": {},
   "outputs": [
    {
     "name": "stdout",
     "output_type": "stream",
     "text": [
      "\n",
      "FOLD 0\n",
      "number of components: 10\n",
      "total explained variance: 875.373\n",
      "most important pca-generated feature: #0\n",
      "composition of pca-generated feature #0 (top 10 original features of highest absolute weights)\n",
      " - Dias Decorridos: 0.9999\n",
      " - Only Hashtags: 0.0023\n",
      " - x202: 0.0021\n",
      " - x272: -0.0016\n",
      " - x173: 0.0013\n",
      " - x252: -0.0013\n",
      " - x133: -0.0013\n",
      " - x42: -0.0013\n",
      " - x60: -0.0013\n",
      " - x259: 0.0013\n",
      "\n",
      "FOLD 1\n",
      "number of components: 20\n",
      "total explained variance: 915.580\n",
      "most important pca-generated feature: #0\n",
      "composition of pca-generated feature #0 (top 10 original features of highest absolute weights)\n",
      " - Dias Decorridos: 1.0000\n",
      " - Only Hashtags: 0.0024\n",
      " - x202: 0.0018\n",
      " - x272: -0.0015\n",
      " - x173: 0.0015\n",
      " - x120: 0.0013\n",
      " - x133: -0.0013\n",
      " - x356: 0.0012\n",
      " - x252: -0.0011\n",
      " - x73: -0.0011\n",
      "\n",
      "FOLD 2\n",
      "number of components: 20\n",
      "total explained variance: 915.580\n",
      "most important pca-generated feature: #0\n",
      "composition of pca-generated feature #0 (top 10 original features of highest absolute weights)\n",
      " - Dias Decorridos: 1.0000\n",
      " - Only Hashtags: 0.0024\n",
      " - x202: 0.0018\n",
      " - x272: -0.0015\n",
      " - x173: 0.0015\n",
      " - x120: 0.0013\n",
      " - x133: -0.0013\n",
      " - x356: 0.0012\n",
      " - x252: -0.0011\n",
      " - x73: -0.0011\n",
      "\n",
      "FOLD 3\n",
      "number of components: 10\n",
      "total explained variance: 875.373\n",
      "most important pca-generated feature: #0\n",
      "composition of pca-generated feature #0 (top 10 original features of highest absolute weights)\n",
      " - Dias Decorridos: 0.9999\n",
      " - Only Hashtags: 0.0023\n",
      " - x202: 0.0021\n",
      " - x272: -0.0016\n",
      " - x173: 0.0013\n",
      " - x252: -0.0013\n",
      " - x133: -0.0013\n",
      " - x42: -0.0013\n",
      " - x60: -0.0013\n",
      " - x259: 0.0013\n",
      "\n",
      "FOLD 4\n",
      "number of components: 30\n",
      "total explained variance: 897.673\n",
      "most important pca-generated feature: #0\n",
      "composition of pca-generated feature #0 (top 10 original features of highest absolute weights)\n",
      " - Dias Decorridos: 1.0000\n",
      " - Only Hashtags: 0.0028\n",
      " - x202: 0.0021\n",
      " - x173: 0.0014\n",
      " - x272: -0.0013\n",
      " - x120: 0.0013\n",
      " - x133: -0.0012\n",
      " - x60: -0.0012\n",
      " - x73: -0.0012\n",
      " - x252: -0.0012\n"
     ]
    }
   ],
   "source": [
    "# Features identificadas nos gráficos acima como a mais importante de cada fold (ordenadas pelo fold)\n",
    "#important_pca_features = [3, 17, 3, 0, 0]\n",
    "important_pca_features = [0, 0, 0, 0, 0]\n",
    "\n",
    "for fold, feature in enumerate(important_pca_features):\n",
    "    print(f\"\\nFOLD {fold}\")\n",
    "    random_forest_pipeline = results['Random Forest']['best_models'][fold]\n",
    "    \n",
    "    pca = random_forest_pipeline.named_steps['pca']\n",
    "    print(f\"number of components: {pca.n_components_}\")\n",
    "    print(f\"total explained variance: {np.sum(pca.explained_variance_):.3f}\") ## ??\n",
    "    print(f\"most important pca-generated feature: #{feature}\")\n",
    "    \n",
    "    print(f\"composition of pca-generated feature #{feature} (top 10 original features of highest absolute weights)\")\n",
    "    indices = np.argsort(np.abs(pca.components_[feature]))[::-1][:10]\n",
    "    for i in indices:\n",
    "        print(f\" - {dfx.columns[i]}: {pca.components_[feature][i]:.4f}\")"
   ]
  },
  {
   "cell_type": "markdown",
   "metadata": {},
   "source": [
    "-----"
   ]
  },
  {
   "cell_type": "markdown",
   "metadata": {},
   "source": [
    "# FIM"
   ]
  }
 ],
 "metadata": {
  "colab": {
   "authorship_tag": "ABX9TyOuiv0RFkkwcXnb26LS0lwg",
   "provenance": [
    {
     "file_id": "1y8SEBwz0ltHkmfXNFpsBTWvHkCb-CFdt",
     "timestamp": 1676506165799
    }
   ]
  },
  "kernelspec": {
   "display_name": "socialnet",
   "language": "python",
   "name": "python3"
  },
  "language_info": {
   "codemirror_mode": {
    "name": "ipython",
    "version": 3
   },
   "file_extension": ".py",
   "mimetype": "text/x-python",
   "name": "python",
   "nbconvert_exporter": "python",
   "pygments_lexer": "ipython3",
   "version": "3.10.14"
  }
 },
 "nbformat": 4,
 "nbformat_minor": 0
}
