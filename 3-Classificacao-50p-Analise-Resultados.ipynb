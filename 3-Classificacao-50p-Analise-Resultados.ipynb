{
 "cells": [
  {
   "cell_type": "markdown",
   "metadata": {},
   "source": [
    "# Análise dos Resultados da Previsão de Engajamento - Classificação"
   ]
  },
  {
   "cell_type": "code",
   "execution_count": 33,
   "metadata": {
    "cellView": "form",
    "executionInfo": {
     "elapsed": 3119,
     "status": "ok",
     "timestamp": 1678973020538,
     "user": {
      "displayName": "PABLO SAMPAIO",
      "userId": "06578877141428254753"
     },
     "user_tz": 180
    },
    "id": "OJV4GlB7-Jqx",
    "metadata": {}
   },
   "outputs": [],
   "source": [
    "#@title Importações de pacote\n",
    "import pandas as pd\n",
    "import numpy as np\n",
    "import matplotlib.pyplot as plt\n",
    "\n",
    "from util import load_results, filter_dataset"
   ]
  },
  {
   "cell_type": "code",
   "execution_count": 34,
   "metadata": {
    "metadata": {}
   },
   "outputs": [],
   "source": [
    "BASE_PATH = 'dados/preprocessed/'\n",
    "TYPE_NAME = 'paraphrase-multilingual-MiniLM'\n",
    "SOCIAL_NETWORK = 'tiktok'"
   ]
  },
  {
   "cell_type": "code",
   "execution_count": 35,
   "metadata": {},
   "outputs": [],
   "source": [
    "# ALTERE AQUI !!!\n",
    "RESULTS_FILE_PATH = \"resultados/resultados50p_2025-04-03-00h20m_bolsonaro(mxbai-embed-large-v1)_(tiktok).npy\"  # TODAS as features\n",
    "#RESULTS_FILE_PATH = \"resultados/resultados50p_2025-04-03-00h42m_bolsonaro(mxbai-embed-large-v1)_(tiktok).npy\"  # usa APENAS os embeddings"
   ]
  },
  {
   "cell_type": "markdown",
   "metadata": {
    "id": "xg4V0QFFLo7g"
   },
   "source": [
    "# 1 - Carregando Dados"
   ]
  },
  {
   "cell_type": "markdown",
   "metadata": {},
   "source": [
    "Carregando os dados dos resultados."
   ]
  },
  {
   "cell_type": "code",
   "execution_count": 36,
   "metadata": {},
   "outputs": [],
   "source": [
    "metadata, results = load_results(RESULTS_FILE_PATH)"
   ]
  },
  {
   "cell_type": "code",
   "execution_count": 37,
   "metadata": {},
   "outputs": [
    {
     "data": {
      "text/plain": [
       "{'date': '2025-04-03-00h20m',\n",
       " 'subdataset': 'bolsonaro',\n",
       " 'dropped_columns': [],\n",
       " 'target': 'Curtidas-2Classes-50p',\n",
       " 'random_state': 1231,\n",
       " 'description': 'Treinamento com \\n    - dados balanceados (50p) \\n    - dataset bolsonaro\\n    - com todos os modelos, incluindo novos ensembles (sem vazamento?)\\n    - SEM contar com a coluna \"Dias Decorridos\"\\n',\n",
       " 'basic_models': ['Random Forest', 'KNN'],\n",
       " 'cv_outer': RepeatedStratifiedKFold(n_repeats=1, n_splits=5, random_state=1231),\n",
       " 'cv_inner': StratifiedKFold(n_splits=5, random_state=None, shuffle=True),\n",
       " 'dropped_features': []}"
      ]
     },
     "execution_count": 37,
     "metadata": {},
     "output_type": "execute_result"
    }
   ],
   "source": [
    "metadata"
   ]
  },
  {
   "cell_type": "code",
   "execution_count": 38,
   "metadata": {},
   "outputs": [
    {
     "name": "stdout",
     "output_type": "stream",
     "text": [
      "Treinamento com \n",
      "    - dados balanceados (50p) \n",
      "    - dataset bolsonaro\n",
      "    - com todos os modelos, incluindo novos ensembles (sem vazamento?)\n",
      "    - SEM contar com a coluna \"Dias Decorridos\"\n",
      "\n"
     ]
    }
   ],
   "source": [
    "print(metadata['description'])"
   ]
  },
  {
   "cell_type": "code",
   "execution_count": 39,
   "metadata": {},
   "outputs": [
    {
     "data": {
      "text/plain": [
       "[]"
      ]
     },
     "execution_count": 39,
     "metadata": {},
     "output_type": "execute_result"
    }
   ],
   "source": [
    "metadata['dropped_features']"
   ]
  },
  {
   "cell_type": "markdown",
   "metadata": {
    "id": "Z_SocVpnTp-p"
   },
   "source": [
    "Carregando dados brutos."
   ]
  },
  {
   "cell_type": "code",
   "execution_count": 40,
   "metadata": {
    "executionInfo": {
     "elapsed": 838,
     "status": "ok",
     "timestamp": 1678973021364,
     "user": {
      "displayName": "PABLO SAMPAIO",
      "userId": "06578877141428254753"
     },
     "user_tz": 180
    },
    "id": "pbGadD5L-aMf",
    "metadata": {}
   },
   "outputs": [],
   "source": [
    "dfx_full = pd.read_excel(f\"{BASE_PATH}full-preproc2-inputs_{TYPE_NAME}_{SOCIAL_NETWORK}.xlsx\", index_col='ID')\n",
    "dfy_full = pd.read_excel(f\"{BASE_PATH}full-preproc2-outputs_{TYPE_NAME}_{SOCIAL_NETWORK}.xlsx\", index_col='ID')"
   ]
  },
  {
   "cell_type": "code",
   "execution_count": 41,
   "metadata": {},
   "outputs": [
    {
     "name": "stdout",
     "output_type": "stream",
     "text": [
      "Dataset BOLSONARO (indicador 0)\n"
     ]
    }
   ],
   "source": [
    "dfx, dfy = filter_dataset(dfx_full, dfy_full, metadata)"
   ]
  },
  {
   "cell_type": "code",
   "execution_count": 42,
   "metadata": {},
   "outputs": [
    {
     "data": {
      "text/plain": [
       "Index(['Only Hashtags', 'Dias Decorridos', 'x1', 'x2', 'x3', 'x4', 'x5', 'x6',\n",
       "       'x7', 'x8',\n",
       "       ...\n",
       "       'x375', 'x376', 'x377', 'x378', 'x379', 'x380', 'x381', 'x382', 'x383',\n",
       "       'x384'],\n",
       "      dtype='object', length=386)"
      ]
     },
     "execution_count": 42,
     "metadata": {},
     "output_type": "execute_result"
    }
   ],
   "source": [
    "dfx.columns"
   ]
  },
  {
   "cell_type": "code",
   "execution_count": 43,
   "metadata": {},
   "outputs": [
    {
     "data": {
      "text/plain": [
       "['Random Forest', 'KNN']"
      ]
     },
     "execution_count": 43,
     "metadata": {},
     "output_type": "execute_result"
    }
   ],
   "source": [
    "BASIC_MODEL_NAMES = metadata['basic_models']\n",
    "BASIC_MODEL_NAMES"
   ]
  },
  {
   "cell_type": "code",
   "execution_count": 44,
   "metadata": {},
   "outputs": [
    {
     "data": {
      "text/plain": [
       "5"
      ]
     },
     "execution_count": 44,
     "metadata": {},
     "output_type": "execute_result"
    }
   ],
   "source": [
    "TOTAL_SPLITS = metadata['cv_outer'].get_n_splits()\n",
    "TOTAL_SPLITS"
   ]
  },
  {
   "cell_type": "markdown",
   "metadata": {},
   "source": [
    "# 2 - Métricas Principais"
   ]
  },
  {
   "cell_type": "code",
   "execution_count": 45,
   "metadata": {
    "metadata": {}
   },
   "outputs": [],
   "source": [
    "from ipywidgets import interact"
   ]
  },
  {
   "cell_type": "code",
   "execution_count": 46,
   "metadata": {},
   "outputs": [
    {
     "name": "stdout",
     "output_type": "stream",
     "text": [
      "Modelos testados:\n"
     ]
    },
    {
     "data": {
      "text/plain": [
       "dict_keys(['Random Forest', 'KNN', 'FOLD_00-hard-vote', 'FOLD_00-soft-vote', 'FOLD_01-hard-vote', 'FOLD_01-soft-vote', 'FOLD_02-hard-vote', 'FOLD_02-soft-vote', 'FOLD_03-hard-vote', 'FOLD_03-soft-vote', 'FOLD_04-hard-vote', 'FOLD_04-soft-vote', 'Best-hard-vote', 'Best-soft-vote'])"
      ]
     },
     "execution_count": 46,
     "metadata": {},
     "output_type": "execute_result"
    }
   ],
   "source": [
    "# Modelos disponíveis (básicos e ensemble)\n",
    "print(\"Modelos testados:\")\n",
    "results.keys()"
   ]
  },
  {
   "cell_type": "code",
   "execution_count": 47,
   "metadata": {
    "metadata": {}
   },
   "outputs": [],
   "source": [
    "METRICS = [\n",
    "    'f1_score_mean', 'f1_score_std', \n",
    "    'precision_mean', 'precision_std', \n",
    "    'recall_mean', 'recall_std', \n",
    "    'accuracy_mean', 'accuracy_std', \n",
    "    'auc_roc_mean', 'auc_roc_std', \n",
    "    'auc_pr_mean', 'auc_pr_std'\n",
    "]"
   ]
  },
  {
   "cell_type": "code",
   "execution_count": 48,
   "metadata": {
    "metadata": {}
   },
   "outputs": [],
   "source": [
    "df_result = pd.DataFrame(results).T\n",
    "df_result = df_result[METRICS]"
   ]
  },
  {
   "cell_type": "markdown",
   "metadata": {},
   "source": [
    "## 2.1 - Modelos Básicos"
   ]
  },
  {
   "cell_type": "markdown",
   "metadata": {},
   "source": [
    "Resultados ordenados pelo F1-score."
   ]
  },
  {
   "cell_type": "code",
   "execution_count": 49,
   "metadata": {},
   "outputs": [
    {
     "data": {
      "text/html": [
       "<div>\n",
       "<style scoped>\n",
       "    .dataframe tbody tr th:only-of-type {\n",
       "        vertical-align: middle;\n",
       "    }\n",
       "\n",
       "    .dataframe tbody tr th {\n",
       "        vertical-align: top;\n",
       "    }\n",
       "\n",
       "    .dataframe thead th {\n",
       "        text-align: right;\n",
       "    }\n",
       "</style>\n",
       "<table border=\"1\" class=\"dataframe\">\n",
       "  <thead>\n",
       "    <tr style=\"text-align: right;\">\n",
       "      <th></th>\n",
       "      <th>f1_score_mean</th>\n",
       "      <th>f1_score_std</th>\n",
       "      <th>precision_mean</th>\n",
       "      <th>precision_std</th>\n",
       "      <th>recall_mean</th>\n",
       "      <th>recall_std</th>\n",
       "      <th>accuracy_mean</th>\n",
       "      <th>accuracy_std</th>\n",
       "      <th>auc_roc_mean</th>\n",
       "      <th>auc_roc_std</th>\n",
       "      <th>auc_pr_mean</th>\n",
       "      <th>auc_pr_std</th>\n",
       "    </tr>\n",
       "  </thead>\n",
       "  <tbody>\n",
       "    <tr>\n",
       "      <th>Random Forest</th>\n",
       "      <td>0.656221</td>\n",
       "      <td>0.031745</td>\n",
       "      <td>0.658544</td>\n",
       "      <td>0.052365</td>\n",
       "      <td>0.661538</td>\n",
       "      <td>0.066172</td>\n",
       "      <td>0.653846</td>\n",
       "      <td>0.040339</td>\n",
       "      <td>0.687278</td>\n",
       "      <td>0.069592</td>\n",
       "      <td>0.663935</td>\n",
       "      <td>0.085241</td>\n",
       "    </tr>\n",
       "    <tr>\n",
       "      <th>KNN</th>\n",
       "      <td>0.634342</td>\n",
       "      <td>0.059913</td>\n",
       "      <td>0.659509</td>\n",
       "      <td>0.094393</td>\n",
       "      <td>0.623077</td>\n",
       "      <td>0.095459</td>\n",
       "      <td>0.642308</td>\n",
       "      <td>0.060325</td>\n",
       "      <td>0.697337</td>\n",
       "      <td>0.064605</td>\n",
       "      <td>0.681295</td>\n",
       "      <td>0.060463</td>\n",
       "    </tr>\n",
       "  </tbody>\n",
       "</table>\n",
       "</div>"
      ],
      "text/plain": [
       "              f1_score_mean f1_score_std precision_mean precision_std  \\\n",
       "Random Forest      0.656221     0.031745       0.658544      0.052365   \n",
       "KNN                0.634342     0.059913       0.659509      0.094393   \n",
       "\n",
       "              recall_mean recall_std accuracy_mean accuracy_std auc_roc_mean  \\\n",
       "Random Forest    0.661538   0.066172      0.653846     0.040339     0.687278   \n",
       "KNN              0.623077   0.095459      0.642308     0.060325     0.697337   \n",
       "\n",
       "              auc_roc_std auc_pr_mean auc_pr_std  \n",
       "Random Forest    0.069592    0.663935   0.085241  \n",
       "KNN              0.064605    0.681295   0.060463  "
      ]
     },
     "execution_count": 49,
     "metadata": {},
     "output_type": "execute_result"
    }
   ],
   "source": [
    "df_result.loc[df_result.index.isin(BASIC_MODEL_NAMES), :].sort_values('f1_score_mean', ascending=False)"
   ]
  },
  {
   "cell_type": "markdown",
   "metadata": {},
   "source": [
    "## 2.2 - Todos os Modelos"
   ]
  },
  {
   "cell_type": "code",
   "execution_count": 50,
   "metadata": {
    "metadata": {}
   },
   "outputs": [
    {
     "data": {
      "application/vnd.jupyter.widget-view+json": {
       "model_id": "5d7eb98423634bfab09c0dcae9fe9cd3",
       "version_major": 2,
       "version_minor": 0
      },
      "text/plain": [
       "interactive(children=(Dropdown(description='order_by', options=('f1_score_mean', 'f1_score_std', 'precision_me…"
      ]
     },
     "metadata": {},
     "output_type": "display_data"
    }
   ],
   "source": [
    "def order_models_by(order_by):\n",
    "    display(df_result.sort_values(by=order_by, ascending=False))\n",
    "    return\n",
    "\n",
    "interact(order_models_by, order_by=METRICS);"
   ]
  },
  {
   "cell_type": "markdown",
   "metadata": {},
   "source": [
    "## 2.3 - Classificador Aleatório (para comparação)"
   ]
  },
  {
   "cell_type": "code",
   "execution_count": 51,
   "metadata": {},
   "outputs": [],
   "source": [
    "from classification_util import random_classifier_results"
   ]
  },
  {
   "cell_type": "code",
   "execution_count": 52,
   "metadata": {
    "metadata": {}
   },
   "outputs": [
    {
     "name": "stdout",
     "output_type": "stream",
     "text": [
      "RANDOM CLASSIFIER (50% chance for class 1)\n",
      " - F1-Score   : 0.5019 +/- 0.0357\n",
      " - Acurácia   : 0.4997 +/- 0.0331\n",
      " - Precisão   : 0.4997 +/- 0.0328\n",
      " - Revocação  : 0.5049 +/- 0.0434\n",
      " - AUC ROC    : 0.5000 +/- 0.0000\n",
      " - AUC PR     : 0.5000 +/- 0.0000\n",
      "================================================== \n",
      "\n"
     ]
    }
   ],
   "source": [
    "CLASSIFIER_TRUE_PROB = 0.5\n",
    "\n",
    "rand_results = random_classifier_results(dfy, classifier_true_prob=CLASSIFIER_TRUE_PROB, trials=100)\n",
    "\n",
    "print(f\"RANDOM CLASSIFIER ({100*CLASSIFIER_TRUE_PROB:.0f}% chance for class 1)\")\n",
    "print(f\" - F1-Score   : {rand_results['f1_score_mean']:.4f} +/- {rand_results['f1_score_std']:.4f}\")\n",
    "print(f\" - Acurácia   : {rand_results['accuracy_mean']:.4f} +/- {rand_results['accuracy_std']:.4f}\")\n",
    "print(f\" - Precisão   : {rand_results['precision_mean']:.4f} +/- {rand_results['precision_std']:.4f}\")\n",
    "print(f\" - Revocação  : {rand_results['recall_mean']:.4f} +/- {rand_results['recall_std']:.4f}\")\n",
    "print(f\" - AUC ROC    : {rand_results['auc_roc_mean']:.4f} +/- {rand_results['auc_roc_std']:.4f}\")\n",
    "print(f\" - AUC PR     : {rand_results['auc_pr_mean']:.4f} +/- {rand_results['auc_pr_std']:.4f}\")\n",
    "print('=' * 50, '\\n')"
   ]
  },
  {
   "cell_type": "markdown",
   "metadata": {},
   "source": [
    "# 3 - Melhores Hiper-Parâmetros"
   ]
  },
  {
   "cell_type": "markdown",
   "metadata": {},
   "source": [
    "### 3.1 - Valores de parâmetros mais frequentes entre os melhores, por modelo"
   ]
  },
  {
   "cell_type": "code",
   "execution_count": 53,
   "metadata": {
    "metadata": {}
   },
   "outputs": [
    {
     "data": {
      "application/vnd.jupyter.widget-view+json": {
       "model_id": "39989b3c171940c1b51e84c7ec51ab8e",
       "version_major": 2,
       "version_minor": 0
      },
      "text/plain": [
       "interactive(children=(Dropdown(description='model_name', options=('Random Forest', 'KNN'), value='Random Fores…"
      ]
     },
     "metadata": {},
     "output_type": "display_data"
    },
    {
     "data": {
      "text/plain": [
       "<function __main__.aggregate_best_params(model_name)>"
      ]
     },
     "execution_count": 53,
     "metadata": {},
     "output_type": "execute_result"
    }
   ],
   "source": [
    "from collections import Counter\n",
    "\n",
    "def aggregate_best_params(model_name):\n",
    "    best_params_list = results[model_name]['best_parameters']\n",
    "    \n",
    "    # for each name of parameter, counts the number of times each of its value appeared among the best\n",
    "    params_count = dict()\n",
    "\n",
    "    for param_name in best_params_list[0].keys():\n",
    "        # fora each value of the parameter, counts the occurences\n",
    "        params_count[param_name] = Counter()\n",
    "        \n",
    "        for params in best_params_list:\n",
    "            if param_name == 'preproc':\n",
    "                param_value = params[param_name]._simplified_name\n",
    "            else:\n",
    "                param_value = params[param_name]\n",
    "            params_count[param_name][param_value] += 1\n",
    "    \n",
    "    display(params_count)\n",
    "\n",
    "#aggregate_best_params('Logistic Regression')\n",
    "interact(aggregate_best_params, model_name=BASIC_MODEL_NAMES)"
   ]
  },
  {
   "cell_type": "markdown",
   "metadata": {},
   "source": [
    "### 3.2 - Melhor modelo *básico* por fold (e seus hiperparâmetros)"
   ]
  },
  {
   "cell_type": "code",
   "execution_count": 54,
   "metadata": {
    "metadata": {}
   },
   "outputs": [
    {
     "name": "stdout",
     "output_type": "stream",
     "text": [
      "FOLD 0 - best model is a 'Random Forest' with hiper-parameters:\n",
      " - pca: PCA(n_components=10)\n",
      " - predictor__max_depth: 3\n",
      " - predictor__min_samples_split: 4\n",
      " - predictor__n_estimators: 30\n",
      " - F1 score: 0.6531\n",
      "FOLD 1 - best model is a 'Random Forest' with hiper-parameters:\n",
      " - pca: PCA(n_components=10)\n",
      " - predictor__max_depth: 3\n",
      " - predictor__min_samples_split: 4\n",
      " - predictor__n_estimators: 70\n",
      " - F1 score: 0.6923\n",
      "FOLD 2 - best model is a 'KNN' with hiper-parameters:\n",
      " - pca: PCA(n_components=30)\n",
      " - predictor__metric: cosine\n",
      " - predictor__n_neighbors: 20\n",
      " - predictor__weights: uniform\n",
      " - scaler: IdentityTransformer()\n",
      " - F1 score: 0.6122\n",
      "FOLD 3 - best model is a 'KNN' with hiper-parameters:\n",
      " - pca: PCA(n_components=10)\n",
      " - predictor__metric: manhattan\n",
      " - predictor__n_neighbors: 15\n",
      " - predictor__weights: distance\n",
      " - scaler: IdentityTransformer()\n",
      " - F1 score: 0.7000\n",
      "FOLD 4 - best model is a 'KNN' with hiper-parameters:\n",
      " - pca: PCA(n_components=30)\n",
      " - predictor__metric: manhattan\n",
      " - predictor__n_neighbors: 15\n",
      " - predictor__weights: distance\n",
      " - scaler: IdentityTransformer()\n",
      " - F1 score: 0.7111\n"
     ]
    }
   ],
   "source": [
    "def list_best_model_per_fold():\n",
    "    for fold in range(TOTAL_SPLITS):   \n",
    "        best_f1 = 0.0\n",
    "        best_model_params = None\n",
    "        best_model_name = None\n",
    "        for model_name in BASIC_MODEL_NAMES:\n",
    "            if results[model_name]['f1_score_list'][fold] > best_f1:\n",
    "                best_f1 = results[model_name]['f1_score_list'][fold]\n",
    "                best_model_params = results[model_name]['best_parameters'][fold]\n",
    "                best_model_name = model_name\n",
    "        \n",
    "        print(f\"FOLD {fold} - best model is a '{best_model_name}' with hiper-parameters:\")\n",
    "        if best_model_params is not None:\n",
    "            for key in best_model_params:\n",
    "                if key is not None:\n",
    "                    print(f\" - {key}: {best_model_params[key]}\")\n",
    "        print(f\" - F1 score: {results[best_model_name]['f1_score_list'][fold]:.4f}\")\n",
    "\n",
    "list_best_model_per_fold()"
   ]
  },
  {
   "cell_type": "markdown",
   "metadata": {},
   "source": [
    "### 3.3 - Melhores hiperparâmetros de cada modelo (em todos os folds)"
   ]
  },
  {
   "cell_type": "markdown",
   "metadata": {},
   "source": [
    "Observação: A seção 3.1 mostra esta informação de forma mais condensada."
   ]
  },
  {
   "cell_type": "code",
   "execution_count": 55,
   "metadata": {
    "metadata": {}
   },
   "outputs": [
    {
     "data": {
      "application/vnd.jupyter.widget-view+json": {
       "model_id": "223837dce9234e9b9593f30b79a298f7",
       "version_major": 2,
       "version_minor": 0
      },
      "text/plain": [
       "interactive(children=(Dropdown(description='model_name', options=('Random Forest', 'KNN'), value='Random Fores…"
      ]
     },
     "metadata": {},
     "output_type": "display_data"
    },
    {
     "data": {
      "text/plain": [
       "<function __main__.list_all_best_params(model_name)>"
      ]
     },
     "execution_count": 55,
     "metadata": {},
     "output_type": "execute_result"
    }
   ],
   "source": [
    "def list_all_best_params(model_name):\n",
    "    best_params_list = results[model_name]['best_parameters']\n",
    "    for i, paramset in enumerate(best_params_list):\n",
    "        print(\"BEST PARAM SET IN FOLD\", i, \":\")\n",
    "        for key in paramset.keys():\n",
    "            print(f\" - {key}: {paramset[key]}\")\n",
    "        print(f\" - F1 score: {results[model_name]['f1_score_list'][i]:.4f}\")\n",
    "\n",
    "\n",
    "#list_all_best_params('Logistic Regression')\n",
    "#list_all_best_params('Random Forest')\n",
    "#list_all_best_params('Support Vector Machine')\n",
    "\n",
    "interact(list_all_best_params, model_name=BASIC_MODEL_NAMES)"
   ]
  },
  {
   "cell_type": "markdown",
   "metadata": {},
   "source": [
    "# 4 - Curvas ROC e PR"
   ]
  },
  {
   "cell_type": "code",
   "execution_count": 56,
   "metadata": {},
   "outputs": [],
   "source": [
    "from classification_util import plot_roc_curve, plot_pr_curve"
   ]
  },
  {
   "cell_type": "code",
   "execution_count": 57,
   "metadata": {},
   "outputs": [
    {
     "data": {
      "application/vnd.jupyter.widget-view+json": {
       "model_id": "83a0a335abe846a3b5575a41342fe78b",
       "version_major": 2,
       "version_minor": 0
      },
      "text/plain": [
       "interactive(children=(Dropdown(description='model_name', options=('Random Forest', 'KNN', 'FOLD_00-hard-vote',…"
      ]
     },
     "metadata": {},
     "output_type": "display_data"
    },
    {
     "data": {
      "text/plain": [
       "<function __main__.plot_model_roc_curves(model_name, overlapped=True)>"
      ]
     },
     "execution_count": 57,
     "metadata": {},
     "output_type": "execute_result"
    }
   ],
   "source": [
    "def plot_model_roc_curves(model_name, overlapped=True):\n",
    "    if overlapped:\n",
    "        # Plot ROC curves for all folds in a single plot\n",
    "        plt.figure(figsize=(10, 6))\n",
    "        for fold in range(TOTAL_SPLITS):\n",
    "            plot_roc_curve(results, model_name=model_name, fold=fold, show_plot=False, plot_ref_line=False)\n",
    "        plt.plot([0, 1], [0, 1], 'r--', label='Random Guess')\n",
    "        plt.legend(loc='lower right')\n",
    "        plt.title(f'Curva ROC - {model_name} (Overlapped)')\n",
    "    \n",
    "    else:\n",
    "        # Calculate the number of rows needed for two columns\n",
    "        n_rows = (TOTAL_SPLITS + 1) // 2\n",
    "\n",
    "        # Create a figure with subplots arranged in two columns\n",
    "        fig, axes = plt.subplots(n_rows, 2, figsize=(10, 4 * n_rows))  # Adjust width and height\n",
    "\n",
    "        # Flatten the axes array for easier indexing\n",
    "        axes = axes.flatten()\n",
    "\n",
    "        # Plot each fold's ROC curve\n",
    "        for fold in range(TOTAL_SPLITS):\n",
    "            ax = axes[fold]\n",
    "            plt.sca(ax)  # Set current axis\n",
    "            plot_roc_curve(results, model_name=model_name, fold=fold, show_plot=False, plot_ref_line=True)\n",
    "            ax.set_title(f'Curva ROC - {model_name} (Fold {fold + 1})')\n",
    "\n",
    "        # Hide any unused subplots\n",
    "        for i in range(TOTAL_SPLITS, len(axes)):\n",
    "            axes[i].axis('off')\n",
    "\n",
    "    # Adjust layout for better spacing\n",
    "    plt.tight_layout()\n",
    "\n",
    "    # Show the combined plot\n",
    "    plt.show()\n",
    "\n",
    "interact(plot_model_roc_curves, model_name=results.keys(), overlapped=[True, False])"
   ]
  },
  {
   "cell_type": "code",
   "execution_count": 58,
   "metadata": {},
   "outputs": [
    {
     "data": {
      "application/vnd.jupyter.widget-view+json": {
       "model_id": "bebb845c36a040289b153edb3c059f32",
       "version_major": 2,
       "version_minor": 0
      },
      "text/plain": [
       "interactive(children=(Dropdown(description='model_name', options=('Random Forest', 'KNN', 'FOLD_00-hard-vote',…"
      ]
     },
     "metadata": {},
     "output_type": "display_data"
    },
    {
     "data": {
      "text/plain": [
       "<function __main__.plot_model_pr_curves(model_name, overlapped=True)>"
      ]
     },
     "execution_count": 58,
     "metadata": {},
     "output_type": "execute_result"
    }
   ],
   "source": [
    "def plot_model_pr_curves(model_name, overlapped=True):\n",
    "    if overlapped:\n",
    "        # Plot ROC curves for all folds in a single plot\n",
    "        plt.figure(figsize=(10, 6))\n",
    "        for fold in range(TOTAL_SPLITS):\n",
    "            plot_pr_curve(results, model_name=model_name, fold=fold, show_plot=False)\n",
    "        plt.legend(loc='lower right')\n",
    "        plt.title(f'Curva PR - {model_name} (Overlapped)')\n",
    "    \n",
    "    else:\n",
    "        # Calculate the number of rows needed for two columns\n",
    "        n_rows = (TOTAL_SPLITS + 1) // 2\n",
    "\n",
    "        # Create a figure with subplots arranged in two columns\n",
    "        fig, axes = plt.subplots(n_rows, 2, figsize=(10, 4 * n_rows))  # Adjust width and height\n",
    "\n",
    "        # Flatten the axes array for easier indexing\n",
    "        axes = axes.flatten()\n",
    "\n",
    "        # Plot each fold's ROC curve\n",
    "        for fold in range(TOTAL_SPLITS):\n",
    "            ax = axes[fold]\n",
    "            plt.sca(ax)  # Set current axis\n",
    "            plot_pr_curve(results, model_name=model_name, fold=fold, show_plot=False)\n",
    "            ax.set_title(f'Curva PR - {model_name} (Fold {fold + 1})')\n",
    "\n",
    "        # Hide any unused subplots\n",
    "        for i in range(TOTAL_SPLITS, len(axes)):\n",
    "            axes[i].axis('off')\n",
    "\n",
    "    # Adjust layout for better spacing\n",
    "    plt.tight_layout()\n",
    "\n",
    "    # Show the combined plot\n",
    "    plt.show()\n",
    "\n",
    "interact(plot_model_pr_curves, model_name=results.keys(), overlapped=[True, False])"
   ]
  },
  {
   "cell_type": "markdown",
   "metadata": {
    "id": "MmujMeBpoAkU"
   },
   "source": [
    "# 5 - Importâncias dos Atributos\n"
   ]
  },
  {
   "cell_type": "markdown",
   "metadata": {
    "id": "UT5hVGjgAAwi"
   },
   "source": [
    "- Baseado nos valores de `feature_importances_` calculados em alguns modelos"
   ]
  },
  {
   "cell_type": "code",
   "execution_count": 59,
   "metadata": {
    "cellView": "form",
    "executionInfo": {
     "elapsed": 51,
     "status": "ok",
     "timestamp": 1678973723605,
     "user": {
      "displayName": "PABLO SAMPAIO",
      "userId": "06578877141428254753"
     },
     "user_tz": 180
    },
    "id": "AfddNtwOrJyF",
    "metadata": {}
   },
   "outputs": [],
   "source": [
    "#@title Definições auxiliares (não precisa abrir)\n",
    "from sklearn.tree import plot_tree\n",
    "\n",
    "\n",
    "def plot_importance(importances, title=None, max_features=None, feature_names=None, sort=True, ax=None):\n",
    "    \"\"\"\n",
    "    Plot feature importances for a scikit-learn random forest or gradient boosting model.\n",
    "\n",
    "    Parameters\n",
    "    ----------\n",
    "    model : object\n",
    "        A scikit-learn random forest or gradient boosting model.\n",
    "    title: str or None, optional (default=None)\n",
    "        The title of the plot.\n",
    "    max_features : int or None, optional (default=None)\n",
    "        The maximum number of features to plot. If None, plot all features.\n",
    "    feature_names : list or None, optional (default=None)\n",
    "        A list of feature names to use in the plot. If None, use the feature indices.\n",
    "    sort : bool, optional (default=True)\n",
    "        Whether to sort the feature importances in descending order.\n",
    "    ax : matplotlib.axes.Axes or None, optional (default=None)\n",
    "        The matplotlib axes to plot the feature importances on. If None, create a new figure and axes.\n",
    "\n",
    "    Returns\n",
    "    -------\n",
    "    ax : matplotlib.axes.Axes\n",
    "        The matplotlib axes containing the plot.\n",
    "\n",
    "    \"\"\"\n",
    "    # Extract feature importances\n",
    "    #importances = model.feature_importances_\n",
    "\n",
    "    # Get feature names\n",
    "    if feature_names is None:\n",
    "        feature_names = [str(i) for i in range(len(importances))]\n",
    "\n",
    "    # Sort feature importances\n",
    "    if sort:\n",
    "        indices = np.argsort(importances)[::-1]\n",
    "        importances = importances[indices]\n",
    "        feature_names = [feature_names[i] for i in indices]\n",
    "\n",
    "    # Truncate feature importances\n",
    "    if max_features is not None:\n",
    "        importances = importances[:max_features]\n",
    "        feature_names = feature_names[:max_features]\n",
    "\n",
    "    # Create plot\n",
    "    if ax is None:\n",
    "        fig, ax = plt.subplots()\n",
    "   \n",
    "    if title:\n",
    "        ax.set_title(title, fontsize=12)\n",
    "\n",
    "    ax.barh(np.arange(len(importances)), importances, align='center')\n",
    "    ax.set_yticks(np.arange(len(importances)))\n",
    "    ax.set_yticklabels(feature_names)\n",
    "    #ax.set_xlabel('Gini importance', fontsize=10)\n",
    "    ax.invert_yaxis()\n",
    "\n",
    "    return ax"
   ]
  },
  {
   "cell_type": "code",
   "execution_count": 60,
   "metadata": {
    "metadata": {}
   },
   "outputs": [],
   "source": [
    "'''if 'Decision Tree' in results:\n",
    "    # best model of the 1st fold of the outer cross-validation\n",
    "    dec_tree_pipeline = results['Decision Tree']['melhores_modelos'][0]\n",
    "\n",
    "    # fit the pipeline to the WHOLE dataset\n",
    "    dec_tree_pipeline.fit(dfx, dfy)\n",
    "\n",
    "    display(dec_tree_pipeline)\n",
    "    \n",
    "    # the decision tree model inside the pipeline\n",
    "    dec_tree = dec_tree_pipeline.named_steps['predictor']\n",
    "    feature_names = dec_tree_pipeline.named_steps['preproc'].get_feature_names_out()\n",
    "\n",
    "    fig = plt.figure(figsize=(22,15))\n",
    "    plot_tree(dec_tree, feature_names=list(feature_names), filled=True);\n",
    "''';"
   ]
  },
  {
   "cell_type": "code",
   "execution_count": 61,
   "metadata": {},
   "outputs": [],
   "source": [
    "'''to_translate = {'cat__': '', 'remainder__': '', \n",
    "                    'DiasDecorridos': 'Elapsed Days', \n",
    "                    'Dispositivo Retórico': 'Rhetorical Device',\n",
    "                    'Retórica Aristotélica': 'Aristotelian Rhetoric',\n",
    "                    'Tipo de conteúdo': 'Content Type',\n",
    "                    'Texto': 'Text',\n",
    "                    'Tonalidade': 'Tone',\n",
    "                    'Duracao': 'Duration',\n",
    "                    'Abordagem': 'Approach'}\n",
    "\n",
    "def translate_feature_names(feature_names):\n",
    "    translated_names = []\n",
    "    for name in feature_names:\n",
    "        for k in to_translate.keys():\n",
    "            name = name.replace(k, to_translate[k])\n",
    "        translated_names.append(name)\n",
    "    return translated_names''';"
   ]
  },
  {
   "cell_type": "markdown",
   "metadata": {},
   "source": [
    "Mostras as importâncias para CADA uma das configurações ótimos (1 por outer fold) do modelo"
   ]
  },
  {
   "cell_type": "code",
   "execution_count": 62,
   "metadata": {},
   "outputs": [
    {
     "name": "stdout",
     "output_type": "stream",
     "text": [
      "O modelo KNN não registra as importâncias das features\n"
     ]
    },
    {
     "data": {
      "image/png": "[encoded data removed]",
      "text/plain": [
       "<Figure size 1400x4000 with 5 Axes>"
      ]
     },
     "metadata": {},
     "output_type": "display_data"
    }
   ],
   "source": [
    "for model_name in results.keys():\n",
    "    if 'vote' in model_name:\n",
    "        continue\n",
    "\n",
    "    model_pipeline = results[model_name]['best_models'][0]  # the best model found in the first fold\n",
    "    model_predictor = model_pipeline.named_steps['predictor']\n",
    "\n",
    "    # testa se o modelo guarda as importâncias das features\n",
    "    if not hasattr(model_predictor, 'feature_importances_'):\n",
    "        print(f\"O modelo {model_name} não registra as importâncias das features\")\n",
    "        continue\n",
    "\n",
    "    fig, axs = plt.subplots(TOTAL_SPLITS, 1, figsize=(14, 8 * TOTAL_SPLITS))\n",
    "    \n",
    "    # Configurando a validação cruzada externa (igual à da função de treinamento)\n",
    "    cv_outer = metadata['cv_outer']\n",
    "\n",
    "    fold = 0\n",
    "    for train_ix, test_ix in cv_outer.split(dfx, dfy):\n",
    "        X_train = dfx.iloc[train_ix]\n",
    "        y_train = dfy.iloc[train_ix]\n",
    "\n",
    "        model_pipeline = results[model_name]['best_models'][fold]\n",
    "        model_predictor = model_pipeline.named_steps['predictor']\n",
    "        \n",
    "        model_pipeline.fit(X_train, y_train)\n",
    "\n",
    "        #features = model_pipeline.named_steps['preproc'].get_feature_names_out()\n",
    "        features = None\n",
    "        importances = model_predictor.feature_importances_\n",
    "        plot_importance(importances, \n",
    "                        title=f\"Importância das features no modelo {model_name} / fold {fold+1}\", \n",
    "                        feature_names=features, \n",
    "                        max_features=10, \n",
    "                        ax=axs[fold])\n",
    "        fold += 1"
   ]
  },
  {
   "cell_type": "code",
   "execution_count": 63,
   "metadata": {},
   "outputs": [
    {
     "name": "stdout",
     "output_type": "stream",
     "text": [
      "\n",
      "FOLD 0\n",
      "number of components: 10\n",
      "total explained variance: 914.885\n",
      "most important pca-generated feature: #0\n",
      "composition of pca-generated feature #0 (top 10 original features of highest absolute weights)\n",
      " - Dias Decorridos: 1.0000\n",
      " - Only Hashtags: 0.0024\n",
      " - x202: 0.0018\n",
      " - x272: -0.0015\n",
      " - x173: 0.0015\n",
      " - x120: 0.0013\n",
      " - x133: -0.0013\n",
      " - x356: 0.0012\n",
      " - x252: -0.0011\n",
      " - x73: -0.0011\n",
      "\n",
      "FOLD 1\n",
      "number of components: 10\n",
      "total explained variance: 914.885\n",
      "most important pca-generated feature: #0\n",
      "composition of pca-generated feature #0 (top 10 original features of highest absolute weights)\n",
      " - Dias Decorridos: 1.0000\n",
      " - Only Hashtags: 0.0024\n",
      " - x202: 0.0018\n",
      " - x272: -0.0015\n",
      " - x173: 0.0015\n",
      " - x120: 0.0013\n",
      " - x133: -0.0013\n",
      " - x356: 0.0012\n",
      " - x252: -0.0011\n",
      " - x73: -0.0011\n",
      "\n",
      "FOLD 2\n",
      "number of components: 10\n",
      "total explained variance: 914.885\n",
      "most important pca-generated feature: #0\n",
      "composition of pca-generated feature #0 (top 10 original features of highest absolute weights)\n",
      " - Dias Decorridos: 1.0000\n",
      " - Only Hashtags: 0.0024\n",
      " - x202: 0.0018\n",
      " - x272: -0.0015\n",
      " - x173: 0.0015\n",
      " - x120: 0.0013\n",
      " - x133: -0.0013\n",
      " - x356: 0.0012\n",
      " - x252: -0.0011\n",
      " - x73: -0.0011\n",
      "\n",
      "FOLD 3\n",
      "number of components: 30\n",
      "total explained variance: 897.673\n",
      "most important pca-generated feature: #0\n",
      "composition of pca-generated feature #0 (top 10 original features of highest absolute weights)\n",
      " - Dias Decorridos: 1.0000\n",
      " - Only Hashtags: 0.0028\n",
      " - x202: 0.0021\n",
      " - x173: 0.0014\n",
      " - x272: -0.0013\n",
      " - x120: 0.0013\n",
      " - x133: -0.0012\n",
      " - x60: -0.0012\n",
      " - x73: -0.0012\n",
      " - x252: -0.0012\n",
      "\n",
      "FOLD 4\n",
      "number of components: 30\n",
      "total explained variance: 897.673\n",
      "most important pca-generated feature: #0\n",
      "composition of pca-generated feature #0 (top 10 original features of highest absolute weights)\n",
      " - Dias Decorridos: 1.0000\n",
      " - Only Hashtags: 0.0028\n",
      " - x202: 0.0021\n",
      " - x173: 0.0014\n",
      " - x272: -0.0013\n",
      " - x120: 0.0013\n",
      " - x133: -0.0012\n",
      " - x60: -0.0012\n",
      " - x73: -0.0012\n",
      " - x252: -0.0012\n"
     ]
    }
   ],
   "source": [
    "# Features identificadas nos gráficos acima como a mais importante de cada fold (ordenadas pelo fold)\n",
    "#important_pca_features = [3, 17, 3, 0, 0]\n",
    "important_pca_features = [0, 0, 0, 0, 0]\n",
    "\n",
    "for fold, feature in enumerate(important_pca_features):\n",
    "    print(f\"\\nFOLD {fold}\")\n",
    "    random_forest_pipeline = results['Random Forest']['best_models'][fold]\n",
    "    \n",
    "    pca = random_forest_pipeline.named_steps['pca']\n",
    "    print(f\"number of components: {pca.n_components_}\")\n",
    "    print(f\"total explained variance: {np.sum(pca.explained_variance_):.3f}\") ## ??\n",
    "    print(f\"most important pca-generated feature: #{feature}\")\n",
    "    \n",
    "    print(f\"composition of pca-generated feature #{feature} (top 10 original features of highest absolute weights)\")\n",
    "    indices = np.argsort(np.abs(pca.components_[feature]))[::-1][:10]\n",
    "    for i in indices:\n",
    "        print(f\" - {dfx.columns[i]}: {pca.components_[feature][i]:.4f}\")"
   ]
  },
  {
   "cell_type": "markdown",
   "metadata": {},
   "source": [
    "-----"
   ]
  },
  {
   "cell_type": "markdown",
   "metadata": {},
   "source": [
    "# FIM"
   ]
  }
 ],
 "metadata": {
  "colab": {
   "authorship_tag": "ABX9TyOuiv0RFkkwcXnb26LS0lwg",
   "provenance": [
    {
     "file_id": "1y8SEBwz0ltHkmfXNFpsBTWvHkCb-CFdt",
     "timestamp": 1676506165799
    }
   ]
  },
  "kernelspec": {
   "display_name": "socialnet",
   "language": "python",
   "name": "python3"
  },
  "language_info": {
   "codemirror_mode": {
    "name": "ipython",
    "version": 3
   },
   "file_extension": ".py",
   "mimetype": "text/x-python",
   "name": "python",
   "nbconvert_exporter": "python",
   "pygments_lexer": "ipython3",
   "version": "3.10.13"
  }
 },
 "nbformat": 4,
 "nbformat_minor": 0
}
