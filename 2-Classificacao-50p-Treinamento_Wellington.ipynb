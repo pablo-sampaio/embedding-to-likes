{
 "cells": [
  {
   "cell_type": "markdown",
   "metadata": {},
   "source": [
    "# Previsão de Engajamento - Classificação"
   ]
  },
  {
   "cell_type": "markdown",
   "metadata": {},
   "source": [
    "Este notebook define modelos e hiperparâmetros e executa um validação cruzada aninhada com grid search para otimização de hiperparâmetros e treinamento.\n",
    "\n",
    "- Entrada: `full-preproc2-inputs` e `full-preproc2-outputs`\n",
    "- Saída: `resultados/resultados50p_{START_DATE_STR}_{SUB_DATASET}.npy`\n"
   ]
  },
  {
   "cell_type": "code",
   "execution_count": 189,
   "metadata": {
    "cellView": "form",
    "executionInfo": {
     "elapsed": 3119,
     "status": "ok",
     "timestamp": 1678973020538,
     "user": {
      "displayName": "PABLO SAMPAIO",
      "userId": "06578877141428254753"
     },
     "user_tz": 180
    },
    "id": "OJV4GlB7-Jqx",
    "metadata": {}
   },
   "outputs": [],
   "source": [
    "#@title Importações de pacote\n",
    "import pandas as pd\n",
    "import numpy as np\n",
    "\n",
    "import matplotlib.pyplot as plt"
   ]
  },
  {
   "cell_type": "code",
   "execution_count": 190,
   "metadata": {
    "metadata": {}
   },
   "outputs": [],
   "source": [
    "BASE_PATH = 'dados/'\n",
    "EMBEDDINGS_PATH = BASE_PATH +'preprocessed/'"
   ]
  },
  {
   "cell_type": "markdown",
   "metadata": {
    "id": "xg4V0QFFLo7g"
   },
   "source": [
    "# 1 - Carregando os Dados"
   ]
  },
  {
   "cell_type": "markdown",
   "metadata": {
    "id": "Z_SocVpnTp-p"
   },
   "source": [
    "Carregando dados brutos gerais."
   ]
  },
  {
   "cell_type": "code",
   "execution_count": 191,
   "metadata": {
    "executionInfo": {
     "elapsed": 838,
     "status": "ok",
     "timestamp": 1678973021364,
     "user": {
      "displayName": "PABLO SAMPAIO",
      "userId": "06578877141428254753"
     },
     "user_tz": 180
    },
    "id": "pbGadD5L-aMf",
    "metadata": {}
   },
   "outputs": [
    {
     "data": {
      "text/html": [
       "<div>\n",
       "<style scoped>\n",
       "    .dataframe tbody tr th:only-of-type {\n",
       "        vertical-align: middle;\n",
       "    }\n",
       "\n",
       "    .dataframe tbody tr th {\n",
       "        vertical-align: top;\n",
       "    }\n",
       "\n",
       "    .dataframe thead th {\n",
       "        text-align: right;\n",
       "    }\n",
       "</style>\n",
       "<table border=\"1\" class=\"dataframe\">\n",
       "  <thead>\n",
       "    <tr style=\"text-align: right;\">\n",
       "      <th></th>\n",
       "      <th>Candidato_Bolsonaro</th>\n",
       "      <th>Candidato_Lula</th>\n",
       "    </tr>\n",
       "    <tr>\n",
       "      <th>ID</th>\n",
       "      <th></th>\n",
       "      <th></th>\n",
       "    </tr>\n",
       "  </thead>\n",
       "  <tbody>\n",
       "    <tr>\n",
       "      <th>7114971700365692165</th>\n",
       "      <td>1</td>\n",
       "      <td>0</td>\n",
       "    </tr>\n",
       "    <tr>\n",
       "      <th>7115033431473474822</th>\n",
       "      <td>0</td>\n",
       "      <td>1</td>\n",
       "    </tr>\n",
       "    <tr>\n",
       "      <th>7115050482179050758</th>\n",
       "      <td>1</td>\n",
       "      <td>0</td>\n",
       "    </tr>\n",
       "    <tr>\n",
       "      <th>7115120078982630661</th>\n",
       "      <td>1</td>\n",
       "      <td>0</td>\n",
       "    </tr>\n",
       "    <tr>\n",
       "      <th>7115161088219565317</th>\n",
       "      <td>1</td>\n",
       "      <td>0</td>\n",
       "    </tr>\n",
       "  </tbody>\n",
       "</table>\n",
       "</div>"
      ],
      "text/plain": [
       "                     Candidato_Bolsonaro  Candidato_Lula\n",
       "ID                                                      \n",
       "7114971700365692165                    1               0\n",
       "7115033431473474822                    0               1\n",
       "7115050482179050758                    1               0\n",
       "7115120078982630661                    1               0\n",
       "7115161088219565317                    1               0"
      ]
     },
     "execution_count": 191,
     "metadata": {},
     "output_type": "execute_result"
    }
   ],
   "source": [
    "dfx = pd.read_excel(EMBEDDINGS_PATH + 'full-preproc2-inputs.xlsx', index_col='ID')\n",
    "dfx.drop(columns=[\"Only Hashtags\"],inplace=True)\n",
    "dfx.head()"
   ]
  },
  {
   "cell_type": "code",
   "execution_count": 192,
   "metadata": {
    "metadata": {}
   },
   "outputs": [
    {
     "data": {
      "text/html": [
       "<div>\n",
       "<style scoped>\n",
       "    .dataframe tbody tr th:only-of-type {\n",
       "        vertical-align: middle;\n",
       "    }\n",
       "\n",
       "    .dataframe tbody tr th {\n",
       "        vertical-align: top;\n",
       "    }\n",
       "\n",
       "    .dataframe thead th {\n",
       "        text-align: right;\n",
       "    }\n",
       "</style>\n",
       "<table border=\"1\" class=\"dataframe\">\n",
       "  <thead>\n",
       "    <tr style=\"text-align: right;\">\n",
       "      <th></th>\n",
       "      <th>Curtidas</th>\n",
       "      <th>Curtidas-Log</th>\n",
       "      <th>Curtidas-MinMax</th>\n",
       "      <th>Curtidas-Log-MinMax</th>\n",
       "      <th>Curtidas-2Classes-50p</th>\n",
       "    </tr>\n",
       "    <tr>\n",
       "      <th>ID</th>\n",
       "      <th></th>\n",
       "      <th></th>\n",
       "      <th></th>\n",
       "      <th></th>\n",
       "      <th></th>\n",
       "    </tr>\n",
       "  </thead>\n",
       "  <tbody>\n",
       "    <tr>\n",
       "      <th>7114971700365692165</th>\n",
       "      <td>24400</td>\n",
       "      <td>4.387390</td>\n",
       "      <td>0.003881</td>\n",
       "      <td>0.299717</td>\n",
       "      <td>0</td>\n",
       "    </tr>\n",
       "    <tr>\n",
       "      <th>7115033431473474822</th>\n",
       "      <td>11700</td>\n",
       "      <td>4.068186</td>\n",
       "      <td>0.003970</td>\n",
       "      <td>0.281879</td>\n",
       "      <td>0</td>\n",
       "    </tr>\n",
       "    <tr>\n",
       "      <th>7115050482179050758</th>\n",
       "      <td>9163</td>\n",
       "      <td>3.962038</td>\n",
       "      <td>0.001197</td>\n",
       "      <td>0.173869</td>\n",
       "      <td>0</td>\n",
       "    </tr>\n",
       "    <tr>\n",
       "      <th>7115120078982630661</th>\n",
       "      <td>3485</td>\n",
       "      <td>3.542203</td>\n",
       "      <td>0.000197</td>\n",
       "      <td>0.049653</td>\n",
       "      <td>0</td>\n",
       "    </tr>\n",
       "    <tr>\n",
       "      <th>7115161088219565317</th>\n",
       "      <td>22100</td>\n",
       "      <td>4.344392</td>\n",
       "      <td>0.003476</td>\n",
       "      <td>0.286995</td>\n",
       "      <td>0</td>\n",
       "    </tr>\n",
       "  </tbody>\n",
       "</table>\n",
       "</div>"
      ],
      "text/plain": [
       "                     Curtidas  Curtidas-Log  Curtidas-MinMax  \\\n",
       "ID                                                             \n",
       "7114971700365692165     24400      4.387390         0.003881   \n",
       "7115033431473474822     11700      4.068186         0.003970   \n",
       "7115050482179050758      9163      3.962038         0.001197   \n",
       "7115120078982630661      3485      3.542203         0.000197   \n",
       "7115161088219565317     22100      4.344392         0.003476   \n",
       "\n",
       "                     Curtidas-Log-MinMax  Curtidas-2Classes-50p  \n",
       "ID                                                               \n",
       "7114971700365692165             0.299717                      0  \n",
       "7115033431473474822             0.281879                      0  \n",
       "7115050482179050758             0.173869                      0  \n",
       "7115120078982630661             0.049653                      0  \n",
       "7115161088219565317             0.286995                      0  "
      ]
     },
     "execution_count": 192,
     "metadata": {},
     "output_type": "execute_result"
    }
   ],
   "source": [
    "dfy_full = pd.read_excel(EMBEDDINGS_PATH + 'full-preproc2-outputs.xlsx', index_col='ID')\n",
    "dfy_full.head()"
   ]
  },
  {
   "cell_type": "code",
   "execution_count": 193,
   "metadata": {},
   "outputs": [
    {
     "data": {
      "text/html": [
       "<div>\n",
       "<style scoped>\n",
       "    .dataframe tbody tr th:only-of-type {\n",
       "        vertical-align: middle;\n",
       "    }\n",
       "\n",
       "    .dataframe tbody tr th {\n",
       "        vertical-align: top;\n",
       "    }\n",
       "\n",
       "    .dataframe thead th {\n",
       "        text-align: right;\n",
       "    }\n",
       "</style>\n",
       "<table border=\"1\" class=\"dataframe\">\n",
       "  <thead>\n",
       "    <tr style=\"text-align: right;\">\n",
       "      <th></th>\n",
       "      <th>ID</th>\n",
       "      <th>Candidato</th>\n",
       "      <th>Curtidas</th>\n",
       "      <th>Only Hashtags</th>\n",
       "      <th>x1</th>\n",
       "      <th>x2</th>\n",
       "      <th>x3</th>\n",
       "      <th>x4</th>\n",
       "      <th>x5</th>\n",
       "      <th>x6</th>\n",
       "      <th>...</th>\n",
       "      <th>x375</th>\n",
       "      <th>x376</th>\n",
       "      <th>x377</th>\n",
       "      <th>x378</th>\n",
       "      <th>x379</th>\n",
       "      <th>x380</th>\n",
       "      <th>x381</th>\n",
       "      <th>x382</th>\n",
       "      <th>x383</th>\n",
       "      <th>x384</th>\n",
       "    </tr>\n",
       "  </thead>\n",
       "  <tbody>\n",
       "    <tr>\n",
       "      <th>0</th>\n",
       "      <td>7114971700365692165</td>\n",
       "      <td>Jair Bolsonaro</td>\n",
       "      <td>24400</td>\n",
       "      <td>1.0</td>\n",
       "      <td>-0.035405</td>\n",
       "      <td>0.091901</td>\n",
       "      <td>0.029305</td>\n",
       "      <td>-0.098718</td>\n",
       "      <td>0.243411</td>\n",
       "      <td>0.111185</td>\n",
       "      <td>...</td>\n",
       "      <td>0.175389</td>\n",
       "      <td>-0.227796</td>\n",
       "      <td>-0.141506</td>\n",
       "      <td>-0.010863</td>\n",
       "      <td>0.124115</td>\n",
       "      <td>0.060907</td>\n",
       "      <td>0.403370</td>\n",
       "      <td>-0.108669</td>\n",
       "      <td>-0.133018</td>\n",
       "      <td>0.144618</td>\n",
       "    </tr>\n",
       "    <tr>\n",
       "      <th>1</th>\n",
       "      <td>7115033431473474822</td>\n",
       "      <td>Lula</td>\n",
       "      <td>11700</td>\n",
       "      <td>0.0</td>\n",
       "      <td>-0.222600</td>\n",
       "      <td>0.258170</td>\n",
       "      <td>0.165599</td>\n",
       "      <td>-0.210579</td>\n",
       "      <td>0.359918</td>\n",
       "      <td>-0.001123</td>\n",
       "      <td>...</td>\n",
       "      <td>0.370087</td>\n",
       "      <td>-0.112563</td>\n",
       "      <td>-0.277257</td>\n",
       "      <td>0.095219</td>\n",
       "      <td>-0.293415</td>\n",
       "      <td>0.101862</td>\n",
       "      <td>0.038032</td>\n",
       "      <td>0.054848</td>\n",
       "      <td>0.059788</td>\n",
       "      <td>0.128184</td>\n",
       "    </tr>\n",
       "    <tr>\n",
       "      <th>2</th>\n",
       "      <td>7115050482179050758</td>\n",
       "      <td>Jair Bolsonaro</td>\n",
       "      <td>9163</td>\n",
       "      <td>1.0</td>\n",
       "      <td>0.024929</td>\n",
       "      <td>0.079934</td>\n",
       "      <td>0.098492</td>\n",
       "      <td>-0.100231</td>\n",
       "      <td>0.224104</td>\n",
       "      <td>0.025696</td>\n",
       "      <td>...</td>\n",
       "      <td>0.168720</td>\n",
       "      <td>-0.311732</td>\n",
       "      <td>-0.105087</td>\n",
       "      <td>-0.059519</td>\n",
       "      <td>0.052269</td>\n",
       "      <td>0.108190</td>\n",
       "      <td>0.341778</td>\n",
       "      <td>-0.142647</td>\n",
       "      <td>-0.096181</td>\n",
       "      <td>0.125113</td>\n",
       "    </tr>\n",
       "    <tr>\n",
       "      <th>3</th>\n",
       "      <td>7115120078982630661</td>\n",
       "      <td>Jair Bolsonaro</td>\n",
       "      <td>3485</td>\n",
       "      <td>1.0</td>\n",
       "      <td>0.037256</td>\n",
       "      <td>0.072214</td>\n",
       "      <td>-0.000965</td>\n",
       "      <td>-0.107916</td>\n",
       "      <td>0.288683</td>\n",
       "      <td>0.103231</td>\n",
       "      <td>...</td>\n",
       "      <td>0.202172</td>\n",
       "      <td>-0.211109</td>\n",
       "      <td>-0.122603</td>\n",
       "      <td>0.045138</td>\n",
       "      <td>0.120379</td>\n",
       "      <td>0.205129</td>\n",
       "      <td>0.261554</td>\n",
       "      <td>-0.083097</td>\n",
       "      <td>-0.185110</td>\n",
       "      <td>0.220620</td>\n",
       "    </tr>\n",
       "    <tr>\n",
       "      <th>4</th>\n",
       "      <td>7115161088219565317</td>\n",
       "      <td>Jair Bolsonaro</td>\n",
       "      <td>22100</td>\n",
       "      <td>1.0</td>\n",
       "      <td>0.184212</td>\n",
       "      <td>-0.063834</td>\n",
       "      <td>-0.014328</td>\n",
       "      <td>-0.073712</td>\n",
       "      <td>0.067048</td>\n",
       "      <td>-0.046129</td>\n",
       "      <td>...</td>\n",
       "      <td>0.109674</td>\n",
       "      <td>-0.212620</td>\n",
       "      <td>-0.229578</td>\n",
       "      <td>-0.191411</td>\n",
       "      <td>0.090878</td>\n",
       "      <td>0.120460</td>\n",
       "      <td>0.276041</td>\n",
       "      <td>-0.130134</td>\n",
       "      <td>-0.236629</td>\n",
       "      <td>0.108136</td>\n",
       "    </tr>\n",
       "    <tr>\n",
       "      <th>...</th>\n",
       "      <td>...</td>\n",
       "      <td>...</td>\n",
       "      <td>...</td>\n",
       "      <td>...</td>\n",
       "      <td>...</td>\n",
       "      <td>...</td>\n",
       "      <td>...</td>\n",
       "      <td>...</td>\n",
       "      <td>...</td>\n",
       "      <td>...</td>\n",
       "      <td>...</td>\n",
       "      <td>...</td>\n",
       "      <td>...</td>\n",
       "      <td>...</td>\n",
       "      <td>...</td>\n",
       "      <td>...</td>\n",
       "      <td>...</td>\n",
       "      <td>...</td>\n",
       "      <td>...</td>\n",
       "      <td>...</td>\n",
       "      <td>...</td>\n",
       "    </tr>\n",
       "    <tr>\n",
       "      <th>3355</th>\n",
       "      <td>18041421523376097</td>\n",
       "      <td>Jair Bolsonaro</td>\n",
       "      <td>2816298</td>\n",
       "      <td>0.0</td>\n",
       "      <td>-0.154099</td>\n",
       "      <td>0.030383</td>\n",
       "      <td>-0.181850</td>\n",
       "      <td>-0.035343</td>\n",
       "      <td>0.562470</td>\n",
       "      <td>0.228206</td>\n",
       "      <td>...</td>\n",
       "      <td>0.163863</td>\n",
       "      <td>-0.138396</td>\n",
       "      <td>-0.090157</td>\n",
       "      <td>-0.139640</td>\n",
       "      <td>-0.059515</td>\n",
       "      <td>-0.016232</td>\n",
       "      <td>0.274704</td>\n",
       "      <td>-0.026963</td>\n",
       "      <td>-0.197315</td>\n",
       "      <td>0.070981</td>\n",
       "    </tr>\n",
       "    <tr>\n",
       "      <th>3356</th>\n",
       "      <td>211857482296579_737954751015282</td>\n",
       "      <td>Jair Bolsonaro</td>\n",
       "      <td>196046</td>\n",
       "      <td>0.0</td>\n",
       "      <td>-0.010288</td>\n",
       "      <td>-0.002675</td>\n",
       "      <td>-0.097292</td>\n",
       "      <td>-0.056652</td>\n",
       "      <td>0.546457</td>\n",
       "      <td>0.185445</td>\n",
       "      <td>...</td>\n",
       "      <td>0.241903</td>\n",
       "      <td>-0.172705</td>\n",
       "      <td>-0.021164</td>\n",
       "      <td>-0.151274</td>\n",
       "      <td>0.138189</td>\n",
       "      <td>-0.128408</td>\n",
       "      <td>0.292017</td>\n",
       "      <td>0.000566</td>\n",
       "      <td>-0.133829</td>\n",
       "      <td>0.088963</td>\n",
       "    </tr>\n",
       "    <tr>\n",
       "      <th>3357</th>\n",
       "      <td>267949976607343_735093754644310</td>\n",
       "      <td>Lula</td>\n",
       "      <td>64214</td>\n",
       "      <td>0.0</td>\n",
       "      <td>-0.074462</td>\n",
       "      <td>0.045235</td>\n",
       "      <td>0.054071</td>\n",
       "      <td>0.110205</td>\n",
       "      <td>0.167678</td>\n",
       "      <td>-0.059837</td>\n",
       "      <td>...</td>\n",
       "      <td>0.257696</td>\n",
       "      <td>-0.145697</td>\n",
       "      <td>-0.081612</td>\n",
       "      <td>0.097586</td>\n",
       "      <td>0.031411</td>\n",
       "      <td>0.010342</td>\n",
       "      <td>0.241534</td>\n",
       "      <td>-0.127639</td>\n",
       "      <td>-0.266172</td>\n",
       "      <td>0.174676</td>\n",
       "    </tr>\n",
       "    <tr>\n",
       "      <th>3358</th>\n",
       "      <td>211857482296579_737980491012708</td>\n",
       "      <td>Jair Bolsonaro</td>\n",
       "      <td>557648</td>\n",
       "      <td>0.0</td>\n",
       "      <td>-0.136056</td>\n",
       "      <td>0.375990</td>\n",
       "      <td>-0.089333</td>\n",
       "      <td>0.151647</td>\n",
       "      <td>0.215663</td>\n",
       "      <td>-0.089546</td>\n",
       "      <td>...</td>\n",
       "      <td>0.035895</td>\n",
       "      <td>-0.107625</td>\n",
       "      <td>0.034370</td>\n",
       "      <td>-0.070815</td>\n",
       "      <td>-0.152468</td>\n",
       "      <td>-0.012056</td>\n",
       "      <td>0.162576</td>\n",
       "      <td>-0.227032</td>\n",
       "      <td>0.103442</td>\n",
       "      <td>0.101070</td>\n",
       "    </tr>\n",
       "    <tr>\n",
       "      <th>3359</th>\n",
       "      <td>17966604028948329</td>\n",
       "      <td>Jair Bolsonaro</td>\n",
       "      <td>5678920</td>\n",
       "      <td>0.0</td>\n",
       "      <td>-0.136056</td>\n",
       "      <td>0.375990</td>\n",
       "      <td>-0.089333</td>\n",
       "      <td>0.151647</td>\n",
       "      <td>0.215663</td>\n",
       "      <td>-0.089546</td>\n",
       "      <td>...</td>\n",
       "      <td>0.035895</td>\n",
       "      <td>-0.107625</td>\n",
       "      <td>0.034370</td>\n",
       "      <td>-0.070815</td>\n",
       "      <td>-0.152468</td>\n",
       "      <td>-0.012056</td>\n",
       "      <td>0.162576</td>\n",
       "      <td>-0.227032</td>\n",
       "      <td>0.103442</td>\n",
       "      <td>0.101070</td>\n",
       "    </tr>\n",
       "  </tbody>\n",
       "</table>\n",
       "<p>3360 rows × 388 columns</p>\n",
       "</div>"
      ],
      "text/plain": [
       "                                   ID       Candidato  Curtidas  \\\n",
       "0                 7114971700365692165  Jair Bolsonaro     24400   \n",
       "1                 7115033431473474822            Lula     11700   \n",
       "2                 7115050482179050758  Jair Bolsonaro      9163   \n",
       "3                 7115120078982630661  Jair Bolsonaro      3485   \n",
       "4                 7115161088219565317  Jair Bolsonaro     22100   \n",
       "...                               ...             ...       ...   \n",
       "3355                18041421523376097  Jair Bolsonaro   2816298   \n",
       "3356  211857482296579_737954751015282  Jair Bolsonaro    196046   \n",
       "3357  267949976607343_735093754644310            Lula     64214   \n",
       "3358  211857482296579_737980491012708  Jair Bolsonaro    557648   \n",
       "3359                17966604028948329  Jair Bolsonaro   5678920   \n",
       "\n",
       "      Only Hashtags        x1        x2        x3        x4        x5  \\\n",
       "0               1.0 -0.035405  0.091901  0.029305 -0.098718  0.243411   \n",
       "1               0.0 -0.222600  0.258170  0.165599 -0.210579  0.359918   \n",
       "2               1.0  0.024929  0.079934  0.098492 -0.100231  0.224104   \n",
       "3               1.0  0.037256  0.072214 -0.000965 -0.107916  0.288683   \n",
       "4               1.0  0.184212 -0.063834 -0.014328 -0.073712  0.067048   \n",
       "...             ...       ...       ...       ...       ...       ...   \n",
       "3355            0.0 -0.154099  0.030383 -0.181850 -0.035343  0.562470   \n",
       "3356            0.0 -0.010288 -0.002675 -0.097292 -0.056652  0.546457   \n",
       "3357            0.0 -0.074462  0.045235  0.054071  0.110205  0.167678   \n",
       "3358            0.0 -0.136056  0.375990 -0.089333  0.151647  0.215663   \n",
       "3359            0.0 -0.136056  0.375990 -0.089333  0.151647  0.215663   \n",
       "\n",
       "            x6  ...      x375      x376      x377      x378      x379  \\\n",
       "0     0.111185  ...  0.175389 -0.227796 -0.141506 -0.010863  0.124115   \n",
       "1    -0.001123  ...  0.370087 -0.112563 -0.277257  0.095219 -0.293415   \n",
       "2     0.025696  ...  0.168720 -0.311732 -0.105087 -0.059519  0.052269   \n",
       "3     0.103231  ...  0.202172 -0.211109 -0.122603  0.045138  0.120379   \n",
       "4    -0.046129  ...  0.109674 -0.212620 -0.229578 -0.191411  0.090878   \n",
       "...        ...  ...       ...       ...       ...       ...       ...   \n",
       "3355  0.228206  ...  0.163863 -0.138396 -0.090157 -0.139640 -0.059515   \n",
       "3356  0.185445  ...  0.241903 -0.172705 -0.021164 -0.151274  0.138189   \n",
       "3357 -0.059837  ...  0.257696 -0.145697 -0.081612  0.097586  0.031411   \n",
       "3358 -0.089546  ...  0.035895 -0.107625  0.034370 -0.070815 -0.152468   \n",
       "3359 -0.089546  ...  0.035895 -0.107625  0.034370 -0.070815 -0.152468   \n",
       "\n",
       "          x380      x381      x382      x383      x384  \n",
       "0     0.060907  0.403370 -0.108669 -0.133018  0.144618  \n",
       "1     0.101862  0.038032  0.054848  0.059788  0.128184  \n",
       "2     0.108190  0.341778 -0.142647 -0.096181  0.125113  \n",
       "3     0.205129  0.261554 -0.083097 -0.185110  0.220620  \n",
       "4     0.120460  0.276041 -0.130134 -0.236629  0.108136  \n",
       "...        ...       ...       ...       ...       ...  \n",
       "3355 -0.016232  0.274704 -0.026963 -0.197315  0.070981  \n",
       "3356 -0.128408  0.292017  0.000566 -0.133829  0.088963  \n",
       "3357  0.010342  0.241534 -0.127639 -0.266172  0.174676  \n",
       "3358 -0.012056  0.162576 -0.227032  0.103442  0.101070  \n",
       "3359 -0.012056  0.162576 -0.227032  0.103442  0.101070  \n",
       "\n",
       "[3360 rows x 388 columns]"
      ]
     },
     "execution_count": 193,
     "metadata": {},
     "output_type": "execute_result"
    }
   ],
   "source": [
    "path_model_embedding = EMBEDDINGS_PATH + 'embeddings/' + 'Embeddings_all-MiniLM-paraphrase-multilingual.xlsx'\n",
    "pe = pd.read_excel(path_model_embedding)\n",
    "\n",
    "pe\n"
   ]
  },
  {
   "cell_type": "markdown",
   "metadata": {},
   "source": [
    "## 1.1 - Escolha do Dataset (ALTERE)"
   ]
  },
  {
   "cell_type": "code",
   "execution_count": 194,
   "metadata": {},
   "outputs": [],
   "source": [
    "filter_lula = (dfx['Candidato_Lula'] == 1)\n",
    "filter_bolsonaro = (dfx['Candidato_Bolsonaro'] == 1)\n",
    "dy_lula = dfx[filter_lula].copy()\n",
    "dy_bolsonaro = dfx[filter_bolsonaro].copy()\n",
    "\n",
    "filter_lula_y      = (pe['Candidato'] == 'Lula')\n",
    "filter_bolsonaro_y = (pe['Candidato'] == 'Jair Bolsonaro')\n",
    "dx_lula = pe[filter_lula_y].copy()\n",
    "dx_bolsonaro = pe[filter_bolsonaro_y].copy()\n",
    "\n",
    "dx_lula.drop(columns=[\"Candidato\", \"Only Hashtags\", \"Curtidas\"], inplace=True)\n",
    "dx_lula.set_index('ID', inplace=True)"
   ]
  },
  {
   "cell_type": "markdown",
   "metadata": {},
   "source": [
    "## 1.2 - Informações do Treinamento (ALTERE)"
   ]
  },
  {
   "cell_type": "code",
   "execution_count": 195,
   "metadata": {},
   "outputs": [],
   "source": [
    "from datetime import datetime\n",
    "\n",
    "RANDOM_STATE = 1231\n",
    "\n",
    "START_DATE_STR = datetime.now().strftime(\"%Y-%m-%d-%Hh%Mm\")\n",
    "#print(start_date_str)\n",
    "\n",
    "metadata = dict()\n",
    "metadata['date'] = START_DATE_STR\n",
    "metadata['subdataset'] = SUB_DATASET\n",
    "metadata['target'] = TARGET_COL\n",
    "metadata['random_state'] = RANDOM_STATE\n",
    "\n",
    "metadata['description'] =  f'''Treinamento com modelos com os \n",
    "dados balanceados (50p), com o dataset {SUB_DATASET}, com todos os modelos \n",
    "e com todos os ENSEMBLE, com a correção de escala para a MLP,\n",
    "variando class_weight para os modelos que suportam'''"
   ]
  },
  {
   "cell_type": "markdown",
   "metadata": {
    "id": "GbxpznNI60BD"
   },
   "source": [
    "# 2 - Modelos"
   ]
  },
  {
   "cell_type": "code",
   "execution_count": 196,
   "metadata": {
    "metadata": {}
   },
   "outputs": [],
   "source": [
    "from sklearn.pipeline import Pipeline\n",
    "from data_transformations_util import IdentityTransformer"
   ]
  },
  {
   "cell_type": "code",
   "execution_count": 197,
   "metadata": {
    "metadata": {}
   },
   "outputs": [],
   "source": [
    "from sklearn.ensemble import RandomForestClassifier\n",
    "from sklearn.linear_model import LogisticRegression\n",
    "from sklearn.svm import SVC\n",
    "from sklearn.neighbors import KNeighborsClassifier\n",
    "from sklearn.neural_network import MLPClassifier\n",
    "\n",
    "from sklearn.decomposition import PCA\n",
    "from sklearn.preprocessing import StandardScaler, MinMaxScaler"
   ]
  },
  {
   "cell_type": "code",
   "execution_count": 198,
   "metadata": {
    "metadata": {}
   },
   "outputs": [],
   "source": [
    "lista_modelos = [\n",
    "    {\n",
    "        \"nome_do_modelo\": 'MLP Neural Network',\n",
    "        \"estimador\": Pipeline([\n",
    "            ('pca', PCA()),\n",
    "            ('scaler', StandardScaler()), \n",
    "            ('predictor', MLPClassifier(random_state=42))\n",
    "        ]),\n",
    "        \"parametros\": {\n",
    "            'pca': [PCA(n_components=0.50), PCA(n_components=0.65), PCA(n_components=0.80), IdentityTransformer()],\n",
    "            'scaler': [IdentityTransformer(), StandardScaler(), MinMaxScaler()],\n",
    "            'predictor__hidden_layer_sizes': [(256,), (512,), (1024,)],  # Number of neurons in the hidden layer\n",
    "            'predictor__learning_rate_init': [0.001, 0.01, 0.05],        # Learning rate\n",
    "        }\n",
    "    },\n",
    "    {\n",
    "        \"nome_do_modelo\": 'Support Vector Machine',\n",
    "        \"estimador\": Pipeline([\n",
    "            ('pca', PCA()),\n",
    "            ('scaler', StandardScaler()), \n",
    "            ('predictor', SVC(random_state=42))   #SVC(probability=True) # muito lento?  Tempo médio de treinamento sem proba: 21.55 segundos / com proba: 35.11 segundos\n",
    "        ]),\n",
    "        \"parametros\": {\n",
    "            'pca': [PCA(n_components=0.50), PCA(n_components=0.65), PCA(n_components=0.80), IdentityTransformer()],\n",
    "            'scaler': [IdentityTransformer(), StandardScaler(), MinMaxScaler()],\n",
    "            'predictor__class_weight': ['balanced', None], \n",
    "            'predictor__C': [0.1, 1.0, 10.0, 20.0, 50.0],\n",
    "            'predictor__gamma': ['scale', 'auto'],\n",
    "            'predictor__kernel': ['rbf', 'sigmoid']  # removi 'linear' porque deixava lento!\n",
    "        }\n",
    "    },\n",
    "    {\n",
    "        \"nome_do_modelo\": 'Random Forest',\n",
    "        \"estimador\": Pipeline([\n",
    "            ('pca', PCA()),\n",
    "            ('predictor', RandomForestClassifier(random_state=42))\n",
    "        ]),\n",
    "        \"parametros\": {\n",
    "            'pca': [PCA(n_components=0.50), PCA(n_components=0.65), PCA(n_components=0.80), IdentityTransformer()],\n",
    "            'predictor__n_estimators': [10, 30, 70], \n",
    "            'predictor__class_weight': ['balanced', None], \n",
    "            'predictor__max_depth': [3, 4, 5, None],\n",
    "            'predictor__min_samples_split': [2, 4, 8]\n",
    "        }\n",
    "    },\n",
    "    {\n",
    "        \"nome_do_modelo\": 'Logistic Regression',\n",
    "        \"estimador\": Pipeline([\n",
    "            ('pca', PCA()),\n",
    "            ('scaler', StandardScaler()), \n",
    "            ('predictor', LogisticRegression(solver='saga', random_state=42))   # Saga is the only solver to support the 3 options for 'penalty'\n",
    "        ]),\n",
    "        \"parametros\": {\n",
    "            'pca': [PCA(n_components=0.50), PCA(n_components=0.65), PCA(n_components=0.80), IdentityTransformer()],\n",
    "            'scaler': [IdentityTransformer(), StandardScaler(), MinMaxScaler()],\n",
    "            'predictor__class_weight': ['balanced', None], \n",
    "            'predictor__C': [0.01, 0.1, 1.0, 2.0],         # Regularization parameter\n",
    "            'predictor__penalty': ['l1', 'l2', None]       # Penalty term\n",
    "        }\n",
    "    },\n",
    "    {\n",
    "        \"nome_do_modelo\": 'KNN',\n",
    "        \"estimador\": Pipeline([\n",
    "            ('pca', PCA),\n",
    "            ('scaler', StandardScaler()), \n",
    "            ('predictor', KNeighborsClassifier())\n",
    "        ]),\n",
    "        \"parametros\": {\n",
    "            'pca': [PCA(n_components=0.50), PCA(n_components=0.65), PCA(n_components=0.80), IdentityTransformer()],\n",
    "            'scaler': [IdentityTransformer(), StandardScaler(), MinMaxScaler()],\n",
    "            'predictor__n_neighbors': [5, 10, 15, 20], \n",
    "            'predictor__weights': ['uniform', 'distance'], \n",
    "            'predictor__p': [1, 2]\n",
    "        }\n",
    "    },\n",
    "\n",
    "]"
   ]
  },
  {
   "cell_type": "code",
   "execution_count": 199,
   "metadata": {},
   "outputs": [
    {
     "data": {
      "text/plain": [
       "['MLP Neural Network',\n",
       " 'Support Vector Machine',\n",
       " 'Random Forest',\n",
       " 'Logistic Regression',\n",
       " 'KNN']"
      ]
     },
     "execution_count": 199,
     "metadata": {},
     "output_type": "execute_result"
    }
   ],
   "source": [
    "BASIC_MODEL_NAMES = [ mdl[\"nome_do_modelo\"] for mdl in lista_modelos ]\n",
    "metadata['basic_models'] = BASIC_MODEL_NAMES\n",
    "\n",
    "BASIC_MODEL_NAMES"
   ]
  },
  {
   "cell_type": "markdown",
   "metadata": {},
   "source": [
    "# 3 - Treinamento"
   ]
  },
  {
   "cell_type": "code",
   "execution_count": 200,
   "metadata": {
    "metadata": {}
   },
   "outputs": [],
   "source": [
    "from classification_train_util import nested_cross_validation_grid_search\n"
   ]
  },
  {
   "cell_type": "markdown",
   "metadata": {},
   "source": [
    "A linha abaixo executa nested cross-validation, com um grid search nos *inner folds*, para cada modelo."
   ]
  },
  {
   "cell_type": "code",
   "execution_count": 201,
   "metadata": {
    "metadata": {}
   },
   "outputs": [
    {
     "name": "stdout",
     "output_type": "stream",
     "text": [
      "\n",
      "\n",
      "\n",
      " **** RESULTADO DOS MODELOS + CURVAS ROC E PR ****\n",
      "\n",
      "Treinando modelo MLP Neural Network "
     ]
    },
    {
     "ename": "ValueError",
     "evalue": "Supported target types are: ('binary', 'multiclass'). Got 'multilabel-indicator' instead.",
     "output_type": "error",
     "traceback": [
      "\u001b[31m---------------------------------------------------------------------------\u001b[39m",
      "\u001b[31mValueError\u001b[39m                                Traceback (most recent call last)",
      "\u001b[36mCell\u001b[39m\u001b[36m \u001b[39m\u001b[32mIn[201]\u001b[39m\u001b[32m, line 1\u001b[39m\n\u001b[32m----> \u001b[39m\u001b[32m1\u001b[39m last_run_basic = \u001b[43mnested_cross_validation_grid_search\u001b[49m\u001b[43m(\u001b[49m\u001b[43mlista_modelos\u001b[49m\u001b[43m,\u001b[49m\u001b[43m \u001b[49m\u001b[43mdx_lula\u001b[49m\u001b[43m,\u001b[49m\u001b[43m \u001b[49m\u001b[43mdy_lula\u001b[49m\u001b[43m,\u001b[49m\u001b[43m \u001b[49m\u001b[32;43m5\u001b[39;49m\u001b[43m,\u001b[49m\u001b[43m \u001b[49m\u001b[32;43m5\u001b[39;49m\u001b[43m,\u001b[49m\u001b[43m \u001b[49m\u001b[43mrand_state\u001b[49m\u001b[43m=\u001b[49m\u001b[43mRANDOM_STATE\u001b[49m\u001b[43m)\u001b[49m\n",
      "\u001b[36mFile \u001b[39m\u001b[32mc:\\Users\\Kabum\\virtual_enviroment_llm\\embedding-to-likes\\classification_train_util.py:74\u001b[39m, in \u001b[36mnested_cross_validation_grid_search\u001b[39m\u001b[34m(lista_modelos, X, y, k_folds_outer, k_folds_inner, rand_state)\u001b[39m\n\u001b[32m     71\u001b[39m best_model_params = []\n\u001b[32m     72\u001b[39m best_trained_models = []\n\u001b[32m---> \u001b[39m\u001b[32m74\u001b[39m \u001b[43m\u001b[49m\u001b[38;5;28;43;01mfor\u001b[39;49;00m\u001b[43m \u001b[49m\u001b[43mtrain_ix\u001b[49m\u001b[43m,\u001b[49m\u001b[43m \u001b[49m\u001b[43mtest_ix\u001b[49m\u001b[43m \u001b[49m\u001b[38;5;129;43;01min\u001b[39;49;00m\u001b[43m \u001b[49m\u001b[43mcv_outer\u001b[49m\u001b[43m.\u001b[49m\u001b[43msplit\u001b[49m\u001b[43m(\u001b[49m\u001b[43mX\u001b[49m\u001b[43m,\u001b[49m\u001b[43m \u001b[49m\u001b[43my\u001b[49m\u001b[43m)\u001b[49m\u001b[43m:\u001b[49m\n\u001b[32m     75\u001b[39m \u001b[43m    \u001b[49m\u001b[38;5;28;43mprint\u001b[39;49m\u001b[43m(\u001b[49m\u001b[33;43m\"\u001b[39;49m\u001b[33;43m.\u001b[39;49m\u001b[33;43m\"\u001b[39;49m\u001b[43m,\u001b[49m\u001b[43m \u001b[49m\u001b[43mend\u001b[49m\u001b[43m=\u001b[49m\u001b[33;43m\"\u001b[39;49m\u001b[33;43m\"\u001b[39;49m\u001b[43m)\u001b[49m\n\u001b[32m     77\u001b[39m \u001b[43m    \u001b[49m\u001b[38;5;66;43;03m# Separa em dados de treinamento-validação \u001b[39;49;00m\n\u001b[32m     78\u001b[39m \u001b[43m    \u001b[49m\u001b[38;5;66;43;03m# (obs.: eles serão novamente divididos internamente pelo cv do grid-search)\u001b[39;49;00m\n",
      "\u001b[36mFile \u001b[39m\u001b[32mc:\\Users\\Kabum\\virtual_enviroment_llm\\.venv\\Lib\\site-packages\\sklearn\\model_selection\\_split.py:411\u001b[39m, in \u001b[36m_BaseKFold.split\u001b[39m\u001b[34m(self, X, y, groups)\u001b[39m\n\u001b[32m    403\u001b[39m \u001b[38;5;28;01mif\u001b[39;00m \u001b[38;5;28mself\u001b[39m.n_splits > n_samples:\n\u001b[32m    404\u001b[39m     \u001b[38;5;28;01mraise\u001b[39;00m \u001b[38;5;167;01mValueError\u001b[39;00m(\n\u001b[32m    405\u001b[39m         (\n\u001b[32m    406\u001b[39m             \u001b[33m\"\u001b[39m\u001b[33mCannot have number of splits n_splits=\u001b[39m\u001b[38;5;132;01m{0}\u001b[39;00m\u001b[33m greater\u001b[39m\u001b[33m\"\u001b[39m\n\u001b[32m    407\u001b[39m             \u001b[33m\"\u001b[39m\u001b[33m than the number of samples: n_samples=\u001b[39m\u001b[38;5;132;01m{1}\u001b[39;00m\u001b[33m.\u001b[39m\u001b[33m\"\u001b[39m\n\u001b[32m    408\u001b[39m         ).format(\u001b[38;5;28mself\u001b[39m.n_splits, n_samples)\n\u001b[32m    409\u001b[39m     )\n\u001b[32m--> \u001b[39m\u001b[32m411\u001b[39m \u001b[43m\u001b[49m\u001b[38;5;28;43;01mfor\u001b[39;49;00m\u001b[43m \u001b[49m\u001b[43mtrain\u001b[49m\u001b[43m,\u001b[49m\u001b[43m \u001b[49m\u001b[43mtest\u001b[49m\u001b[43m \u001b[49m\u001b[38;5;129;43;01min\u001b[39;49;00m\u001b[43m \u001b[49m\u001b[38;5;28;43msuper\u001b[39;49m\u001b[43m(\u001b[49m\u001b[43m)\u001b[49m\u001b[43m.\u001b[49m\u001b[43msplit\u001b[49m\u001b[43m(\u001b[49m\u001b[43mX\u001b[49m\u001b[43m,\u001b[49m\u001b[43m \u001b[49m\u001b[43my\u001b[49m\u001b[43m,\u001b[49m\u001b[43m \u001b[49m\u001b[43mgroups\u001b[49m\u001b[43m)\u001b[49m\u001b[43m:\u001b[49m\n\u001b[32m    412\u001b[39m \u001b[43m    \u001b[49m\u001b[38;5;28;43;01myield\u001b[39;49;00m\u001b[43m \u001b[49m\u001b[43mtrain\u001b[49m\u001b[43m,\u001b[49m\u001b[43m \u001b[49m\u001b[43mtest\u001b[49m\n",
      "\u001b[36mFile \u001b[39m\u001b[32mc:\\Users\\Kabum\\virtual_enviroment_llm\\.venv\\Lib\\site-packages\\sklearn\\model_selection\\_split.py:142\u001b[39m, in \u001b[36mBaseCrossValidator.split\u001b[39m\u001b[34m(self, X, y, groups)\u001b[39m\n\u001b[32m    140\u001b[39m X, y, groups = indexable(X, y, groups)\n\u001b[32m    141\u001b[39m indices = np.arange(_num_samples(X))\n\u001b[32m--> \u001b[39m\u001b[32m142\u001b[39m \u001b[43m\u001b[49m\u001b[38;5;28;43;01mfor\u001b[39;49;00m\u001b[43m \u001b[49m\u001b[43mtest_index\u001b[49m\u001b[43m \u001b[49m\u001b[38;5;129;43;01min\u001b[39;49;00m\u001b[43m \u001b[49m\u001b[38;5;28;43mself\u001b[39;49m\u001b[43m.\u001b[49m\u001b[43m_iter_test_masks\u001b[49m\u001b[43m(\u001b[49m\u001b[43mX\u001b[49m\u001b[43m,\u001b[49m\u001b[43m \u001b[49m\u001b[43my\u001b[49m\u001b[43m,\u001b[49m\u001b[43m \u001b[49m\u001b[43mgroups\u001b[49m\u001b[43m)\u001b[49m\u001b[43m:\u001b[49m\n\u001b[32m    143\u001b[39m \u001b[43m    \u001b[49m\u001b[43mtrain_index\u001b[49m\u001b[43m \u001b[49m\u001b[43m=\u001b[49m\u001b[43m \u001b[49m\u001b[43mindices\u001b[49m\u001b[43m[\u001b[49m\u001b[43mnp\u001b[49m\u001b[43m.\u001b[49m\u001b[43mlogical_not\u001b[49m\u001b[43m(\u001b[49m\u001b[43mtest_index\u001b[49m\u001b[43m)\u001b[49m\u001b[43m]\u001b[49m\n\u001b[32m    144\u001b[39m \u001b[43m    \u001b[49m\u001b[43mtest_index\u001b[49m\u001b[43m \u001b[49m\u001b[43m=\u001b[49m\u001b[43m \u001b[49m\u001b[43mindices\u001b[49m\u001b[43m[\u001b[49m\u001b[43mtest_index\u001b[49m\u001b[43m]\u001b[49m\n",
      "\u001b[36mFile \u001b[39m\u001b[32mc:\\Users\\Kabum\\virtual_enviroment_llm\\.venv\\Lib\\site-packages\\sklearn\\model_selection\\_split.py:838\u001b[39m, in \u001b[36mStratifiedKFold._iter_test_masks\u001b[39m\u001b[34m(self, X, y, groups)\u001b[39m\n\u001b[32m    837\u001b[39m \u001b[38;5;28;01mdef\u001b[39;00m\u001b[38;5;250m \u001b[39m\u001b[34m_iter_test_masks\u001b[39m(\u001b[38;5;28mself\u001b[39m, X, y=\u001b[38;5;28;01mNone\u001b[39;00m, groups=\u001b[38;5;28;01mNone\u001b[39;00m):\n\u001b[32m--> \u001b[39m\u001b[32m838\u001b[39m     test_folds = \u001b[38;5;28;43mself\u001b[39;49m\u001b[43m.\u001b[49m\u001b[43m_make_test_folds\u001b[49m\u001b[43m(\u001b[49m\u001b[43mX\u001b[49m\u001b[43m,\u001b[49m\u001b[43m \u001b[49m\u001b[43my\u001b[49m\u001b[43m)\u001b[49m\n\u001b[32m    839\u001b[39m     \u001b[38;5;28;01mfor\u001b[39;00m i \u001b[38;5;129;01min\u001b[39;00m \u001b[38;5;28mrange\u001b[39m(\u001b[38;5;28mself\u001b[39m.n_splits):\n\u001b[32m    840\u001b[39m         \u001b[38;5;28;01myield\u001b[39;00m test_folds == i\n",
      "\u001b[36mFile \u001b[39m\u001b[32mc:\\Users\\Kabum\\virtual_enviroment_llm\\.venv\\Lib\\site-packages\\sklearn\\model_selection\\_split.py:781\u001b[39m, in \u001b[36mStratifiedKFold._make_test_folds\u001b[39m\u001b[34m(self, X, y)\u001b[39m\n\u001b[32m    779\u001b[39m allowed_target_types = (\u001b[33m\"\u001b[39m\u001b[33mbinary\u001b[39m\u001b[33m\"\u001b[39m, \u001b[33m\"\u001b[39m\u001b[33mmulticlass\u001b[39m\u001b[33m\"\u001b[39m)\n\u001b[32m    780\u001b[39m \u001b[38;5;28;01mif\u001b[39;00m type_of_target_y \u001b[38;5;129;01mnot\u001b[39;00m \u001b[38;5;129;01min\u001b[39;00m allowed_target_types:\n\u001b[32m--> \u001b[39m\u001b[32m781\u001b[39m     \u001b[38;5;28;01mraise\u001b[39;00m \u001b[38;5;167;01mValueError\u001b[39;00m(\n\u001b[32m    782\u001b[39m         \u001b[33m\"\u001b[39m\u001b[33mSupported target types are: \u001b[39m\u001b[38;5;132;01m{}\u001b[39;00m\u001b[33m. Got \u001b[39m\u001b[38;5;132;01m{!r}\u001b[39;00m\u001b[33m instead.\u001b[39m\u001b[33m\"\u001b[39m.format(\n\u001b[32m    783\u001b[39m             allowed_target_types, type_of_target_y\n\u001b[32m    784\u001b[39m         )\n\u001b[32m    785\u001b[39m     )\n\u001b[32m    787\u001b[39m y = column_or_1d(y)\n\u001b[32m    789\u001b[39m _, y_idx, y_inv = np.unique(y, return_index=\u001b[38;5;28;01mTrue\u001b[39;00m, return_inverse=\u001b[38;5;28;01mTrue\u001b[39;00m)\n",
      "\u001b[31mValueError\u001b[39m: Supported target types are: ('binary', 'multiclass'). Got 'multilabel-indicator' instead."
     ]
    }
   ],
   "source": [
    "last_run_basic = nested_cross_validation_grid_search(lista_modelos, dx_lula, dy_lula, 5, 5, rand_state=RANDOM_STATE)\n"
   ]
  },
  {
   "cell_type": "markdown",
   "metadata": {},
   "source": [
    "## 3.3 - Treina Ensembles (não foi publicado)"
   ]
  },
  {
   "cell_type": "code",
   "execution_count": 16,
   "metadata": {},
   "outputs": [],
   "source": [
    "from copy import deepcopy\n",
    "\n",
    "from ensemble_train_util import select_best_models_of_type_fn, select_best_models_per_fold\n",
    "from ensemble_train_util import train_ensemble"
   ]
  },
  {
   "cell_type": "code",
   "execution_count": 17,
   "metadata": {
    "metadata": {}
   },
   "outputs": [
    {
     "ename": "NameError",
     "evalue": "name 'last_run_basic' is not defined",
     "output_type": "error",
     "traceback": [
      "\u001b[31m---------------------------------------------------------------------------\u001b[39m",
      "\u001b[31mNameError\u001b[39m                                 Traceback (most recent call last)",
      "\u001b[36mCell\u001b[39m\u001b[36m \u001b[39m\u001b[32mIn[17]\u001b[39m\u001b[32m, line 1\u001b[39m\n\u001b[32m----> \u001b[39m\u001b[32m1\u001b[39m last_run_all = deepcopy(\u001b[43mlast_run_basic\u001b[49m)\n",
      "\u001b[31mNameError\u001b[39m: name 'last_run_basic' is not defined"
     ]
    }
   ],
   "source": [
    "last_run_all = deepcopy(last_run_basic)"
   ]
  },
  {
   "cell_type": "code",
   "execution_count": 18,
   "metadata": {
    "metadata": {}
   },
   "outputs": [
    {
     "name": "stdout",
     "output_type": "stream",
     "text": [
      "\n",
      "\n",
      "\n",
      " **** TREINANDO ENSEMBLE PARA MLP Neural Network ****\n",
      "\n"
     ]
    },
    {
     "ename": "NameError",
     "evalue": "name 'last_run_all' is not defined",
     "output_type": "error",
     "traceback": [
      "\u001b[31m---------------------------------------------------------------------------\u001b[39m",
      "\u001b[31mNameError\u001b[39m                                 Traceback (most recent call last)",
      "\u001b[36mCell\u001b[39m\u001b[36m \u001b[39m\u001b[32mIn[18]\u001b[39m\u001b[32m, line 6\u001b[39m\n\u001b[32m      4\u001b[39m \u001b[38;5;28mprint\u001b[39m(\u001b[33mf\u001b[39m\u001b[33m\"\u001b[39m\u001b[38;5;130;01m\\n\u001b[39;00m\u001b[38;5;130;01m\\n\u001b[39;00m\u001b[38;5;130;01m\\n\u001b[39;00m\u001b[33m **** TREINANDO ENSEMBLE PARA \u001b[39m\u001b[38;5;132;01m{\u001b[39;00mmodel_name\u001b[38;5;132;01m}\u001b[39;00m\u001b[33m ****\u001b[39m\u001b[38;5;130;01m\\n\u001b[39;00m\u001b[33m\"\u001b[39m)\n\u001b[32m      5\u001b[39m contracted_name = \u001b[33m'\u001b[39m\u001b[33m'\u001b[39m.join([name[\u001b[32m0\u001b[39m] \u001b[38;5;28;01mfor\u001b[39;00m name \u001b[38;5;129;01min\u001b[39;00m model_name.split()])\n\u001b[32m----> \u001b[39m\u001b[32m6\u001b[39m results_ensemble = train_ensemble(select_best_models_of_type_fn(model_name), \u001b[43mlast_run_all\u001b[49m, dfx, dfy, name_prefix=contracted_name)\n\u001b[32m      8\u001b[39m \u001b[38;5;66;03m# merge results with results_with_ensemble\u001b[39;00m\n\u001b[32m      9\u001b[39m last_run_all.update(results_ensemble)\n",
      "\u001b[31mNameError\u001b[39m: name 'last_run_all' is not defined"
     ]
    }
   ],
   "source": [
    "#models_list = ['MLP Neural Network', 'Support Vector Machine', 'Random Forest', 'Logistic Regression', 'KNN']\n",
    "\n",
    "for model_name in BASIC_MODEL_NAMES:\n",
    "    print(f\"\\n\\n\\n **** TREINANDO ENSEMBLE PARA {model_name} ****\\n\")\n",
    "    contracted_name = ''.join([name[0] for name in model_name.split()])\n",
    "    results_ensemble = train_ensemble(select_best_models_of_type_fn(model_name), last_run_all, dfx, dfy, name_prefix=contracted_name)\n",
    "\n",
    "    # merge results with results_with_ensemble\n",
    "    last_run_all.update(results_ensemble)"
   ]
  },
  {
   "cell_type": "code",
   "execution_count": null,
   "metadata": {
    "metadata": {}
   },
   "outputs": [],
   "source": [
    "results_ensemble = train_ensemble(select_best_models_per_fold, last_run_basic, dfx, dfy, name_prefix=\"BPF\")  # BPF - best per fold\n",
    "\n",
    "# check if keys have no intersection (no common key)\n",
    "assert len(set(last_run_all.keys()) & set(results_ensemble.keys())) == 0\n",
    "\n",
    "# merge results with results_with_ensemble\n",
    "last_run_all.update(results_ensemble)"
   ]
  },
  {
   "cell_type": "markdown",
   "metadata": {},
   "source": [
    "## 3.4 - Salva Resultados"
   ]
  },
  {
   "cell_type": "code",
   "execution_count": null,
   "metadata": {},
   "outputs": [],
   "source": [
    "from util import save_results"
   ]
  },
  {
   "cell_type": "code",
   "execution_count": null,
   "metadata": {},
   "outputs": [],
   "source": [
    "last_run_all.keys()"
   ]
  },
  {
   "cell_type": "code",
   "execution_count": null,
   "metadata": {},
   "outputs": [],
   "source": [
    "OUTPUT_FILE_PATH = f'resultados/resultados50p_{START_DATE_STR}_{SUB_DATASET}.npy'\n",
    "\n",
    "save_results(OUTPUT_FILE_PATH, last_run_all, metadata)\n",
    "\n",
    "print(\"Arquivo salvo:\", OUTPUT_FILE_PATH)"
   ]
  },
  {
   "cell_type": "markdown",
   "metadata": {},
   "source": [
    "----"
   ]
  },
  {
   "cell_type": "markdown",
   "metadata": {},
   "source": [
    "# FIM"
   ]
  }
 ],
 "metadata": {
  "colab": {
   "authorship_tag": "ABX9TyOuiv0RFkkwcXnb26LS0lwg",
   "provenance": [
    {
     "file_id": "1y8SEBwz0ltHkmfXNFpsBTWvHkCb-CFdt",
     "timestamp": 1676506165799
    }
   ]
  },
  "kernelspec": {
   "display_name": ".venv",
   "language": "python",
   "name": "python3"
  },
  "language_info": {
   "codemirror_mode": {
    "name": "ipython",
    "version": 3
   },
   "file_extension": ".py",
   "mimetype": "text/x-python",
   "name": "python",
   "nbconvert_exporter": "python",
   "pygments_lexer": "ipython3",
   "version": "3.12.6"
  }
 },
 "nbformat": 4,
 "nbformat_minor": 0
}
