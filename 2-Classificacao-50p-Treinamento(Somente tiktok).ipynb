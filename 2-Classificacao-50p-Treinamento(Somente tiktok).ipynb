{
 "cells": [
  {
   "cell_type": "markdown",
   "metadata": {},
   "source": [
    "# Previsão de Engajamento - Classificação"
   ]
  },
  {
   "cell_type": "markdown",
   "metadata": {},
   "source": [
    "Este notebook define modelos e hiperparâmetros e executa um validação cruzada aninhada com grid search para otimização de hiperparâmetros e treinamento.\n",
    "\n",
    "- Entrada: `full-preproc2-inputs` e `full-preproc2-outputs`\n",
    "- Saída: `resultados/resultados50p_{START_DATE_STR}_{SUB_DATASET}.npy`\n"
   ]
  },
  {
   "cell_type": "code",
   "execution_count": 3,
   "metadata": {
    "cellView": "form",
    "executionInfo": {
     "elapsed": 3119,
     "status": "ok",
     "timestamp": 1678973020538,
     "user": {
      "displayName": "PABLO SAMPAIO",
      "userId": "06578877141428254753"
     },
     "user_tz": 180
    },
    "id": "OJV4GlB7-Jqx",
    "metadata": {}
   },
   "outputs": [],
   "source": [
    "#@title Importações de pacote\n",
    "import pandas as pd\n",
    "import numpy as np\n",
    "\n",
    "import matplotlib.pyplot as plt"
   ]
  },
  {
   "cell_type": "code",
   "execution_count": 4,
   "metadata": {
    "metadata": {}
   },
   "outputs": [],
   "source": [
    "BASE_PATH = 'dados/preprocessed/'\n",
    "MODEL_NAME = 'paraphrase-multilingual-MiniLM'\n",
    "SOCIAL_NETWORK = 'tiktok'"
   ]
  },
  {
   "cell_type": "markdown",
   "metadata": {
    "id": "xg4V0QFFLo7g"
   },
   "source": [
    "# 1 - Carregando os Dados"
   ]
  },
  {
   "cell_type": "markdown",
   "metadata": {
    "id": "Z_SocVpnTp-p"
   },
   "source": [
    "Carregando dados brutos gerais."
   ]
  },
  {
   "cell_type": "code",
   "execution_count": 5,
   "metadata": {
    "executionInfo": {
     "elapsed": 838,
     "status": "ok",
     "timestamp": 1678973021364,
     "user": {
      "displayName": "PABLO SAMPAIO",
      "userId": "06578877141428254753"
     },
     "user_tz": 180
    },
    "id": "pbGadD5L-aMf",
    "metadata": {}
   },
   "outputs": [
    {
     "data": {
      "text/html": [
       "<div>\n",
       "<style scoped>\n",
       "    .dataframe tbody tr th:only-of-type {\n",
       "        vertical-align: middle;\n",
       "    }\n",
       "\n",
       "    .dataframe tbody tr th {\n",
       "        vertical-align: top;\n",
       "    }\n",
       "\n",
       "    .dataframe thead th {\n",
       "        text-align: right;\n",
       "    }\n",
       "</style>\n",
       "<table border=\"1\" class=\"dataframe\">\n",
       "  <thead>\n",
       "    <tr style=\"text-align: right;\">\n",
       "      <th></th>\n",
       "      <th>Candidato_Bolsonaro</th>\n",
       "      <th>Candidato_Lula</th>\n",
       "      <th>Dias Decorridos</th>\n",
       "      <th>x1</th>\n",
       "      <th>x2</th>\n",
       "      <th>x3</th>\n",
       "      <th>x4</th>\n",
       "      <th>x5</th>\n",
       "      <th>x6</th>\n",
       "      <th>x7</th>\n",
       "      <th>...</th>\n",
       "      <th>x375</th>\n",
       "      <th>x376</th>\n",
       "      <th>x377</th>\n",
       "      <th>x378</th>\n",
       "      <th>x379</th>\n",
       "      <th>x380</th>\n",
       "      <th>x381</th>\n",
       "      <th>x382</th>\n",
       "      <th>x383</th>\n",
       "      <th>x384</th>\n",
       "    </tr>\n",
       "    <tr>\n",
       "      <th>ID</th>\n",
       "      <th></th>\n",
       "      <th></th>\n",
       "      <th></th>\n",
       "      <th></th>\n",
       "      <th></th>\n",
       "      <th></th>\n",
       "      <th></th>\n",
       "      <th></th>\n",
       "      <th></th>\n",
       "      <th></th>\n",
       "      <th></th>\n",
       "      <th></th>\n",
       "      <th></th>\n",
       "      <th></th>\n",
       "      <th></th>\n",
       "      <th></th>\n",
       "      <th></th>\n",
       "      <th></th>\n",
       "      <th></th>\n",
       "      <th></th>\n",
       "      <th></th>\n",
       "    </tr>\n",
       "  </thead>\n",
       "  <tbody>\n",
       "    <tr>\n",
       "      <th>7115033431473474822</th>\n",
       "      <td>0</td>\n",
       "      <td>1</td>\n",
       "      <td>94</td>\n",
       "      <td>-0.222600</td>\n",
       "      <td>0.258170</td>\n",
       "      <td>0.165599</td>\n",
       "      <td>-0.210579</td>\n",
       "      <td>0.359918</td>\n",
       "      <td>-0.001123</td>\n",
       "      <td>0.007566</td>\n",
       "      <td>...</td>\n",
       "      <td>0.370087</td>\n",
       "      <td>-0.112563</td>\n",
       "      <td>-0.277257</td>\n",
       "      <td>0.095219</td>\n",
       "      <td>-0.293415</td>\n",
       "      <td>0.101862</td>\n",
       "      <td>0.038032</td>\n",
       "      <td>0.054848</td>\n",
       "      <td>0.059788</td>\n",
       "      <td>0.128184</td>\n",
       "    </tr>\n",
       "    <tr>\n",
       "      <th>7115174031162215686</th>\n",
       "      <td>0</td>\n",
       "      <td>1</td>\n",
       "      <td>94</td>\n",
       "      <td>-0.076441</td>\n",
       "      <td>-0.064013</td>\n",
       "      <td>0.016690</td>\n",
       "      <td>-0.081831</td>\n",
       "      <td>0.298343</td>\n",
       "      <td>0.040669</td>\n",
       "      <td>0.071783</td>\n",
       "      <td>...</td>\n",
       "      <td>0.350493</td>\n",
       "      <td>-0.280780</td>\n",
       "      <td>-0.125492</td>\n",
       "      <td>-0.041718</td>\n",
       "      <td>-0.195529</td>\n",
       "      <td>-0.040299</td>\n",
       "      <td>0.187845</td>\n",
       "      <td>-0.148987</td>\n",
       "      <td>-0.014888</td>\n",
       "      <td>0.192366</td>\n",
       "    </tr>\n",
       "    <tr>\n",
       "      <th>7115357413712153861</th>\n",
       "      <td>0</td>\n",
       "      <td>1</td>\n",
       "      <td>93</td>\n",
       "      <td>0.003736</td>\n",
       "      <td>0.173703</td>\n",
       "      <td>0.069491</td>\n",
       "      <td>-0.038313</td>\n",
       "      <td>-0.085404</td>\n",
       "      <td>-0.034746</td>\n",
       "      <td>0.297337</td>\n",
       "      <td>...</td>\n",
       "      <td>0.187329</td>\n",
       "      <td>-0.236962</td>\n",
       "      <td>-0.093682</td>\n",
       "      <td>0.024438</td>\n",
       "      <td>-0.181835</td>\n",
       "      <td>0.066457</td>\n",
       "      <td>0.473372</td>\n",
       "      <td>0.165317</td>\n",
       "      <td>-0.125917</td>\n",
       "      <td>0.037030</td>\n",
       "    </tr>\n",
       "    <tr>\n",
       "      <th>7115560675824422149</th>\n",
       "      <td>0</td>\n",
       "      <td>1</td>\n",
       "      <td>93</td>\n",
       "      <td>0.132854</td>\n",
       "      <td>0.273314</td>\n",
       "      <td>0.032846</td>\n",
       "      <td>0.054065</td>\n",
       "      <td>0.072919</td>\n",
       "      <td>-0.185590</td>\n",
       "      <td>-0.107564</td>\n",
       "      <td>...</td>\n",
       "      <td>0.437255</td>\n",
       "      <td>-0.047085</td>\n",
       "      <td>-0.061093</td>\n",
       "      <td>-0.154030</td>\n",
       "      <td>0.163679</td>\n",
       "      <td>0.031437</td>\n",
       "      <td>0.250211</td>\n",
       "      <td>-0.098645</td>\n",
       "      <td>-0.540223</td>\n",
       "      <td>0.066467</td>\n",
       "    </tr>\n",
       "    <tr>\n",
       "      <th>7115793869152734470</th>\n",
       "      <td>0</td>\n",
       "      <td>1</td>\n",
       "      <td>92</td>\n",
       "      <td>0.194997</td>\n",
       "      <td>0.037579</td>\n",
       "      <td>0.097597</td>\n",
       "      <td>0.009470</td>\n",
       "      <td>0.182514</td>\n",
       "      <td>0.009474</td>\n",
       "      <td>0.106134</td>\n",
       "      <td>...</td>\n",
       "      <td>0.350993</td>\n",
       "      <td>0.008871</td>\n",
       "      <td>-0.096121</td>\n",
       "      <td>0.198289</td>\n",
       "      <td>0.080491</td>\n",
       "      <td>-0.023066</td>\n",
       "      <td>0.469067</td>\n",
       "      <td>0.263451</td>\n",
       "      <td>-0.396818</td>\n",
       "      <td>0.258626</td>\n",
       "    </tr>\n",
       "  </tbody>\n",
       "</table>\n",
       "<p>5 rows × 387 columns</p>\n",
       "</div>"
      ],
      "text/plain": [
       "                     Candidato_Bolsonaro  Candidato_Lula  Dias Decorridos  \\\n",
       "ID                                                                          \n",
       "7115033431473474822                    0               1               94   \n",
       "7115174031162215686                    0               1               94   \n",
       "7115357413712153861                    0               1               93   \n",
       "7115560675824422149                    0               1               93   \n",
       "7115793869152734470                    0               1               92   \n",
       "\n",
       "                           x1        x2        x3        x4        x5  \\\n",
       "ID                                                                      \n",
       "7115033431473474822 -0.222600  0.258170  0.165599 -0.210579  0.359918   \n",
       "7115174031162215686 -0.076441 -0.064013  0.016690 -0.081831  0.298343   \n",
       "7115357413712153861  0.003736  0.173703  0.069491 -0.038313 -0.085404   \n",
       "7115560675824422149  0.132854  0.273314  0.032846  0.054065  0.072919   \n",
       "7115793869152734470  0.194997  0.037579  0.097597  0.009470  0.182514   \n",
       "\n",
       "                           x6        x7  ...      x375      x376      x377  \\\n",
       "ID                                       ...                                 \n",
       "7115033431473474822 -0.001123  0.007566  ...  0.370087 -0.112563 -0.277257   \n",
       "7115174031162215686  0.040669  0.071783  ...  0.350493 -0.280780 -0.125492   \n",
       "7115357413712153861 -0.034746  0.297337  ...  0.187329 -0.236962 -0.093682   \n",
       "7115560675824422149 -0.185590 -0.107564  ...  0.437255 -0.047085 -0.061093   \n",
       "7115793869152734470  0.009474  0.106134  ...  0.350993  0.008871 -0.096121   \n",
       "\n",
       "                         x378      x379      x380      x381      x382  \\\n",
       "ID                                                                      \n",
       "7115033431473474822  0.095219 -0.293415  0.101862  0.038032  0.054848   \n",
       "7115174031162215686 -0.041718 -0.195529 -0.040299  0.187845 -0.148987   \n",
       "7115357413712153861  0.024438 -0.181835  0.066457  0.473372  0.165317   \n",
       "7115560675824422149 -0.154030  0.163679  0.031437  0.250211 -0.098645   \n",
       "7115793869152734470  0.198289  0.080491 -0.023066  0.469067  0.263451   \n",
       "\n",
       "                         x383      x384  \n",
       "ID                                       \n",
       "7115033431473474822  0.059788  0.128184  \n",
       "7115174031162215686 -0.014888  0.192366  \n",
       "7115357413712153861 -0.125917  0.037030  \n",
       "7115560675824422149 -0.540223  0.066467  \n",
       "7115793869152734470 -0.396818  0.258626  \n",
       "\n",
       "[5 rows x 387 columns]"
      ]
     },
     "execution_count": 5,
     "metadata": {},
     "output_type": "execute_result"
    }
   ],
   "source": [
    "dfx = pd.read_excel(f\"{BASE_PATH}full-preproc2-inputs_{MODEL_NAME}_{SOCIAL_NETWORK}.xlsx\", index_col='ID')\n",
    "dfx.drop(columns=[\"Only Hashtags\"],inplace=True)\n",
    "dfx.head()"
   ]
  },
  {
   "cell_type": "code",
   "execution_count": 6,
   "metadata": {
    "metadata": {}
   },
   "outputs": [
    {
     "data": {
      "text/html": [
       "<div>\n",
       "<style scoped>\n",
       "    .dataframe tbody tr th:only-of-type {\n",
       "        vertical-align: middle;\n",
       "    }\n",
       "\n",
       "    .dataframe tbody tr th {\n",
       "        vertical-align: top;\n",
       "    }\n",
       "\n",
       "    .dataframe thead th {\n",
       "        text-align: right;\n",
       "    }\n",
       "</style>\n",
       "<table border=\"1\" class=\"dataframe\">\n",
       "  <thead>\n",
       "    <tr style=\"text-align: right;\">\n",
       "      <th></th>\n",
       "      <th>Curtidas</th>\n",
       "      <th>Curtidas-Log</th>\n",
       "      <th>Curtidas-MinMax</th>\n",
       "      <th>Curtidas-Log-MinMax</th>\n",
       "      <th>Curtidas-2Classes-50p</th>\n",
       "    </tr>\n",
       "    <tr>\n",
       "      <th>ID</th>\n",
       "      <th></th>\n",
       "      <th></th>\n",
       "      <th></th>\n",
       "      <th></th>\n",
       "      <th></th>\n",
       "    </tr>\n",
       "  </thead>\n",
       "  <tbody>\n",
       "    <tr>\n",
       "      <th>7115033431473474822</th>\n",
       "      <td>11700</td>\n",
       "      <td>4.068186</td>\n",
       "      <td>0.005881</td>\n",
       "      <td>0.278511</td>\n",
       "      <td>0</td>\n",
       "    </tr>\n",
       "    <tr>\n",
       "      <th>7115174031162215686</th>\n",
       "      <td>33600</td>\n",
       "      <td>4.526339</td>\n",
       "      <td>0.018777</td>\n",
       "      <td>0.431384</td>\n",
       "      <td>1</td>\n",
       "    </tr>\n",
       "    <tr>\n",
       "      <th>7115357413712153861</th>\n",
       "      <td>34600</td>\n",
       "      <td>4.539076</td>\n",
       "      <td>0.019365</td>\n",
       "      <td>0.435634</td>\n",
       "      <td>1</td>\n",
       "    </tr>\n",
       "    <tr>\n",
       "      <th>7115560675824422149</th>\n",
       "      <td>47500</td>\n",
       "      <td>4.676694</td>\n",
       "      <td>0.026961</td>\n",
       "      <td>0.481554</td>\n",
       "      <td>1</td>\n",
       "    </tr>\n",
       "    <tr>\n",
       "      <th>7115793869152734470</th>\n",
       "      <td>22400</td>\n",
       "      <td>4.350248</td>\n",
       "      <td>0.012182</td>\n",
       "      <td>0.372628</td>\n",
       "      <td>1</td>\n",
       "    </tr>\n",
       "  </tbody>\n",
       "</table>\n",
       "</div>"
      ],
      "text/plain": [
       "                     Curtidas  Curtidas-Log  Curtidas-MinMax  \\\n",
       "ID                                                             \n",
       "7115033431473474822     11700      4.068186         0.005881   \n",
       "7115174031162215686     33600      4.526339         0.018777   \n",
       "7115357413712153861     34600      4.539076         0.019365   \n",
       "7115560675824422149     47500      4.676694         0.026961   \n",
       "7115793869152734470     22400      4.350248         0.012182   \n",
       "\n",
       "                     Curtidas-Log-MinMax  Curtidas-2Classes-50p  \n",
       "ID                                                               \n",
       "7115033431473474822             0.278511                      0  \n",
       "7115174031162215686             0.431384                      1  \n",
       "7115357413712153861             0.435634                      1  \n",
       "7115560675824422149             0.481554                      1  \n",
       "7115793869152734470             0.372628                      1  "
      ]
     },
     "execution_count": 6,
     "metadata": {},
     "output_type": "execute_result"
    }
   ],
   "source": [
    "dfy_full = pd.read_excel(f\"{BASE_PATH}full-preproc2-outputs_{MODEL_NAME}_{SOCIAL_NETWORK}.xlsx\", index_col='ID')\n",
    "dfy_full.head()"
   ]
  },
  {
   "cell_type": "markdown",
   "metadata": {},
   "source": [
    "## 1.1 - Escolha do Dataset (ALTERE)"
   ]
  },
  {
   "cell_type": "code",
   "execution_count": 7,
   "metadata": {},
   "outputs": [],
   "source": [
    "from util import filter_dataset\n",
    "\n",
    "# 'geral', 'lula' ou 'bolsonaro'\n",
    "SUB_DATASET = 'bolsonaro'\n",
    "\n",
    "TARGET_COL = 'Curtidas-2Classes-50p'"
   ]
  },
  {
   "cell_type": "code",
   "execution_count": 8,
   "metadata": {},
   "outputs": [
    {
     "name": "stdout",
     "output_type": "stream",
     "text": [
      "Dataset BOLSONARO (indicador 0)\n"
     ]
    }
   ],
   "source": [
    "dfx, dfy = filter_dataset(dfx, dfy_full, SUB_DATASET, TARGET_COL)"
   ]
  },
  {
   "cell_type": "code",
   "execution_count": 9,
   "metadata": {},
   "outputs": [
    {
     "data": {
      "text/plain": [
       "(260, 385)"
      ]
     },
     "execution_count": 9,
     "metadata": {},
     "output_type": "execute_result"
    }
   ],
   "source": [
    "dfx.columns\n",
    "dfx.shape"
   ]
  },
  {
   "cell_type": "code",
   "execution_count": 10,
   "metadata": {},
   "outputs": [
    {
     "data": {
      "text/plain": [
       "ID\n",
       "7114971700365692165    0\n",
       "7115050482179050758    0\n",
       "7115120078982630661    0\n",
       "7115161088219565317    0\n",
       "7115207919750253830    1\n",
       "Name: Curtidas-2Classes-50p, dtype: int64"
      ]
     },
     "execution_count": 10,
     "metadata": {},
     "output_type": "execute_result"
    }
   ],
   "source": [
    "\n",
    "dfy.head()\n",
    "#dfy.shape"
   ]
  },
  {
   "cell_type": "markdown",
   "metadata": {},
   "source": [
    "## 1.2 - Informações do Treinamento (ALTERE)"
   ]
  },
  {
   "cell_type": "code",
   "execution_count": 11,
   "metadata": {},
   "outputs": [],
   "source": [
    "from datetime import datetime\n",
    "\n",
    "RANDOM_STATE = 1231\n",
    "\n",
    "START_DATE_STR = datetime.now().strftime(\"%Y-%m-%d-%Hh%Mm\")\n",
    "#print(start_date_str)\n",
    "\n",
    "metadata = dict()\n",
    "metadata['date'] = START_DATE_STR\n",
    "metadata['subdataset'] = SUB_DATASET\n",
    "metadata['target'] = TARGET_COL\n",
    "metadata['random_state'] = RANDOM_STATE\n",
    "\n",
    "metadata['description'] =  f'''Treinamento com modelos com os \n",
    "dados balanceados (50p), com o dataset {SUB_DATASET}, com todos os modelos \n",
    "e com todos os ENSEMBLE, com a correção de escala para a MLP,\n",
    "variando class_weight para os modelos que suportam'''"
   ]
  },
  {
   "cell_type": "markdown",
   "metadata": {
    "id": "GbxpznNI60BD"
   },
   "source": [
    "# 2 - Modelos"
   ]
  },
  {
   "cell_type": "code",
   "execution_count": 12,
   "metadata": {
    "metadata": {}
   },
   "outputs": [],
   "source": [
    "from sklearn.pipeline import Pipeline\n",
    "from data_transformations_util import IdentityTransformer"
   ]
  },
  {
   "cell_type": "code",
   "execution_count": 13,
   "metadata": {
    "metadata": {}
   },
   "outputs": [],
   "source": [
    "from sklearn.ensemble import RandomForestClassifier\n",
    "from sklearn.linear_model import LogisticRegression\n",
    "from sklearn.svm import SVC\n",
    "from sklearn.neighbors import KNeighborsClassifier\n",
    "from sklearn.neural_network import MLPClassifier\n",
    "\n",
    "from sklearn.decomposition import PCA\n",
    "from sklearn.preprocessing import StandardScaler, MinMaxScaler"
   ]
  },
  {
   "cell_type": "code",
   "execution_count": 14,
   "metadata": {
    "metadata": {}
   },
   "outputs": [],
   "source": [
    "lista_modelos = [\n",
    "    {\n",
    "        \"nome_do_modelo\": 'MLP Neural Network',\n",
    "        \"estimador\": Pipeline([\n",
    "            ('pca', PCA()),\n",
    "            ('scaler', StandardScaler()), \n",
    "            ('predictor', MLPClassifier(random_state=42))\n",
    "        ]),\n",
    "        \"parametros\": {\n",
    "            'pca': [PCA(n_components=10), PCA(n_components=20), PCA(n_components=30)],\n",
    "            'scaler': [IdentityTransformer(), StandardScaler(), MinMaxScaler()],\n",
    "            'predictor__hidden_layer_sizes': [(256,), (512,), (1024,)],  # Number of neurons in the hidden layer\n",
    "            'predictor__learning_rate_init': [0.001, 0.01, 0.05],        # Learning rate\n",
    "        }\n",
    "    },\n",
    "    {\n",
    "        \"nome_do_modelo\": 'Support Vector Machine',\n",
    "        \"estimador\": Pipeline([\n",
    "            ('pca', PCA()),\n",
    "            ('scaler', StandardScaler()), \n",
    "            ('predictor', SVC(random_state=42))   #SVC(probability=True) # muito lento?  Tempo médio de treinamento sem proba: 21.55 segundos / com proba: 35.11 segundos\n",
    "        ]),\n",
    "        \"parametros\": {\n",
    "            'pca': [PCA(n_components=10), PCA(n_components=20), PCA(n_components=30)],\n",
    "            'scaler': [IdentityTransformer(), StandardScaler(), MinMaxScaler()],\n",
    "            'predictor__class_weight': ['balanced', None], \n",
    "            'predictor__C': [0.1, 1.0, 10.0, 20.0, 50.0],\n",
    "            'predictor__gamma': ['scale', 'auto'],\n",
    "            'predictor__kernel': ['rbf', 'sigmoid','linear']\n",
    "        }\n",
    "    },\n",
    "    {\n",
    "        \"nome_do_modelo\": 'Random Forest',\n",
    "        \"estimador\": Pipeline([\n",
    "            ('pca', PCA()),\n",
    "            ('predictor', RandomForestClassifier(random_state=42))\n",
    "        ]),\n",
    "        \"parametros\": {\n",
    "            'pca': [PCA(n_components=10), PCA(n_components=20), PCA(n_components=30)],\n",
    "            'predictor__n_estimators': [10, 30, 70], \n",
    "            'predictor__class_weight': ['balanced', None], \n",
    "            'predictor__max_depth': [3, 4, 5, None],\n",
    "            'predictor__min_samples_split': [2, 4, 8]\n",
    "        }\n",
    "    },\n",
    "    {\n",
    "        \"nome_do_modelo\": 'Logistic Regression',\n",
    "        \"estimador\": Pipeline([\n",
    "            ('pca', PCA()),\n",
    "            ('scaler', StandardScaler()), \n",
    "            ('predictor', LogisticRegression(solver='saga', random_state=42))   # Saga is the only solver to support the 3 options for 'penalty'\n",
    "        ]),\n",
    "        \"parametros\": {\n",
    "            'pca': [PCA(n_components=10), PCA(n_components=20), PCA(n_components=30)],\n",
    "            'scaler': [IdentityTransformer(), StandardScaler(), MinMaxScaler()],\n",
    "            'predictor__class_weight': ['balanced', None], \n",
    "            'predictor__C': [0.01, 0.1, 1.0, 2.0],         # Regularization parameter\n",
    "            'predictor__penalty': ['l1', 'l2', None]       # Penalty term\n",
    "        }\n",
    "    },\n",
    "    {\n",
    "        \"nome_do_modelo\": 'KNN',\n",
    "        \"estimador\": Pipeline([\n",
    "            ('pca', PCA),\n",
    "            ('scaler', StandardScaler()), \n",
    "            ('predictor', KNeighborsClassifier())\n",
    "        ]),\n",
    "        \"parametros\": {\n",
    "            'pca': [PCA(n_components=10), PCA(n_components=20), PCA(n_components=30)],\n",
    "            'scaler': [IdentityTransformer(), StandardScaler(), MinMaxScaler()],\n",
    "            'predictor__n_neighbors': [5, 10, 15, 20], \n",
    "            'predictor__weights': ['uniform', 'distance'], \n",
    "            'predictor__p': [1, 2]\n",
    "        }\n",
    "    },\n",
    "\n",
    "]"
   ]
  },
  {
   "cell_type": "code",
   "execution_count": 15,
   "metadata": {},
   "outputs": [
    {
     "data": {
      "text/plain": [
       "['MLP Neural Network',\n",
       " 'Support Vector Machine',\n",
       " 'Random Forest',\n",
       " 'Logistic Regression',\n",
       " 'KNN']"
      ]
     },
     "execution_count": 15,
     "metadata": {},
     "output_type": "execute_result"
    }
   ],
   "source": [
    "BASIC_MODEL_NAMES = [ mdl[\"nome_do_modelo\"] for mdl in lista_modelos ]\n",
    "metadata['basic_models'] = BASIC_MODEL_NAMES\n",
    "\n",
    "BASIC_MODEL_NAMES"
   ]
  },
  {
   "cell_type": "markdown",
   "metadata": {},
   "source": [
    "# 3 - Treinamento"
   ]
  },
  {
   "cell_type": "code",
   "execution_count": 16,
   "metadata": {
    "metadata": {}
   },
   "outputs": [],
   "source": [
    "from classification_train_util import nested_cross_validation_grid_search"
   ]
  },
  {
   "cell_type": "markdown",
   "metadata": {},
   "source": [
    "A linha abaixo executa nested cross-validation, com um grid search nos *inner folds*, para cada modelo."
   ]
  },
  {
   "cell_type": "code",
   "execution_count": null,
   "metadata": {
    "metadata": {}
   },
   "outputs": [
    {
     "name": "stdout",
     "output_type": "stream",
     "text": [
      "\n",
      "\n",
      "\n",
      " **** RESULTADO DOS MODELOS + CURVAS ROC E PR ****\n",
      "\n",
      "Treinando modelo MLP Neural Network .....\n",
      "-- coletando e armazenando resultados --\n",
      "\n",
      " - Acurácia   : 0.6385 +/- 0.07029\n",
      " - Precisão   : 0.6419 +/- 0.04582\n",
      " - Revocação  : 0.5846 +/- 0.22479\n",
      " - F1 - Score : 0.5882 +/- 0.17821\n",
      " - ROC - AUC  : 0.6354 +/- 0.17581\n",
      " - PR - AUC   : 0.6549 +/- 0.12271\n",
      " - Tempo médio de treinamento: 29.90 segundos\n",
      "\n",
      "================================================== \n",
      "\n",
      "Treinando modelo Support Vector Machine ....."
     ]
    }
   ],
   "source": [
    "\n",
    "last_run_basic = nested_cross_validation_grid_search(lista_modelos, dfx, dfy, 5, 5, rand_state=RANDOM_STATE)\n"
   ]
  },
  {
   "cell_type": "markdown",
   "metadata": {},
   "source": [
    "## 3.3 - Treina Ensembles (não foi publicado)"
   ]
  },
  {
   "cell_type": "code",
   "execution_count": null,
   "metadata": {},
   "outputs": [],
   "source": [
    "from copy import deepcopy\n",
    "\n",
    "from ensemble_train_util import select_best_models_of_type_fn, select_best_models_per_fold\n",
    "from ensemble_train_util import train_ensemble"
   ]
  },
  {
   "cell_type": "code",
   "execution_count": null,
   "metadata": {
    "metadata": {}
   },
   "outputs": [],
   "source": [
    "last_run_all = deepcopy(last_run_basic)"
   ]
  },
  {
   "cell_type": "code",
   "execution_count": null,
   "metadata": {
    "metadata": {}
   },
   "outputs": [
    {
     "name": "stdout",
     "output_type": "stream",
     "text": [
      "\n",
      "\n",
      "\n",
      " **** TREINANDO ENSEMBLE PARA MLP Neural Network ****\n",
      "\n",
      "."
     ]
    },
    {
     "name": "stderr",
     "output_type": "stream",
     "text": [
      "c:\\Users\\Kabum\\virtual_enviroment_llm\\.venv\\Lib\\site-packages\\sklearn\\neural_network\\_multilayer_perceptron.py:691: ConvergenceWarning: Stochastic Optimizer: Maximum iterations (200) reached and the optimization hasn't converged yet.\n",
      "  warnings.warn(\n"
     ]
    },
    {
     "name": "stdout",
     "output_type": "stream",
     "text": [
      "."
     ]
    },
    {
     "name": "stderr",
     "output_type": "stream",
     "text": [
      "c:\\Users\\Kabum\\virtual_enviroment_llm\\.venv\\Lib\\site-packages\\sklearn\\neural_network\\_multilayer_perceptron.py:691: ConvergenceWarning: Stochastic Optimizer: Maximum iterations (200) reached and the optimization hasn't converged yet.\n",
      "  warnings.warn(\n",
      "c:\\Users\\Kabum\\virtual_enviroment_llm\\.venv\\Lib\\site-packages\\sklearn\\neural_network\\_multilayer_perceptron.py:691: ConvergenceWarning: Stochastic Optimizer: Maximum iterations (200) reached and the optimization hasn't converged yet.\n",
      "  warnings.warn(\n"
     ]
    },
    {
     "name": "stdout",
     "output_type": "stream",
     "text": [
      ".."
     ]
    },
    {
     "name": "stderr",
     "output_type": "stream",
     "text": [
      "c:\\Users\\Kabum\\virtual_enviroment_llm\\.venv\\Lib\\site-packages\\sklearn\\neural_network\\_multilayer_perceptron.py:691: ConvergenceWarning: Stochastic Optimizer: Maximum iterations (200) reached and the optimization hasn't converged yet.\n",
      "  warnings.warn(\n",
      "c:\\Users\\Kabum\\virtual_enviroment_llm\\.venv\\Lib\\site-packages\\sklearn\\neural_network\\_multilayer_perceptron.py:691: ConvergenceWarning: Stochastic Optimizer: Maximum iterations (200) reached and the optimization hasn't converged yet.\n",
      "  warnings.warn(\n"
     ]
    },
    {
     "name": "stdout",
     "output_type": "stream",
     "text": [
      "."
     ]
    },
    {
     "name": "stderr",
     "output_type": "stream",
     "text": [
      "c:\\Users\\Kabum\\virtual_enviroment_llm\\.venv\\Lib\\site-packages\\sklearn\\neural_network\\_multilayer_perceptron.py:691: ConvergenceWarning: Stochastic Optimizer: Maximum iterations (200) reached and the optimization hasn't converged yet.\n",
      "  warnings.warn(\n",
      "c:\\Users\\Kabum\\virtual_enviroment_llm\\.venv\\Lib\\site-packages\\sklearn\\neural_network\\_multilayer_perceptron.py:691: ConvergenceWarning: Stochastic Optimizer: Maximum iterations (200) reached and the optimization hasn't converged yet.\n",
      "  warnings.warn(\n"
     ]
    },
    {
     "name": "stdout",
     "output_type": "stream",
     "text": [
      "."
     ]
    },
    {
     "name": "stderr",
     "output_type": "stream",
     "text": [
      "c:\\Users\\Kabum\\virtual_enviroment_llm\\.venv\\Lib\\site-packages\\sklearn\\neural_network\\_multilayer_perceptron.py:691: ConvergenceWarning: Stochastic Optimizer: Maximum iterations (200) reached and the optimization hasn't converged yet.\n",
      "  warnings.warn(\n"
     ]
    },
    {
     "name": "stdout",
     "output_type": "stream",
     "text": [
      "."
     ]
    },
    {
     "name": "stderr",
     "output_type": "stream",
     "text": [
      "c:\\Users\\Kabum\\virtual_enviroment_llm\\.venv\\Lib\\site-packages\\sklearn\\neural_network\\_multilayer_perceptron.py:691: ConvergenceWarning: Stochastic Optimizer: Maximum iterations (200) reached and the optimization hasn't converged yet.\n",
      "  warnings.warn(\n",
      "c:\\Users\\Kabum\\virtual_enviroment_llm\\.venv\\Lib\\site-packages\\sklearn\\neural_network\\_multilayer_perceptron.py:691: ConvergenceWarning: Stochastic Optimizer: Maximum iterations (200) reached and the optimization hasn't converged yet.\n",
      "  warnings.warn(\n"
     ]
    },
    {
     "name": "stdout",
     "output_type": "stream",
     "text": [
      ".."
     ]
    },
    {
     "name": "stderr",
     "output_type": "stream",
     "text": [
      "c:\\Users\\Kabum\\virtual_enviroment_llm\\.venv\\Lib\\site-packages\\sklearn\\neural_network\\_multilayer_perceptron.py:691: ConvergenceWarning: Stochastic Optimizer: Maximum iterations (200) reached and the optimization hasn't converged yet.\n",
      "  warnings.warn(\n",
      "c:\\Users\\Kabum\\virtual_enviroment_llm\\.venv\\Lib\\site-packages\\sklearn\\neural_network\\_multilayer_perceptron.py:691: ConvergenceWarning: Stochastic Optimizer: Maximum iterations (200) reached and the optimization hasn't converged yet.\n",
      "  warnings.warn(\n"
     ]
    },
    {
     "name": "stdout",
     "output_type": "stream",
     "text": [
      "."
     ]
    },
    {
     "name": "stderr",
     "output_type": "stream",
     "text": [
      "c:\\Users\\Kabum\\virtual_enviroment_llm\\.venv\\Lib\\site-packages\\sklearn\\neural_network\\_multilayer_perceptron.py:691: ConvergenceWarning: Stochastic Optimizer: Maximum iterations (200) reached and the optimization hasn't converged yet.\n",
      "  warnings.warn(\n",
      "c:\\Users\\Kabum\\virtual_enviroment_llm\\.venv\\Lib\\site-packages\\sklearn\\neural_network\\_multilayer_perceptron.py:691: ConvergenceWarning: Stochastic Optimizer: Maximum iterations (200) reached and the optimization hasn't converged yet.\n",
      "  warnings.warn(\n"
     ]
    },
    {
     "name": "stdout",
     "output_type": "stream",
     "text": [
      "\n",
      "\n",
      "\n",
      " **** TREINANDO ENSEMBLE PARA Support Vector Machine ****\n",
      "\n",
      "..........\n",
      "\n",
      "\n",
      " **** TREINANDO ENSEMBLE PARA Random Forest ****\n",
      "\n",
      "..........\n",
      "\n",
      "\n",
      " **** TREINANDO ENSEMBLE PARA Logistic Regression ****\n",
      "\n",
      ".."
     ]
    },
    {
     "name": "stderr",
     "output_type": "stream",
     "text": [
      "c:\\Users\\Kabum\\virtual_enviroment_llm\\.venv\\Lib\\site-packages\\sklearn\\linear_model\\_logistic.py:1207: UserWarning: Setting penalty=None will ignore the C and l1_ratio parameters\n",
      "  warnings.warn(\n",
      "c:\\Users\\Kabum\\virtual_enviroment_llm\\.venv\\Lib\\site-packages\\sklearn\\linear_model\\_sag.py:348: ConvergenceWarning: The max_iter was reached which means the coef_ did not converge\n",
      "  warnings.warn(\n",
      "c:\\Users\\Kabum\\virtual_enviroment_llm\\.venv\\Lib\\site-packages\\sklearn\\linear_model\\_logistic.py:1207: UserWarning: Setting penalty=None will ignore the C and l1_ratio parameters\n",
      "  warnings.warn(\n",
      "c:\\Users\\Kabum\\virtual_enviroment_llm\\.venv\\Lib\\site-packages\\sklearn\\linear_model\\_sag.py:348: ConvergenceWarning: The max_iter was reached which means the coef_ did not converge\n",
      "  warnings.warn(\n"
     ]
    },
    {
     "name": "stdout",
     "output_type": "stream",
     "text": [
      ".."
     ]
    },
    {
     "name": "stderr",
     "output_type": "stream",
     "text": [
      "c:\\Users\\Kabum\\virtual_enviroment_llm\\.venv\\Lib\\site-packages\\sklearn\\linear_model\\_logistic.py:1207: UserWarning: Setting penalty=None will ignore the C and l1_ratio parameters\n",
      "  warnings.warn(\n",
      "c:\\Users\\Kabum\\virtual_enviroment_llm\\.venv\\Lib\\site-packages\\sklearn\\linear_model\\_sag.py:348: ConvergenceWarning: The max_iter was reached which means the coef_ did not converge\n",
      "  warnings.warn(\n",
      "c:\\Users\\Kabum\\virtual_enviroment_llm\\.venv\\Lib\\site-packages\\sklearn\\linear_model\\_logistic.py:1207: UserWarning: Setting penalty=None will ignore the C and l1_ratio parameters\n",
      "  warnings.warn(\n",
      "c:\\Users\\Kabum\\virtual_enviroment_llm\\.venv\\Lib\\site-packages\\sklearn\\linear_model\\_sag.py:348: ConvergenceWarning: The max_iter was reached which means the coef_ did not converge\n",
      "  warnings.warn(\n"
     ]
    },
    {
     "name": "stdout",
     "output_type": "stream",
     "text": [
      "..."
     ]
    },
    {
     "name": "stderr",
     "output_type": "stream",
     "text": [
      "c:\\Users\\Kabum\\virtual_enviroment_llm\\.venv\\Lib\\site-packages\\sklearn\\linear_model\\_logistic.py:1207: UserWarning: Setting penalty=None will ignore the C and l1_ratio parameters\n",
      "  warnings.warn(\n",
      "c:\\Users\\Kabum\\virtual_enviroment_llm\\.venv\\Lib\\site-packages\\sklearn\\linear_model\\_sag.py:348: ConvergenceWarning: The max_iter was reached which means the coef_ did not converge\n",
      "  warnings.warn(\n",
      "c:\\Users\\Kabum\\virtual_enviroment_llm\\.venv\\Lib\\site-packages\\sklearn\\linear_model\\_logistic.py:1207: UserWarning: Setting penalty=None will ignore the C and l1_ratio parameters\n",
      "  warnings.warn(\n",
      "c:\\Users\\Kabum\\virtual_enviroment_llm\\.venv\\Lib\\site-packages\\sklearn\\linear_model\\_sag.py:348: ConvergenceWarning: The max_iter was reached which means the coef_ did not converge\n",
      "  warnings.warn(\n",
      "c:\\Users\\Kabum\\virtual_enviroment_llm\\.venv\\Lib\\site-packages\\sklearn\\linear_model\\_logistic.py:1207: UserWarning: Setting penalty=None will ignore the C and l1_ratio parameters\n",
      "  warnings.warn(\n",
      "c:\\Users\\Kabum\\virtual_enviroment_llm\\.venv\\Lib\\site-packages\\sklearn\\linear_model\\_sag.py:348: ConvergenceWarning: The max_iter was reached which means the coef_ did not converge\n",
      "  warnings.warn(\n",
      "c:\\Users\\Kabum\\virtual_enviroment_llm\\.venv\\Lib\\site-packages\\sklearn\\linear_model\\_logistic.py:1207: UserWarning: Setting penalty=None will ignore the C and l1_ratio parameters\n",
      "  warnings.warn(\n",
      "c:\\Users\\Kabum\\virtual_enviroment_llm\\.venv\\Lib\\site-packages\\sklearn\\linear_model\\_sag.py:348: ConvergenceWarning: The max_iter was reached which means the coef_ did not converge\n",
      "  warnings.warn(\n"
     ]
    },
    {
     "name": "stdout",
     "output_type": "stream",
     "text": [
      "..."
     ]
    },
    {
     "name": "stderr",
     "output_type": "stream",
     "text": [
      "c:\\Users\\Kabum\\virtual_enviroment_llm\\.venv\\Lib\\site-packages\\sklearn\\linear_model\\_logistic.py:1207: UserWarning: Setting penalty=None will ignore the C and l1_ratio parameters\n",
      "  warnings.warn(\n",
      "c:\\Users\\Kabum\\virtual_enviroment_llm\\.venv\\Lib\\site-packages\\sklearn\\linear_model\\_sag.py:348: ConvergenceWarning: The max_iter was reached which means the coef_ did not converge\n",
      "  warnings.warn(\n",
      "c:\\Users\\Kabum\\virtual_enviroment_llm\\.venv\\Lib\\site-packages\\sklearn\\linear_model\\_logistic.py:1207: UserWarning: Setting penalty=None will ignore the C and l1_ratio parameters\n",
      "  warnings.warn(\n",
      "c:\\Users\\Kabum\\virtual_enviroment_llm\\.venv\\Lib\\site-packages\\sklearn\\linear_model\\_sag.py:348: ConvergenceWarning: The max_iter was reached which means the coef_ did not converge\n",
      "  warnings.warn(\n"
     ]
    },
    {
     "name": "stdout",
     "output_type": "stream",
     "text": [
      "\n",
      "\n",
      "\n",
      " **** TREINANDO ENSEMBLE PARA KNN ****\n",
      "\n",
      ".........."
     ]
    }
   ],
   "source": [
    "#models_list = ['MLP Neural Network', 'Support Vector Machine', 'Random Forest', 'Logistic Regression', 'KNN']\n",
    "\n",
    "for model_name in BASIC_MODEL_NAMES:\n",
    "    print(f\"\\n\\n\\n **** TREINANDO ENSEMBLE PARA {model_name} ****\\n\")\n",
    "    contracted_name = ''.join([name[0] for name in model_name.split()])\n",
    "    results_ensemble = train_ensemble(select_best_models_of_type_fn(model_name), last_run_all, dfx, dfy, name_prefix=contracted_name)\n",
    "\n",
    "    # merge results with results_with_ensemble\n",
    "    last_run_all.update(results_ensemble)"
   ]
  },
  {
   "cell_type": "code",
   "execution_count": null,
   "metadata": {
    "metadata": {}
   },
   "outputs": [
    {
     "name": "stdout",
     "output_type": "stream",
     "text": [
      ".........."
     ]
    }
   ],
   "source": [
    "results_ensemble = train_ensemble(select_best_models_per_fold, last_run_basic, dfx, dfy, name_prefix=\"BPF\")  # BPF - best per fold\n",
    "\n",
    "# check if keys have no intersection (no common key)\n",
    "assert len(set(last_run_all.keys()) & set(results_ensemble.keys())) == 0\n",
    "\n",
    "# merge results with results_with_ensemble\n",
    "last_run_all.update(results_ensemble)"
   ]
  },
  {
   "cell_type": "markdown",
   "metadata": {},
   "source": [
    "## 3.4 - Salva Resultados"
   ]
  },
  {
   "cell_type": "code",
   "execution_count": null,
   "metadata": {},
   "outputs": [],
   "source": [
    "from util import save_results"
   ]
  },
  {
   "cell_type": "code",
   "execution_count": null,
   "metadata": {},
   "outputs": [
    {
     "data": {
      "text/plain": [
       "dict_keys(['MLP Neural Network', 'Support Vector Machine', 'Random Forest', 'Logistic Regression', 'KNN', 'MNN-hard-vote', 'MNN-soft-vote', 'SVM-hard-vote', 'SVM-soft-vote', 'RF-hard-vote', 'RF-soft-vote', 'LR-hard-vote', 'LR-soft-vote', 'K-hard-vote', 'K-soft-vote', 'BPF-hard-vote', 'BPF-soft-vote'])"
      ]
     },
     "execution_count": 133,
     "metadata": {},
     "output_type": "execute_result"
    }
   ],
   "source": [
    "last_run_all.keys()"
   ]
  },
  {
   "cell_type": "code",
   "execution_count": null,
   "metadata": {},
   "outputs": [
    {
     "name": "stdout",
     "output_type": "stream",
     "text": [
      "Arquivo salvo: resultados/resultados50p_2025-03-17-02h35m_bolsonaro(mxbai-embed-large-v1)_(tiktok).npy\n"
     ]
    }
   ],
   "source": [
    "OUTPUT_FILE_PATH = f'resultados/resultados50p_{START_DATE_STR}_{SUB_DATASET}({MODEL_NAME})_({SOCIAL_NETWORK}).npy'\n",
    "\n",
    "save_results(OUTPUT_FILE_PATH, last_run_all, metadata)\n",
    "\n",
    "print(\"Arquivo salvo:\", OUTPUT_FILE_PATH)"
   ]
  },
  {
   "cell_type": "markdown",
   "metadata": {},
   "source": [
    "----"
   ]
  },
  {
   "cell_type": "markdown",
   "metadata": {},
   "source": [
    "# FIM"
   ]
  }
 ],
 "metadata": {
  "colab": {
   "authorship_tag": "ABX9TyOuiv0RFkkwcXnb26LS0lwg",
   "provenance": [
    {
     "file_id": "1y8SEBwz0ltHkmfXNFpsBTWvHkCb-CFdt",
     "timestamp": 1676506165799
    }
   ]
  },
  "kernelspec": {
   "display_name": ".venv",
   "language": "python",
   "name": "python3"
  },
  "language_info": {
   "codemirror_mode": {
    "name": "ipython",
    "version": 3
   },
   "file_extension": ".py",
   "mimetype": "text/x-python",
   "name": "python",
   "nbconvert_exporter": "python",
   "pygments_lexer": "ipython3",
   "version": "3.12.6"
  }
 },
 "nbformat": 4,
 "nbformat_minor": 0
}
