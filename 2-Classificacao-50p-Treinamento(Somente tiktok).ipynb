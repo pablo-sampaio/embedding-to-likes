{
 "cells": [
  {
   "cell_type": "markdown",
   "metadata": {},
   "source": [
    "# Previsão de Engajamento - Classificação"
   ]
  },
  {
   "cell_type": "markdown",
   "metadata": {},
   "source": [
    "Este notebook define modelos e hiperparâmetros e executa um validação cruzada aninhada com grid search para otimização de hiperparâmetros e treinamento.\n",
    "\n",
    "- Entrada: `full-preproc2-inputs_(NOME_DO_MODELO)_(REDE_SOCIAL)` \n",
    "e `full-preproc2-outputs_(NOME_DO_MODELO)_(REDE_SOCIAL)`\n",
    "- Saída: `resultados/resultados50p_{START_DATE_STR}_{SUB_DATASET}_(NOME_DO_MODELO)_(REDE_SOCIAL).npy`\n"
   ]
  },
  {
   "cell_type": "code",
   "execution_count": 1,
   "metadata": {
    "cellView": "form",
    "executionInfo": {
     "elapsed": 3119,
     "status": "ok",
     "timestamp": 1678973020538,
     "user": {
      "displayName": "PABLO SAMPAIO",
      "userId": "06578877141428254753"
     },
     "user_tz": 180
    },
    "id": "OJV4GlB7-Jqx",
    "metadata": {}
   },
   "outputs": [],
   "source": [
    "#@title Importações de pacote\n",
    "import pandas as pd"
   ]
  },
  {
   "cell_type": "code",
   "execution_count": 2,
   "metadata": {
    "metadata": {}
   },
   "outputs": [],
   "source": [
    "BASE_PATH = 'dados/preprocessed/'\n",
    "MODEL_NAME = 'mxbai-embed-large-v1'\n",
    "SOCIAL_NETWORK = 'tiktok'"
   ]
  },
  {
   "cell_type": "markdown",
   "metadata": {
    "id": "xg4V0QFFLo7g"
   },
   "source": [
    "# 1 - Carregando os Dados"
   ]
  },
  {
   "cell_type": "markdown",
   "metadata": {
    "id": "Z_SocVpnTp-p"
   },
   "source": [
    "Carregando dados brutos gerais."
   ]
  },
  {
   "cell_type": "code",
   "execution_count": 3,
   "metadata": {
    "executionInfo": {
     "elapsed": 838,
     "status": "ok",
     "timestamp": 1678973021364,
     "user": {
      "displayName": "PABLO SAMPAIO",
      "userId": "06578877141428254753"
     },
     "user_tz": 180
    },
    "id": "pbGadD5L-aMf",
    "metadata": {}
   },
   "outputs": [
    {
     "data": {
      "text/html": [
       "<div>\n",
       "<style scoped>\n",
       "    .dataframe tbody tr th:only-of-type {\n",
       "        vertical-align: middle;\n",
       "    }\n",
       "\n",
       "    .dataframe tbody tr th {\n",
       "        vertical-align: top;\n",
       "    }\n",
       "\n",
       "    .dataframe thead th {\n",
       "        text-align: right;\n",
       "    }\n",
       "</style>\n",
       "<table border=\"1\" class=\"dataframe\">\n",
       "  <thead>\n",
       "    <tr style=\"text-align: right;\">\n",
       "      <th></th>\n",
       "      <th>Candidato_Bolsonaro</th>\n",
       "      <th>Candidato_Lula</th>\n",
       "      <th>Only Hashtags</th>\n",
       "      <th>Dias Decorridos</th>\n",
       "      <th>x1</th>\n",
       "      <th>x2</th>\n",
       "      <th>x3</th>\n",
       "      <th>x4</th>\n",
       "      <th>x5</th>\n",
       "      <th>x6</th>\n",
       "      <th>...</th>\n",
       "      <th>x1015</th>\n",
       "      <th>x1016</th>\n",
       "      <th>x1017</th>\n",
       "      <th>x1018</th>\n",
       "      <th>x1019</th>\n",
       "      <th>x1020</th>\n",
       "      <th>x1021</th>\n",
       "      <th>x1022</th>\n",
       "      <th>x1023</th>\n",
       "      <th>x1024</th>\n",
       "    </tr>\n",
       "    <tr>\n",
       "      <th>ID</th>\n",
       "      <th></th>\n",
       "      <th></th>\n",
       "      <th></th>\n",
       "      <th></th>\n",
       "      <th></th>\n",
       "      <th></th>\n",
       "      <th></th>\n",
       "      <th></th>\n",
       "      <th></th>\n",
       "      <th></th>\n",
       "      <th></th>\n",
       "      <th></th>\n",
       "      <th></th>\n",
       "      <th></th>\n",
       "      <th></th>\n",
       "      <th></th>\n",
       "      <th></th>\n",
       "      <th></th>\n",
       "      <th></th>\n",
       "      <th></th>\n",
       "      <th></th>\n",
       "    </tr>\n",
       "  </thead>\n",
       "  <tbody>\n",
       "    <tr>\n",
       "      <th>7115033431473474822</th>\n",
       "      <td>0</td>\n",
       "      <td>1</td>\n",
       "      <td>False</td>\n",
       "      <td>94</td>\n",
       "      <td>-0.136752</td>\n",
       "      <td>-0.004471</td>\n",
       "      <td>-0.197404</td>\n",
       "      <td>0.771875</td>\n",
       "      <td>0.271732</td>\n",
       "      <td>-0.831048</td>\n",
       "      <td>...</td>\n",
       "      <td>0.991231</td>\n",
       "      <td>-0.179094</td>\n",
       "      <td>0.009374</td>\n",
       "      <td>-0.510456</td>\n",
       "      <td>0.732227</td>\n",
       "      <td>-0.253170</td>\n",
       "      <td>0.185578</td>\n",
       "      <td>0.151233</td>\n",
       "      <td>-0.443790</td>\n",
       "      <td>-0.479070</td>\n",
       "    </tr>\n",
       "    <tr>\n",
       "      <th>7115174031162215686</th>\n",
       "      <td>0</td>\n",
       "      <td>1</td>\n",
       "      <td>False</td>\n",
       "      <td>94</td>\n",
       "      <td>-0.202921</td>\n",
       "      <td>0.046833</td>\n",
       "      <td>-0.182256</td>\n",
       "      <td>0.666116</td>\n",
       "      <td>0.354371</td>\n",
       "      <td>-0.201803</td>\n",
       "      <td>...</td>\n",
       "      <td>1.219669</td>\n",
       "      <td>-0.223046</td>\n",
       "      <td>-0.214730</td>\n",
       "      <td>-0.466289</td>\n",
       "      <td>0.785575</td>\n",
       "      <td>-0.121878</td>\n",
       "      <td>0.218252</td>\n",
       "      <td>0.497084</td>\n",
       "      <td>-0.662330</td>\n",
       "      <td>0.082123</td>\n",
       "    </tr>\n",
       "    <tr>\n",
       "      <th>7115357413712153861</th>\n",
       "      <td>0</td>\n",
       "      <td>1</td>\n",
       "      <td>False</td>\n",
       "      <td>93</td>\n",
       "      <td>0.029744</td>\n",
       "      <td>0.393452</td>\n",
       "      <td>-0.301938</td>\n",
       "      <td>0.995043</td>\n",
       "      <td>-0.297031</td>\n",
       "      <td>-0.431491</td>\n",
       "      <td>...</td>\n",
       "      <td>0.703671</td>\n",
       "      <td>0.198557</td>\n",
       "      <td>-0.226507</td>\n",
       "      <td>-0.561226</td>\n",
       "      <td>0.717053</td>\n",
       "      <td>0.401612</td>\n",
       "      <td>-0.630034</td>\n",
       "      <td>-0.050426</td>\n",
       "      <td>-0.719983</td>\n",
       "      <td>-0.286128</td>\n",
       "    </tr>\n",
       "    <tr>\n",
       "      <th>7115560675824422149</th>\n",
       "      <td>0</td>\n",
       "      <td>1</td>\n",
       "      <td>False</td>\n",
       "      <td>93</td>\n",
       "      <td>-0.185425</td>\n",
       "      <td>0.782692</td>\n",
       "      <td>-0.086695</td>\n",
       "      <td>0.831251</td>\n",
       "      <td>0.337393</td>\n",
       "      <td>-0.693311</td>\n",
       "      <td>...</td>\n",
       "      <td>0.841613</td>\n",
       "      <td>-0.037051</td>\n",
       "      <td>-0.316676</td>\n",
       "      <td>-0.510069</td>\n",
       "      <td>0.825399</td>\n",
       "      <td>0.095525</td>\n",
       "      <td>-0.296313</td>\n",
       "      <td>0.055677</td>\n",
       "      <td>-0.575535</td>\n",
       "      <td>-0.053547</td>\n",
       "    </tr>\n",
       "    <tr>\n",
       "      <th>7115793869152734470</th>\n",
       "      <td>0</td>\n",
       "      <td>1</td>\n",
       "      <td>False</td>\n",
       "      <td>92</td>\n",
       "      <td>0.068613</td>\n",
       "      <td>-0.065852</td>\n",
       "      <td>-0.359612</td>\n",
       "      <td>0.638832</td>\n",
       "      <td>-0.074697</td>\n",
       "      <td>-0.239683</td>\n",
       "      <td>...</td>\n",
       "      <td>0.919486</td>\n",
       "      <td>0.173887</td>\n",
       "      <td>-0.563785</td>\n",
       "      <td>-0.028777</td>\n",
       "      <td>0.640279</td>\n",
       "      <td>0.146346</td>\n",
       "      <td>-0.096667</td>\n",
       "      <td>0.012495</td>\n",
       "      <td>-0.735688</td>\n",
       "      <td>-0.274756</td>\n",
       "    </tr>\n",
       "  </tbody>\n",
       "</table>\n",
       "<p>5 rows × 1028 columns</p>\n",
       "</div>"
      ],
      "text/plain": [
       "                     Candidato_Bolsonaro  Candidato_Lula  Only Hashtags  \\\n",
       "ID                                                                        \n",
       "7115033431473474822                    0               1          False   \n",
       "7115174031162215686                    0               1          False   \n",
       "7115357413712153861                    0               1          False   \n",
       "7115560675824422149                    0               1          False   \n",
       "7115793869152734470                    0               1          False   \n",
       "\n",
       "                     Dias Decorridos        x1        x2        x3        x4  \\\n",
       "ID                                                                             \n",
       "7115033431473474822               94 -0.136752 -0.004471 -0.197404  0.771875   \n",
       "7115174031162215686               94 -0.202921  0.046833 -0.182256  0.666116   \n",
       "7115357413712153861               93  0.029744  0.393452 -0.301938  0.995043   \n",
       "7115560675824422149               93 -0.185425  0.782692 -0.086695  0.831251   \n",
       "7115793869152734470               92  0.068613 -0.065852 -0.359612  0.638832   \n",
       "\n",
       "                           x5        x6  ...     x1015     x1016     x1017  \\\n",
       "ID                                       ...                                 \n",
       "7115033431473474822  0.271732 -0.831048  ...  0.991231 -0.179094  0.009374   \n",
       "7115174031162215686  0.354371 -0.201803  ...  1.219669 -0.223046 -0.214730   \n",
       "7115357413712153861 -0.297031 -0.431491  ...  0.703671  0.198557 -0.226507   \n",
       "7115560675824422149  0.337393 -0.693311  ...  0.841613 -0.037051 -0.316676   \n",
       "7115793869152734470 -0.074697 -0.239683  ...  0.919486  0.173887 -0.563785   \n",
       "\n",
       "                        x1018     x1019     x1020     x1021     x1022  \\\n",
       "ID                                                                      \n",
       "7115033431473474822 -0.510456  0.732227 -0.253170  0.185578  0.151233   \n",
       "7115174031162215686 -0.466289  0.785575 -0.121878  0.218252  0.497084   \n",
       "7115357413712153861 -0.561226  0.717053  0.401612 -0.630034 -0.050426   \n",
       "7115560675824422149 -0.510069  0.825399  0.095525 -0.296313  0.055677   \n",
       "7115793869152734470 -0.028777  0.640279  0.146346 -0.096667  0.012495   \n",
       "\n",
       "                        x1023     x1024  \n",
       "ID                                       \n",
       "7115033431473474822 -0.443790 -0.479070  \n",
       "7115174031162215686 -0.662330  0.082123  \n",
       "7115357413712153861 -0.719983 -0.286128  \n",
       "7115560675824422149 -0.575535 -0.053547  \n",
       "7115793869152734470 -0.735688 -0.274756  \n",
       "\n",
       "[5 rows x 1028 columns]"
      ]
     },
     "execution_count": 3,
     "metadata": {},
     "output_type": "execute_result"
    }
   ],
   "source": [
    "dfx = pd.read_excel(f\"{BASE_PATH}full-preproc2-inputs_{MODEL_NAME}_{SOCIAL_NETWORK}.xlsx\", index_col='ID')\n",
    "dfx.head()"
   ]
  },
  {
   "cell_type": "code",
   "execution_count": 4,
   "metadata": {
    "metadata": {}
   },
   "outputs": [
    {
     "data": {
      "text/html": [
       "<div>\n",
       "<style scoped>\n",
       "    .dataframe tbody tr th:only-of-type {\n",
       "        vertical-align: middle;\n",
       "    }\n",
       "\n",
       "    .dataframe tbody tr th {\n",
       "        vertical-align: top;\n",
       "    }\n",
       "\n",
       "    .dataframe thead th {\n",
       "        text-align: right;\n",
       "    }\n",
       "</style>\n",
       "<table border=\"1\" class=\"dataframe\">\n",
       "  <thead>\n",
       "    <tr style=\"text-align: right;\">\n",
       "      <th></th>\n",
       "      <th>Curtidas</th>\n",
       "      <th>Curtidas-Log</th>\n",
       "      <th>Curtidas-MinMax</th>\n",
       "      <th>Curtidas-Log-MinMax</th>\n",
       "      <th>Curtidas-2Classes-50p</th>\n",
       "    </tr>\n",
       "    <tr>\n",
       "      <th>ID</th>\n",
       "      <th></th>\n",
       "      <th></th>\n",
       "      <th></th>\n",
       "      <th></th>\n",
       "      <th></th>\n",
       "    </tr>\n",
       "  </thead>\n",
       "  <tbody>\n",
       "    <tr>\n",
       "      <th>7115033431473474822</th>\n",
       "      <td>11700</td>\n",
       "      <td>4.068186</td>\n",
       "      <td>0.005881</td>\n",
       "      <td>0.278511</td>\n",
       "      <td>0</td>\n",
       "    </tr>\n",
       "    <tr>\n",
       "      <th>7115174031162215686</th>\n",
       "      <td>33600</td>\n",
       "      <td>4.526339</td>\n",
       "      <td>0.018777</td>\n",
       "      <td>0.431384</td>\n",
       "      <td>1</td>\n",
       "    </tr>\n",
       "    <tr>\n",
       "      <th>7115357413712153861</th>\n",
       "      <td>34600</td>\n",
       "      <td>4.539076</td>\n",
       "      <td>0.019365</td>\n",
       "      <td>0.435634</td>\n",
       "      <td>1</td>\n",
       "    </tr>\n",
       "    <tr>\n",
       "      <th>7115560675824422149</th>\n",
       "      <td>47500</td>\n",
       "      <td>4.676694</td>\n",
       "      <td>0.026961</td>\n",
       "      <td>0.481554</td>\n",
       "      <td>1</td>\n",
       "    </tr>\n",
       "    <tr>\n",
       "      <th>7115793869152734470</th>\n",
       "      <td>22400</td>\n",
       "      <td>4.350248</td>\n",
       "      <td>0.012182</td>\n",
       "      <td>0.372628</td>\n",
       "      <td>1</td>\n",
       "    </tr>\n",
       "  </tbody>\n",
       "</table>\n",
       "</div>"
      ],
      "text/plain": [
       "                     Curtidas  Curtidas-Log  Curtidas-MinMax  \\\n",
       "ID                                                             \n",
       "7115033431473474822     11700      4.068186         0.005881   \n",
       "7115174031162215686     33600      4.526339         0.018777   \n",
       "7115357413712153861     34600      4.539076         0.019365   \n",
       "7115560675824422149     47500      4.676694         0.026961   \n",
       "7115793869152734470     22400      4.350248         0.012182   \n",
       "\n",
       "                     Curtidas-Log-MinMax  Curtidas-2Classes-50p  \n",
       "ID                                                               \n",
       "7115033431473474822             0.278511                      0  \n",
       "7115174031162215686             0.431384                      1  \n",
       "7115357413712153861             0.435634                      1  \n",
       "7115560675824422149             0.481554                      1  \n",
       "7115793869152734470             0.372628                      1  "
      ]
     },
     "execution_count": 4,
     "metadata": {},
     "output_type": "execute_result"
    }
   ],
   "source": [
    "dfy_full = pd.read_excel(f\"{BASE_PATH}full-preproc2-outputs_{MODEL_NAME}_{SOCIAL_NETWORK}.xlsx\", index_col='ID')\n",
    "dfy_full.head()"
   ]
  },
  {
   "cell_type": "markdown",
   "metadata": {},
   "source": [
    "## 1.1 - Informações do Treinamento (ALTERE)"
   ]
  },
  {
   "cell_type": "code",
   "execution_count": 5,
   "metadata": {},
   "outputs": [],
   "source": [
    "# 'geral', 'lula' ou 'bolsonaro'\n",
    "#SUB_DATASET = 'lula'\n",
    "SUB_DATASET = 'bolsonaro'\n",
    "\n",
    "#DROP_FEATURES = []\n",
    "DROP_FEATURES = ['Only Hashtags', 'Dias Decorridos']\n",
    "\n",
    "RANDOM_STATE = 1231\n",
    "\n",
    "DESCRIPTION = f'''Treinamento com \n",
    "    - dados balanceados (50p) \n",
    "    - dataset {SUB_DATASET}\n",
    "    - com todos os modelos, incluindo novos ensembles (sem vazamento?)\n",
    "    - deixando APENAS as features dos embeddings\n",
    "'''"
   ]
  },
  {
   "cell_type": "code",
   "execution_count": 6,
   "metadata": {},
   "outputs": [],
   "source": [
    "from util import filter_dataset\n",
    "from datetime import datetime\n",
    "\n",
    "metadata = dict()\n",
    "\n",
    "START_DATE_STR = datetime.now().strftime(\"%Y-%m-%d-%Hh%Mm\")\n",
    "metadata['date'] = START_DATE_STR\n",
    "metadata['subdataset'] = SUB_DATASET\n",
    "metadata['dropped_features'] = DROP_FEATURES\n",
    "metadata['target'] = 'Curtidas-2Classes-50p'\n",
    "\n",
    "metadata['random_state'] = RANDOM_STATE\n",
    "metadata['description'] =  DESCRIPTION"
   ]
  },
  {
   "cell_type": "code",
   "execution_count": 7,
   "metadata": {},
   "outputs": [
    {
     "name": "stdout",
     "output_type": "stream",
     "text": [
      "Dataset BOLSONARO (indicador 0)\n"
     ]
    }
   ],
   "source": [
    "dfx, dfy = filter_dataset(dfx, dfy_full, metadata)"
   ]
  },
  {
   "cell_type": "code",
   "execution_count": null,
   "metadata": {},
   "outputs": [
    {
     "data": {
      "text/plain": [
       "(Index(['x1', 'x2', 'x3', 'x4', 'x5', 'x6', 'x7', 'x8', 'x9', 'x10',\n",
       "        ...\n",
       "        'x1015', 'x1016', 'x1017', 'x1018', 'x1019', 'x1020', 'x1021', 'x1022',\n",
       "        'x1023', 'x1024'],\n",
       "       dtype='object', length=1024),\n",
       " (260, 1024))"
      ]
     },
     "execution_count": 9,
     "metadata": {},
     "output_type": "execute_result"
    }
   ],
   "source": [
    "dfx.columns"
   ]
  },
  {
   "cell_type": "code",
   "execution_count": null,
   "metadata": {},
   "outputs": [],
   "source": [
    "#dfy.head()\n",
    "dfx.shape, dfy.shape"
   ]
  },
  {
   "cell_type": "markdown",
   "metadata": {
    "id": "GbxpznNI60BD"
   },
   "source": [
    "# 2 - Modelos"
   ]
  },
  {
   "cell_type": "code",
   "execution_count": 11,
   "metadata": {
    "metadata": {}
   },
   "outputs": [],
   "source": [
    "from sklearn.pipeline import Pipeline\n",
    "from data_transformations_util import IdentityTransformer"
   ]
  },
  {
   "cell_type": "code",
   "execution_count": 12,
   "metadata": {
    "metadata": {}
   },
   "outputs": [],
   "source": [
    "from sklearn.ensemble import RandomForestClassifier\n",
    "from sklearn.linear_model import LogisticRegression\n",
    "from sklearn.svm import SVC\n",
    "from sklearn.neighbors import KNeighborsClassifier\n",
    "from sklearn.neural_network import MLPClassifier\n",
    "\n",
    "from sklearn.decomposition import PCA\n",
    "from sklearn.preprocessing import StandardScaler, MinMaxScaler"
   ]
  },
  {
   "cell_type": "code",
   "execution_count": 13,
   "metadata": {
    "metadata": {}
   },
   "outputs": [],
   "source": [
    "'''\n",
    "lista_modelos = [\n",
    "    {\n",
    "        \"nome_do_modelo\": 'MLP Neural Network',\n",
    "        \"estimador\": Pipeline([\n",
    "            ('pca', PCA()),\n",
    "            ('scaler', StandardScaler()), \n",
    "            ('predictor', MLPClassifier(random_state=42))\n",
    "        ]),\n",
    "        \"parametros\": {\n",
    "            'pca': [PCA(n_components=10), PCA(n_components=20), PCA(n_components=30)],\n",
    "            'scaler': [IdentityTransformer(), StandardScaler(), MinMaxScaler()],\n",
    "            'predictor__hidden_layer_sizes': [(4,), (8,), (32,)]   # Number of neurons in the hidden layer\n",
    "            'predictor__learning_rate_init': [1e-4, 5e-4, 1e-3],   # Learning rate\n",
    "        }\n",
    "    },\n",
    "    {\n",
    "        \"nome_do_modelo\": 'Support Vector Machine',\n",
    "        \"estimador\": Pipeline([\n",
    "            ('pca', PCA()),\n",
    "            ('scaler', StandardScaler()), \n",
    "            ('predictor', SVC(random_state=42))   #SVC(probability=True) # muito lento?  Tempo médio de treinamento sem proba: 21.55 segundos / com proba: 35.11 segundos\n",
    "        ]),\n",
    "        \"parametros\": {\n",
    "            'pca': [PCA(n_components=10), PCA(n_components=20), PCA(n_components=30)],\n",
    "            'scaler': [IdentityTransformer(), StandardScaler(), MinMaxScaler()],\n",
    "            'predictor__class_weight': ['balanced', None], \n",
    "            'predictor__C': [0.1, 1.0, 10.0, 20.0, 50.0],\n",
    "            'predictor__gamma': ['scale', 'auto'],\n",
    "            'predictor__kernel': ['rbf', 'sigmoid','linear']\n",
    "        }\n",
    "    },\n",
    "    {\n",
    "        \"nome_do_modelo\": 'Logistic Regression',\n",
    "        \"estimador\": Pipeline([\n",
    "            ('pca', PCA()),\n",
    "            ('scaler', StandardScaler()), \n",
    "            ('predictor', LogisticRegression(solver='saga', random_state=42))   # Saga is the only solver to support the 3 options for 'penalty'\n",
    "        ]),\n",
    "        \"parametros\": {\n",
    "            'pca': [PCA(n_components=10), PCA(n_components=20), PCA(n_components=30)],\n",
    "            'scaler': [IdentityTransformer(), StandardScaler(), MinMaxScaler()],\n",
    "            #'predictor__class_weight': ['balanced', None], \n",
    "            'predictor__C': [0.01, 0.1, 1.0, 2.0],         # Regularization parameter\n",
    "            'predictor__penalty': ['l1', 'l2', None]       # Penalty term\n",
    "        }\n",
    "    },\n",
    "#'''\n",
    "\n",
    "lista_modelos = [\n",
    "    {\n",
    "        \"nome_do_modelo\": 'Random Forest',\n",
    "        \"estimador\": Pipeline([\n",
    "            ('pca', PCA()),\n",
    "            ('predictor', RandomForestClassifier(random_state=42))\n",
    "        ]),\n",
    "        \"parametros\": {\n",
    "            'pca': [PCA(n_components=10), PCA(n_components=20), PCA(n_components=30)],\n",
    "            'predictor__n_estimators': [10, 30, 70], \n",
    "            #'predictor__class_weight': ['balanced', None], \n",
    "            'predictor__max_depth': [3, 4, 5, None],\n",
    "            'predictor__min_samples_split': [2, 4, 8]\n",
    "        }\n",
    "    },\n",
    "    {\n",
    "        \"nome_do_modelo\": 'KNN',\n",
    "        \"estimador\": Pipeline([\n",
    "            ('pca', PCA),\n",
    "            ('scaler', StandardScaler()), \n",
    "            ('predictor', KNeighborsClassifier())\n",
    "        ]),\n",
    "        \"parametros\": {\n",
    "            'pca': [PCA(n_components=10), PCA(n_components=20), PCA(n_components=30)],\n",
    "            'scaler': [IdentityTransformer(), StandardScaler(), MinMaxScaler()],\n",
    "            'predictor__n_neighbors': [5, 10, 15, 20], \n",
    "            'predictor__weights': ['uniform', 'distance'], \n",
    "            'predictor__metric': ['manhattan', 'euclidean', 'cosine']\n",
    "        }\n",
    "    },\n",
    "\n",
    "]"
   ]
  },
  {
   "cell_type": "code",
   "execution_count": 14,
   "metadata": {},
   "outputs": [
    {
     "data": {
      "text/plain": [
       "['Random Forest', 'KNN']"
      ]
     },
     "execution_count": 14,
     "metadata": {},
     "output_type": "execute_result"
    }
   ],
   "source": [
    "BASIC_MODEL_NAMES = [ mdl[\"nome_do_modelo\"] for mdl in lista_modelos ]\n",
    "metadata['basic_models'] = BASIC_MODEL_NAMES\n",
    "\n",
    "BASIC_MODEL_NAMES"
   ]
  },
  {
   "cell_type": "markdown",
   "metadata": {},
   "source": [
    "# 3 - Treina Modelos Básicos"
   ]
  },
  {
   "cell_type": "code",
   "execution_count": 15,
   "metadata": {
    "metadata": {}
   },
   "outputs": [],
   "source": [
    "from sklearn.model_selection import StratifiedKFold, RepeatedStratifiedKFold\n",
    "from classification_util import nested_cross_validation_grid_search"
   ]
  },
  {
   "cell_type": "code",
   "execution_count": 16,
   "metadata": {},
   "outputs": [],
   "source": [
    "outer_folds = 5\n",
    "outer_folds_repetitions = 1\n",
    "cv_outer=RepeatedStratifiedKFold(n_splits=outer_folds, n_repeats=outer_folds_repetitions, random_state=RANDOM_STATE)\n",
    "\n",
    "inner_folds = 5\n",
    "cv_inner=StratifiedKFold(n_splits=inner_folds, shuffle=True)\n",
    "\n",
    "metadata['cv_outer'] = cv_outer\n",
    "metadata['cv_inner'] = cv_inner"
   ]
  },
  {
   "cell_type": "markdown",
   "metadata": {},
   "source": [
    "A linha abaixo executa nested cross-validation, com um grid search nos *inner folds*, para cada modelo."
   ]
  },
  {
   "cell_type": "code",
   "execution_count": 17,
   "metadata": {
    "metadata": {}
   },
   "outputs": [
    {
     "name": "stdout",
     "output_type": "stream",
     "text": [
      "\n",
      "\n",
      "\n",
      " **** RESULTADO DOS MODELOS ****\n",
      "\n",
      "Treinando modelo Random Forest .....\n",
      "-- coletando e armazenando resultados --\n",
      "\n",
      " - Acurácia   : 0.6192 +/- 0.0625\n",
      " - Precisão   : 0.6595 +/- 0.1119\n",
      " - Revocação  : 0.5538 +/- 0.0897\n",
      " - F1 - Score : 0.5914 +/- 0.0548\n",
      " - ROC - AUC  : 0.6599 +/- 0.0992\n",
      " - PR - AUC   : 0.6872 +/- 0.0863\n",
      " - Tempo médio de treinamento: 36.39 segundos\n",
      "\n",
      "================================================== \n",
      "\n",
      "Treinando modelo KNN .....\n",
      "-- coletando e armazenando resultados --\n",
      "\n",
      " - Acurácia   : 0.6346 +/- 0.0403\n",
      " - Precisão   : 0.6506 +/- 0.0554\n",
      " - Revocação  : 0.6231 +/- 0.0890\n",
      " - F1 - Score : 0.6289 +/- 0.0290\n",
      " - ROC - AUC  : 0.6682 +/- 0.0370\n",
      " - PR - AUC   : 0.6963 +/- 0.0390\n",
      " - Tempo médio de treinamento: 45.46 segundos\n",
      "\n",
      "================================================== \n",
      "\n",
      "Terminado em 03/04/2025 00:50:32\n"
     ]
    }
   ],
   "source": [
    "basic_results = nested_cross_validation_grid_search(\n",
    "    lista_modelos, \n",
    "    dfx, \n",
    "    dfy, \n",
    "    cv_outer=cv_outer,\n",
    "    cv_inner=cv_inner\n",
    ")"
   ]
  },
  {
   "cell_type": "markdown",
   "metadata": {},
   "source": [
    "# 4 - Treina Ensembles"
   ]
  },
  {
   "cell_type": "code",
   "execution_count": 18,
   "metadata": {},
   "outputs": [],
   "source": [
    "from copy import deepcopy\n",
    "\n",
    "from ensemble_train_util import extract_all_best_models, extract_best_models_of_fold\n",
    "from ensemble_train_util import train_ensemble"
   ]
  },
  {
   "cell_type": "code",
   "execution_count": 19,
   "metadata": {
    "metadata": {}
   },
   "outputs": [],
   "source": [
    "full_results = deepcopy(basic_results)"
   ]
  },
  {
   "cell_type": "code",
   "execution_count": 20,
   "metadata": {
    "metadata": {}
   },
   "outputs": [
    {
     "name": "stdout",
     "output_type": "stream",
     "text": [
      ".................................................."
     ]
    }
   ],
   "source": [
    "#total_outer_folds = (outer_folds * outer_folds_repetitions)\n",
    "total_outer_folds = cv_outer.get_n_splits()\n",
    "\n",
    "for fold_i in range(total_outer_folds):\n",
    "    models = extract_best_models_of_fold(basic_results, fold_i)\n",
    "    results_ensemble = train_ensemble(f\"FOLD_{fold_i:02d}\", models, dfx, dfy, cv_outer) \n",
    "    \n",
    "    # check if keys have no intersection (no common key), then merge results\n",
    "    assert len(set(full_results.keys()) & set(results_ensemble.keys())) == 0\n",
    "    full_results.update(results_ensemble)"
   ]
  },
  {
   "cell_type": "code",
   "execution_count": 21,
   "metadata": {},
   "outputs": [
    {
     "name": "stdout",
     "output_type": "stream",
     "text": [
      ".........."
     ]
    }
   ],
   "source": [
    "# Atenção: tem data leakage! Ver explicação na célula abaixo. \n",
    "# Mantive apenas para comparação!\n",
    "\n",
    "# Treina 2 ensemble mistos (versões hard e soft), usando o modelo obtido em cada fold externo (o modelo pode ser de qualquer tipo)\n",
    "models = extract_all_best_models(basic_results, total_outer_folds)\n",
    "results_ensemble = train_ensemble(\"Best\", models, dfx, dfy, cv_outer) \n",
    "\n",
    "# check if keys have no intersection (no common key), then merge results\n",
    "assert len(set(full_results.keys()) & set(results_ensemble.keys())) == 0\n",
    "full_results.update(results_ensemble)"
   ]
  },
  {
   "cell_type": "code",
   "execution_count": 22,
   "metadata": {
    "metadata": {}
   },
   "outputs": [],
   "source": [
    "'''\n",
    "# Atenção: Tem data leakage! \n",
    "# Explicação:\n",
    "# - modelos escolhidas com base em diferentes folds \n",
    "# - assim, o ensemble se baseia em todo o dataset\n",
    "\n",
    "from ensemble_train_util import extract_best_models_of_type\n",
    "\n",
    "models_list = ['MLP Neural Network', 'Support Vector Machine', 'Random Forest', 'Logistic Regression', 'KNN']\n",
    "\n",
    "for model_name in BASIC_MODEL_NAMES:\n",
    "    print(f\"\\n\\n\\n **** TREINANDO ENSEMBLE PARA {model_name} ****\\n\")\n",
    "    contracted_name = ''.join([name[0] for name in model_name.split()])\n",
    "    models = extract_best_models_of_type(full_results, model_name)\n",
    "    results_ensemble = train_ensemble(contracted_name, models, dfx, dfy, cv_outer)\n",
    "\n",
    "    # check if keys have no intersection (no common key), then merge results\n",
    "    assert len(set(full_results.keys()) & set(results_ensemble.keys())) == 0\n",
    "    full_results.update(results_ensemble)\n",
    "\n",
    "#''';"
   ]
  },
  {
   "cell_type": "markdown",
   "metadata": {},
   "source": [
    "# 5 - Salva Resultados"
   ]
  },
  {
   "cell_type": "code",
   "execution_count": 23,
   "metadata": {},
   "outputs": [],
   "source": [
    "from util import save_results"
   ]
  },
  {
   "cell_type": "code",
   "execution_count": 24,
   "metadata": {},
   "outputs": [
    {
     "data": {
      "text/plain": [
       "dict_keys(['Random Forest', 'KNN', 'FOLD_00-hard-vote', 'FOLD_00-soft-vote', 'FOLD_01-hard-vote', 'FOLD_01-soft-vote', 'FOLD_02-hard-vote', 'FOLD_02-soft-vote', 'FOLD_03-hard-vote', 'FOLD_03-soft-vote', 'FOLD_04-hard-vote', 'FOLD_04-soft-vote', 'Best-hard-vote', 'Best-soft-vote'])"
      ]
     },
     "execution_count": 24,
     "metadata": {},
     "output_type": "execute_result"
    }
   ],
   "source": [
    "full_results.keys()"
   ]
  },
  {
   "cell_type": "code",
   "execution_count": 25,
   "metadata": {},
   "outputs": [
    {
     "name": "stdout",
     "output_type": "stream",
     "text": [
      "Arquivo salvo: resultados/resultados50p_2025-04-03-00h42m_bolsonaro(mxbai-embed-large-v1)_(tiktok).npy\n"
     ]
    }
   ],
   "source": [
    "OUTPUT_FILE_PATH = f'resultados/resultados50p_{START_DATE_STR}_{SUB_DATASET}({MODEL_NAME})_({SOCIAL_NETWORK}).npy'\n",
    "\n",
    "save_results(OUTPUT_FILE_PATH, full_results, metadata)\n",
    "\n",
    "print(\"Arquivo salvo:\", OUTPUT_FILE_PATH)"
   ]
  },
  {
   "cell_type": "markdown",
   "metadata": {},
   "source": [
    "----"
   ]
  },
  {
   "cell_type": "markdown",
   "metadata": {},
   "source": [
    "# FIM"
   ]
  }
 ],
 "metadata": {
  "colab": {
   "authorship_tag": "ABX9TyOuiv0RFkkwcXnb26LS0lwg",
   "provenance": [
    {
     "file_id": "1y8SEBwz0ltHkmfXNFpsBTWvHkCb-CFdt",
     "timestamp": 1676506165799
    }
   ]
  },
  "kernelspec": {
   "display_name": "socialnet",
   "language": "python",
   "name": "python3"
  },
  "language_info": {
   "codemirror_mode": {
    "name": "ipython",
    "version": 3
   },
   "file_extension": ".py",
   "mimetype": "text/x-python",
   "name": "python",
   "nbconvert_exporter": "python",
   "pygments_lexer": "ipython3",
   "version": "3.10.13"
  }
 },
 "nbformat": 4,
 "nbformat_minor": 0
}
