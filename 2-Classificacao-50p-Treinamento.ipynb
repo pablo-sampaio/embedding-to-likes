{
 "cells": [
  {
   "cell_type": "markdown",
   "metadata": {},
   "source": [
    "# Previsão de Engajamento - Classificação"
   ]
  },
  {
   "cell_type": "markdown",
   "metadata": {},
   "source": [
    "Este notebook define modelos e hiperparâmetros e executa um validação cruzada aninhada com grid search para otimização de hiperparâmetros e treinamento.\n",
    "\n",
    "- Entrada: `full-preproc2-inputs` e `full-preproc2-outputs`\n",
    "- Saída: `resultados/resultados50p_{START_DATE_STR}_{SUB_DATASET}.npy`\n"
   ]
  },
  {
   "cell_type": "code",
   "execution_count": 9,
   "metadata": {
    "cellView": "form",
    "executionInfo": {
     "elapsed": 3119,
     "status": "ok",
     "timestamp": 1678973020538,
     "user": {
      "displayName": "PABLO SAMPAIO",
      "userId": "06578877141428254753"
     },
     "user_tz": 180
    },
    "id": "OJV4GlB7-Jqx",
    "metadata": {}
   },
   "outputs": [],
   "source": [
    "#@title Importações de pacote\n",
    "import pandas as pd\n",
    "import numpy as np\n",
    "\n",
    "import matplotlib.pyplot as plt"
   ]
  },
  {
   "cell_type": "code",
   "execution_count": 10,
   "metadata": {
    "metadata": {}
   },
   "outputs": [],
   "source": [
    "BASE_PATH = 'dados/preprocessed/'"
   ]
  },
  {
   "cell_type": "markdown",
   "metadata": {
    "id": "xg4V0QFFLo7g"
   },
   "source": [
    "# 1 - Carregando os Dados"
   ]
  },
  {
   "cell_type": "markdown",
   "metadata": {
    "id": "Z_SocVpnTp-p"
   },
   "source": [
    "Carregando dados brutos gerais."
   ]
  },
  {
   "cell_type": "code",
   "execution_count": 11,
   "metadata": {
    "executionInfo": {
     "elapsed": 838,
     "status": "ok",
     "timestamp": 1678973021364,
     "user": {
      "displayName": "PABLO SAMPAIO",
      "userId": "06578877141428254753"
     },
     "user_tz": 180
    },
    "id": "pbGadD5L-aMf",
    "metadata": {}
   },
   "outputs": [
    {
     "data": {
      "text/html": [
       "<div>\n",
       "<style scoped>\n",
       "    .dataframe tbody tr th:only-of-type {\n",
       "        vertical-align: middle;\n",
       "    }\n",
       "\n",
       "    .dataframe tbody tr th {\n",
       "        vertical-align: top;\n",
       "    }\n",
       "\n",
       "    .dataframe thead th {\n",
       "        text-align: right;\n",
       "    }\n",
       "</style>\n",
       "<table border=\"1\" class=\"dataframe\">\n",
       "  <thead>\n",
       "    <tr style=\"text-align: right;\">\n",
       "      <th></th>\n",
       "      <th>Candidato_Bolsonaro</th>\n",
       "      <th>Candidato_Lula</th>\n",
       "      <th>x1</th>\n",
       "      <th>x2</th>\n",
       "      <th>x3</th>\n",
       "      <th>x4</th>\n",
       "      <th>x5</th>\n",
       "      <th>x6</th>\n",
       "      <th>x7</th>\n",
       "      <th>x8</th>\n",
       "      <th>...</th>\n",
       "      <th>x375</th>\n",
       "      <th>x376</th>\n",
       "      <th>x377</th>\n",
       "      <th>x378</th>\n",
       "      <th>x379</th>\n",
       "      <th>x380</th>\n",
       "      <th>x381</th>\n",
       "      <th>x382</th>\n",
       "      <th>x383</th>\n",
       "      <th>x384</th>\n",
       "    </tr>\n",
       "    <tr>\n",
       "      <th>ID</th>\n",
       "      <th></th>\n",
       "      <th></th>\n",
       "      <th></th>\n",
       "      <th></th>\n",
       "      <th></th>\n",
       "      <th></th>\n",
       "      <th></th>\n",
       "      <th></th>\n",
       "      <th></th>\n",
       "      <th></th>\n",
       "      <th></th>\n",
       "      <th></th>\n",
       "      <th></th>\n",
       "      <th></th>\n",
       "      <th></th>\n",
       "      <th></th>\n",
       "      <th></th>\n",
       "      <th></th>\n",
       "      <th></th>\n",
       "      <th></th>\n",
       "      <th></th>\n",
       "    </tr>\n",
       "  </thead>\n",
       "  <tbody>\n",
       "    <tr>\n",
       "      <th>7114971700365692165</th>\n",
       "      <td>1</td>\n",
       "      <td>0</td>\n",
       "      <td>0.026735</td>\n",
       "      <td>-0.003081</td>\n",
       "      <td>0.019811</td>\n",
       "      <td>-0.081651</td>\n",
       "      <td>-0.035613</td>\n",
       "      <td>0.068314</td>\n",
       "      <td>0.014542</td>\n",
       "      <td>0.022876</td>\n",
       "      <td>...</td>\n",
       "      <td>-0.011839</td>\n",
       "      <td>-0.037309</td>\n",
       "      <td>0.061741</td>\n",
       "      <td>0.068183</td>\n",
       "      <td>0.070977</td>\n",
       "      <td>-0.030143</td>\n",
       "      <td>0.155760</td>\n",
       "      <td>0.021305</td>\n",
       "      <td>0.086035</td>\n",
       "      <td>-0.026262</td>\n",
       "    </tr>\n",
       "    <tr>\n",
       "      <th>7115033431473474822</th>\n",
       "      <td>0</td>\n",
       "      <td>1</td>\n",
       "      <td>-0.009553</td>\n",
       "      <td>0.061238</td>\n",
       "      <td>0.019681</td>\n",
       "      <td>-0.049951</td>\n",
       "      <td>-0.063027</td>\n",
       "      <td>-0.004563</td>\n",
       "      <td>0.065209</td>\n",
       "      <td>0.049254</td>\n",
       "      <td>...</td>\n",
       "      <td>0.014746</td>\n",
       "      <td>-0.040006</td>\n",
       "      <td>0.092884</td>\n",
       "      <td>0.073248</td>\n",
       "      <td>0.002842</td>\n",
       "      <td>-0.009050</td>\n",
       "      <td>0.043108</td>\n",
       "      <td>0.078581</td>\n",
       "      <td>0.029602</td>\n",
       "      <td>-0.012377</td>\n",
       "    </tr>\n",
       "    <tr>\n",
       "      <th>7115050482179050758</th>\n",
       "      <td>1</td>\n",
       "      <td>0</td>\n",
       "      <td>0.032516</td>\n",
       "      <td>-0.005751</td>\n",
       "      <td>0.035155</td>\n",
       "      <td>-0.092776</td>\n",
       "      <td>-0.036708</td>\n",
       "      <td>0.049461</td>\n",
       "      <td>0.024949</td>\n",
       "      <td>0.035318</td>\n",
       "      <td>...</td>\n",
       "      <td>0.006400</td>\n",
       "      <td>-0.045546</td>\n",
       "      <td>0.033622</td>\n",
       "      <td>0.064346</td>\n",
       "      <td>0.075292</td>\n",
       "      <td>-0.016813</td>\n",
       "      <td>0.159488</td>\n",
       "      <td>0.015305</td>\n",
       "      <td>0.095402</td>\n",
       "      <td>0.014870</td>\n",
       "    </tr>\n",
       "    <tr>\n",
       "      <th>7115120078982630661</th>\n",
       "      <td>1</td>\n",
       "      <td>0</td>\n",
       "      <td>0.045939</td>\n",
       "      <td>-0.002861</td>\n",
       "      <td>0.021989</td>\n",
       "      <td>-0.038963</td>\n",
       "      <td>-0.020420</td>\n",
       "      <td>0.042670</td>\n",
       "      <td>0.053605</td>\n",
       "      <td>0.047859</td>\n",
       "      <td>...</td>\n",
       "      <td>0.039002</td>\n",
       "      <td>-0.059857</td>\n",
       "      <td>0.057749</td>\n",
       "      <td>0.066202</td>\n",
       "      <td>0.075185</td>\n",
       "      <td>0.022375</td>\n",
       "      <td>0.086455</td>\n",
       "      <td>-0.025722</td>\n",
       "      <td>0.059293</td>\n",
       "      <td>-0.028086</td>\n",
       "    </tr>\n",
       "    <tr>\n",
       "      <th>7115161088219565317</th>\n",
       "      <td>1</td>\n",
       "      <td>0</td>\n",
       "      <td>0.008706</td>\n",
       "      <td>-0.012809</td>\n",
       "      <td>-0.017359</td>\n",
       "      <td>-0.073054</td>\n",
       "      <td>0.009759</td>\n",
       "      <td>0.068075</td>\n",
       "      <td>0.077355</td>\n",
       "      <td>0.013521</td>\n",
       "      <td>...</td>\n",
       "      <td>0.021046</td>\n",
       "      <td>-0.012110</td>\n",
       "      <td>0.016464</td>\n",
       "      <td>0.042351</td>\n",
       "      <td>0.050253</td>\n",
       "      <td>-0.033603</td>\n",
       "      <td>0.129427</td>\n",
       "      <td>-0.011694</td>\n",
       "      <td>0.069729</td>\n",
       "      <td>0.012653</td>\n",
       "    </tr>\n",
       "  </tbody>\n",
       "</table>\n",
       "<p>5 rows × 386 columns</p>\n",
       "</div>"
      ],
      "text/plain": [
       "                     Candidato_Bolsonaro  Candidato_Lula        x1        x2  \\\n",
       "ID                                                                             \n",
       "7114971700365692165                    1               0  0.026735 -0.003081   \n",
       "7115033431473474822                    0               1 -0.009553  0.061238   \n",
       "7115050482179050758                    1               0  0.032516 -0.005751   \n",
       "7115120078982630661                    1               0  0.045939 -0.002861   \n",
       "7115161088219565317                    1               0  0.008706 -0.012809   \n",
       "\n",
       "                           x3        x4        x5        x6        x7  \\\n",
       "ID                                                                      \n",
       "7114971700365692165  0.019811 -0.081651 -0.035613  0.068314  0.014542   \n",
       "7115033431473474822  0.019681 -0.049951 -0.063027 -0.004563  0.065209   \n",
       "7115050482179050758  0.035155 -0.092776 -0.036708  0.049461  0.024949   \n",
       "7115120078982630661  0.021989 -0.038963 -0.020420  0.042670  0.053605   \n",
       "7115161088219565317 -0.017359 -0.073054  0.009759  0.068075  0.077355   \n",
       "\n",
       "                           x8  ...      x375      x376      x377      x378  \\\n",
       "ID                             ...                                           \n",
       "7114971700365692165  0.022876  ... -0.011839 -0.037309  0.061741  0.068183   \n",
       "7115033431473474822  0.049254  ...  0.014746 -0.040006  0.092884  0.073248   \n",
       "7115050482179050758  0.035318  ...  0.006400 -0.045546  0.033622  0.064346   \n",
       "7115120078982630661  0.047859  ...  0.039002 -0.059857  0.057749  0.066202   \n",
       "7115161088219565317  0.013521  ...  0.021046 -0.012110  0.016464  0.042351   \n",
       "\n",
       "                         x379      x380      x381      x382      x383  \\\n",
       "ID                                                                      \n",
       "7114971700365692165  0.070977 -0.030143  0.155760  0.021305  0.086035   \n",
       "7115033431473474822  0.002842 -0.009050  0.043108  0.078581  0.029602   \n",
       "7115050482179050758  0.075292 -0.016813  0.159488  0.015305  0.095402   \n",
       "7115120078982630661  0.075185  0.022375  0.086455 -0.025722  0.059293   \n",
       "7115161088219565317  0.050253 -0.033603  0.129427 -0.011694  0.069729   \n",
       "\n",
       "                         x384  \n",
       "ID                             \n",
       "7114971700365692165 -0.026262  \n",
       "7115033431473474822 -0.012377  \n",
       "7115050482179050758  0.014870  \n",
       "7115120078982630661 -0.028086  \n",
       "7115161088219565317  0.012653  \n",
       "\n",
       "[5 rows x 386 columns]"
      ]
     },
     "execution_count": 11,
     "metadata": {},
     "output_type": "execute_result"
    }
   ],
   "source": [
    "dfx = pd.read_excel(BASE_PATH + 'full-preproc2-inputs_AllMini.xlsx', index_col='ID')\n",
    "dfx.drop(columns=[\"Only Hashtags\"],inplace=True)\n",
    "dfx.head()"
   ]
  },
  {
   "cell_type": "code",
   "execution_count": 12,
   "metadata": {
    "metadata": {}
   },
   "outputs": [
    {
     "data": {
      "text/html": [
       "<div>\n",
       "<style scoped>\n",
       "    .dataframe tbody tr th:only-of-type {\n",
       "        vertical-align: middle;\n",
       "    }\n",
       "\n",
       "    .dataframe tbody tr th {\n",
       "        vertical-align: top;\n",
       "    }\n",
       "\n",
       "    .dataframe thead th {\n",
       "        text-align: right;\n",
       "    }\n",
       "</style>\n",
       "<table border=\"1\" class=\"dataframe\">\n",
       "  <thead>\n",
       "    <tr style=\"text-align: right;\">\n",
       "      <th></th>\n",
       "      <th>Curtidas</th>\n",
       "      <th>Curtidas-Log</th>\n",
       "      <th>Curtidas-MinMax</th>\n",
       "      <th>Curtidas-Log-MinMax</th>\n",
       "      <th>Curtidas-2Classes-50p</th>\n",
       "    </tr>\n",
       "    <tr>\n",
       "      <th>ID</th>\n",
       "      <th></th>\n",
       "      <th></th>\n",
       "      <th></th>\n",
       "      <th></th>\n",
       "      <th></th>\n",
       "    </tr>\n",
       "  </thead>\n",
       "  <tbody>\n",
       "    <tr>\n",
       "      <th>7114971700365692165</th>\n",
       "      <td>24400</td>\n",
       "      <td>4.387390</td>\n",
       "      <td>0.003881</td>\n",
       "      <td>0.299717</td>\n",
       "      <td>0</td>\n",
       "    </tr>\n",
       "    <tr>\n",
       "      <th>7115033431473474822</th>\n",
       "      <td>11700</td>\n",
       "      <td>4.068186</td>\n",
       "      <td>0.003970</td>\n",
       "      <td>0.281879</td>\n",
       "      <td>0</td>\n",
       "    </tr>\n",
       "    <tr>\n",
       "      <th>7115050482179050758</th>\n",
       "      <td>9163</td>\n",
       "      <td>3.962038</td>\n",
       "      <td>0.001197</td>\n",
       "      <td>0.173869</td>\n",
       "      <td>0</td>\n",
       "    </tr>\n",
       "    <tr>\n",
       "      <th>7115120078982630661</th>\n",
       "      <td>3485</td>\n",
       "      <td>3.542203</td>\n",
       "      <td>0.000197</td>\n",
       "      <td>0.049653</td>\n",
       "      <td>0</td>\n",
       "    </tr>\n",
       "    <tr>\n",
       "      <th>7115161088219565317</th>\n",
       "      <td>22100</td>\n",
       "      <td>4.344392</td>\n",
       "      <td>0.003476</td>\n",
       "      <td>0.286995</td>\n",
       "      <td>0</td>\n",
       "    </tr>\n",
       "  </tbody>\n",
       "</table>\n",
       "</div>"
      ],
      "text/plain": [
       "                     Curtidas  Curtidas-Log  Curtidas-MinMax  \\\n",
       "ID                                                             \n",
       "7114971700365692165     24400      4.387390         0.003881   \n",
       "7115033431473474822     11700      4.068186         0.003970   \n",
       "7115050482179050758      9163      3.962038         0.001197   \n",
       "7115120078982630661      3485      3.542203         0.000197   \n",
       "7115161088219565317     22100      4.344392         0.003476   \n",
       "\n",
       "                     Curtidas-Log-MinMax  Curtidas-2Classes-50p  \n",
       "ID                                                               \n",
       "7114971700365692165             0.299717                      0  \n",
       "7115033431473474822             0.281879                      0  \n",
       "7115050482179050758             0.173869                      0  \n",
       "7115120078982630661             0.049653                      0  \n",
       "7115161088219565317             0.286995                      0  "
      ]
     },
     "execution_count": 12,
     "metadata": {},
     "output_type": "execute_result"
    }
   ],
   "source": [
    "dfy_full = pd.read_excel(BASE_PATH + 'full-preproc2-outputs_AllMini.xlsx', index_col='ID')\n",
    "dfy_full.head()"
   ]
  },
  {
   "cell_type": "markdown",
   "metadata": {},
   "source": [
    "## 1.1 - Escolha do Dataset (ALTERE)"
   ]
  },
  {
   "cell_type": "code",
   "execution_count": 13,
   "metadata": {},
   "outputs": [],
   "source": [
    "from util import filter_dataset\n",
    "\n",
    "# 'geral', 'lula' ou 'bolsonaro'\n",
    "SUB_DATASET = 'lula'\n",
    "\n",
    "TARGET_COL = 'Curtidas-2Classes-50p'"
   ]
  },
  {
   "cell_type": "code",
   "execution_count": 14,
   "metadata": {},
   "outputs": [
    {
     "name": "stdout",
     "output_type": "stream",
     "text": [
      "Dataset LULA (indicador 1)\n"
     ]
    }
   ],
   "source": [
    "dfx, dfy = filter_dataset(dfx, dfy_full, SUB_DATASET, TARGET_COL)"
   ]
  },
  {
   "cell_type": "code",
   "execution_count": 15,
   "metadata": {},
   "outputs": [
    {
     "data": {
      "text/plain": [
       "(1967, 384)"
      ]
     },
     "execution_count": 15,
     "metadata": {},
     "output_type": "execute_result"
    }
   ],
   "source": [
    "dfx.columns\n",
    "dfx.shape"
   ]
  },
  {
   "cell_type": "code",
   "execution_count": 18,
   "metadata": {},
   "outputs": [
    {
     "data": {
      "text/plain": [
       "ID\n",
       "7115033431473474822    0\n",
       "7115174031162215686    1\n",
       "7115357413712153861    1\n",
       "7115560675824422149    1\n",
       "7115793869152734470    0\n",
       "Name: Curtidas-2Classes-50p, dtype: int64"
      ]
     },
     "execution_count": 18,
     "metadata": {},
     "output_type": "execute_result"
    }
   ],
   "source": [
    "\n",
    "dfy.head()\n",
    "#dfy.shape"
   ]
  },
  {
   "cell_type": "markdown",
   "metadata": {},
   "source": [
    "## 1.2 - Informações do Treinamento (ALTERE)"
   ]
  },
  {
   "cell_type": "code",
   "execution_count": 19,
   "metadata": {},
   "outputs": [],
   "source": [
    "from datetime import datetime\n",
    "\n",
    "RANDOM_STATE = 1231\n",
    "\n",
    "START_DATE_STR = datetime.now().strftime(\"%Y-%m-%d-%Hh%Mm\")\n",
    "#print(start_date_str)\n",
    "\n",
    "metadata = dict()\n",
    "metadata['date'] = START_DATE_STR\n",
    "metadata['subdataset'] = SUB_DATASET\n",
    "metadata['target'] = TARGET_COL\n",
    "metadata['random_state'] = RANDOM_STATE\n",
    "\n",
    "metadata['description'] =  f'''Treinamento com modelos com os \n",
    "dados balanceados (50p), com o dataset {SUB_DATASET}, com todos os modelos \n",
    "e com todos os ENSEMBLE, com a correção de escala para a MLP,\n",
    "variando class_weight para os modelos que suportam'''"
   ]
  },
  {
   "cell_type": "markdown",
   "metadata": {
    "id": "GbxpznNI60BD"
   },
   "source": [
    "# 2 - Modelos"
   ]
  },
  {
   "cell_type": "code",
   "execution_count": 20,
   "metadata": {
    "metadata": {}
   },
   "outputs": [],
   "source": [
    "from sklearn.pipeline import Pipeline\n",
    "from data_transformations_util import IdentityTransformer"
   ]
  },
  {
   "cell_type": "code",
   "execution_count": 21,
   "metadata": {
    "metadata": {}
   },
   "outputs": [],
   "source": [
    "from sklearn.ensemble import RandomForestClassifier\n",
    "from sklearn.linear_model import LogisticRegression\n",
    "from sklearn.svm import SVC\n",
    "from sklearn.neighbors import KNeighborsClassifier\n",
    "from sklearn.neural_network import MLPClassifier\n",
    "\n",
    "from sklearn.decomposition import PCA\n",
    "from sklearn.preprocessing import StandardScaler, MinMaxScaler"
   ]
  },
  {
   "cell_type": "code",
   "execution_count": 22,
   "metadata": {
    "metadata": {}
   },
   "outputs": [],
   "source": [
    "lista_modelos = [\n",
    "    {\n",
    "        \"nome_do_modelo\": 'MLP Neural Network',\n",
    "        \"estimador\": Pipeline([\n",
    "            ('pca', PCA()),\n",
    "            ('scaler', StandardScaler()), \n",
    "            ('predictor', MLPClassifier(random_state=42))\n",
    "        ]),\n",
    "        \"parametros\": {\n",
    "            'pca': [PCA(n_components=0.50), PCA(n_components=0.65), PCA(n_components=0.80), IdentityTransformer()],\n",
    "            'scaler': [IdentityTransformer(), StandardScaler(), MinMaxScaler()],\n",
    "            'predictor__hidden_layer_sizes': [(256,), (512,), (1024,)],  # Number of neurons in the hidden layer\n",
    "            'predictor__learning_rate_init': [0.001, 0.01, 0.05],        # Learning rate\n",
    "        }\n",
    "    },\n",
    "    {\n",
    "        \"nome_do_modelo\": 'Support Vector Machine',\n",
    "        \"estimador\": Pipeline([\n",
    "            ('pca', PCA()),\n",
    "            ('scaler', StandardScaler()), \n",
    "            ('predictor', SVC(random_state=42))   #SVC(probability=True) # muito lento?  Tempo médio de treinamento sem proba: 21.55 segundos / com proba: 35.11 segundos\n",
    "        ]),\n",
    "        \"parametros\": {\n",
    "            'pca': [PCA(n_components=0.50), PCA(n_components=0.65), PCA(n_components=0.80), IdentityTransformer()],\n",
    "            'scaler': [IdentityTransformer(), StandardScaler(), MinMaxScaler()],\n",
    "            'predictor__class_weight': ['balanced', None], \n",
    "            'predictor__C': [0.1, 1.0, 10.0, 20.0, 50.0],\n",
    "            'predictor__gamma': ['scale', 'auto'],\n",
    "            'predictor__kernel': ['rbf', 'sigmoid']  # removi 'linear' porque deixava lento!\n",
    "        }\n",
    "    },\n",
    "    {\n",
    "        \"nome_do_modelo\": 'Random Forest',\n",
    "        \"estimador\": Pipeline([\n",
    "            ('pca', PCA()),\n",
    "            ('predictor', RandomForestClassifier(random_state=42))\n",
    "        ]),\n",
    "        \"parametros\": {\n",
    "            'pca': [PCA(n_components=0.50), PCA(n_components=0.65), PCA(n_components=0.80), IdentityTransformer()],\n",
    "            'predictor__n_estimators': [10, 30, 70], \n",
    "            'predictor__class_weight': ['balanced', None], \n",
    "            'predictor__max_depth': [3, 4, 5, None],\n",
    "            'predictor__min_samples_split': [2, 4, 8]\n",
    "        }\n",
    "    },\n",
    "    {\n",
    "        \"nome_do_modelo\": 'Logistic Regression',\n",
    "        \"estimador\": Pipeline([\n",
    "            ('pca', PCA()),\n",
    "            ('scaler', StandardScaler()), \n",
    "            ('predictor', LogisticRegression(solver='saga', random_state=42))   # Saga is the only solver to support the 3 options for 'penalty'\n",
    "        ]),\n",
    "        \"parametros\": {\n",
    "            'pca': [PCA(n_components=0.50), PCA(n_components=0.65), PCA(n_components=0.80), IdentityTransformer()],\n",
    "            'scaler': [IdentityTransformer(), StandardScaler(), MinMaxScaler()],\n",
    "            'predictor__class_weight': ['balanced', None], \n",
    "            'predictor__C': [0.01, 0.1, 1.0, 2.0],         # Regularization parameter\n",
    "            'predictor__penalty': ['l1', 'l2', None]       # Penalty term\n",
    "        }\n",
    "    },\n",
    "    {\n",
    "        \"nome_do_modelo\": 'KNN',\n",
    "        \"estimador\": Pipeline([\n",
    "            ('pca', PCA),\n",
    "            ('scaler', StandardScaler()), \n",
    "            ('predictor', KNeighborsClassifier())\n",
    "        ]),\n",
    "        \"parametros\": {\n",
    "            'pca': [PCA(n_components=0.50), PCA(n_components=0.65), PCA(n_components=0.80), IdentityTransformer()],\n",
    "            'scaler': [IdentityTransformer(), StandardScaler(), MinMaxScaler()],\n",
    "            'predictor__n_neighbors': [5, 10, 15, 20], \n",
    "            'predictor__weights': ['uniform', 'distance'], \n",
    "            'predictor__p': [1, 2]\n",
    "        }\n",
    "    },\n",
    "\n",
    "]"
   ]
  },
  {
   "cell_type": "code",
   "execution_count": 23,
   "metadata": {},
   "outputs": [
    {
     "data": {
      "text/plain": [
       "['MLP Neural Network',\n",
       " 'Support Vector Machine',\n",
       " 'Random Forest',\n",
       " 'Logistic Regression',\n",
       " 'KNN']"
      ]
     },
     "execution_count": 23,
     "metadata": {},
     "output_type": "execute_result"
    }
   ],
   "source": [
    "BASIC_MODEL_NAMES = [ mdl[\"nome_do_modelo\"] for mdl in lista_modelos ]\n",
    "metadata['basic_models'] = BASIC_MODEL_NAMES\n",
    "\n",
    "BASIC_MODEL_NAMES"
   ]
  },
  {
   "cell_type": "markdown",
   "metadata": {},
   "source": [
    "# 3 - Treinamento"
   ]
  },
  {
   "cell_type": "code",
   "execution_count": 24,
   "metadata": {
    "metadata": {}
   },
   "outputs": [],
   "source": [
    "from classification_train_util import nested_cross_validation_grid_search"
   ]
  },
  {
   "cell_type": "markdown",
   "metadata": {},
   "source": [
    "A linha abaixo executa nested cross-validation, com um grid search nos *inner folds*, para cada modelo."
   ]
  },
  {
   "cell_type": "code",
   "execution_count": null,
   "metadata": {
    "metadata": {}
   },
   "outputs": [
    {
     "name": "stdout",
     "output_type": "stream",
     "text": [
      "\n",
      "\n",
      "\n",
      " **** RESULTADO DOS MODELOS + CURVAS ROC E PR ****\n",
      "\n",
      "Treinando modelo MLP Neural Network .."
     ]
    },
    {
     "name": "stderr",
     "output_type": "stream",
     "text": [
      "c:\\Users\\Kabum\\virtual_enviroment_llm\\.venv\\Lib\\site-packages\\sklearn\\neural_network\\_multilayer_perceptron.py:691: ConvergenceWarning: Stochastic Optimizer: Maximum iterations (200) reached and the optimization hasn't converged yet.\n",
      "  warnings.warn(\n",
      "c:\\Users\\Kabum\\virtual_enviroment_llm\\.venv\\Lib\\site-packages\\sklearn\\neural_network\\_multilayer_perceptron.py:691: ConvergenceWarning: Stochastic Optimizer: Maximum iterations (200) reached and the optimization hasn't converged yet.\n",
      "  warnings.warn(\n"
     ]
    },
    {
     "name": "stdout",
     "output_type": "stream",
     "text": [
      "."
     ]
    },
    {
     "name": "stderr",
     "output_type": "stream",
     "text": [
      "c:\\Users\\Kabum\\virtual_enviroment_llm\\.venv\\Lib\\site-packages\\sklearn\\neural_network\\_multilayer_perceptron.py:691: ConvergenceWarning: Stochastic Optimizer: Maximum iterations (200) reached and the optimization hasn't converged yet.\n",
      "  warnings.warn(\n",
      "c:\\Users\\Kabum\\virtual_enviroment_llm\\.venv\\Lib\\site-packages\\sklearn\\neural_network\\_multilayer_perceptron.py:691: ConvergenceWarning: Stochastic Optimizer: Maximum iterations (200) reached and the optimization hasn't converged yet.\n",
      "  warnings.warn(\n"
     ]
    },
    {
     "name": "stdout",
     "output_type": "stream",
     "text": [
      "..\n",
      "-- coletando e armazenando resultados --\n",
      "\n",
      " - Acurácia   : 0.6802 +/- 0.02022\n",
      " - Precisão   : 0.7106 +/- 0.04455\n",
      " - Revocação  : 0.6258 +/- 0.10664\n",
      " - F1 - Score : 0.6567 +/- 0.05308\n",
      " - ROC - AUC  : 0.7564 +/- 0.02710\n",
      " - PR - AUC   : 0.7718 +/- 0.03266\n",
      " - Tempo médio de treinamento: 668.95 segundos\n",
      "\n",
      "================================================== \n",
      "\n",
      "Treinando modelo Support Vector Machine .."
     ]
    }
   ],
   "source": [
    "\n",
    "last_run_basic = nested_cross_validation_grid_search(lista_modelos, dfx, dfy, 5, 5, rand_state=RANDOM_STATE)\n"
   ]
  },
  {
   "cell_type": "markdown",
   "metadata": {},
   "source": [
    "## 3.3 - Treina Ensembles (não foi publicado)"
   ]
  },
  {
   "cell_type": "code",
   "execution_count": 44,
   "metadata": {},
   "outputs": [],
   "source": [
    "from copy import deepcopy\n",
    "\n",
    "from ensemble_train_util import select_best_models_of_type_fn, select_best_models_per_fold\n",
    "from ensemble_train_util import train_ensemble"
   ]
  },
  {
   "cell_type": "code",
   "execution_count": 45,
   "metadata": {
    "metadata": {}
   },
   "outputs": [],
   "source": [
    "last_run_all = deepcopy(last_run_basic)"
   ]
  },
  {
   "cell_type": "code",
   "execution_count": 47,
   "metadata": {
    "metadata": {}
   },
   "outputs": [
    {
     "name": "stdout",
     "output_type": "stream",
     "text": [
      "\n",
      "\n",
      "\n",
      " **** TREINANDO ENSEMBLE PARA MLP Neural Network ****\n",
      "\n",
      "."
     ]
    },
    {
     "name": "stderr",
     "output_type": "stream",
     "text": [
      "c:\\Users\\Kabum\\virtual_enviroment_llm\\.venv\\Lib\\site-packages\\sklearn\\neural_network\\_multilayer_perceptron.py:691: ConvergenceWarning: Stochastic Optimizer: Maximum iterations (200) reached and the optimization hasn't converged yet.\n",
      "  warnings.warn(\n"
     ]
    },
    {
     "name": "stdout",
     "output_type": "stream",
     "text": [
      "."
     ]
    },
    {
     "name": "stderr",
     "output_type": "stream",
     "text": [
      "c:\\Users\\Kabum\\virtual_enviroment_llm\\.venv\\Lib\\site-packages\\sklearn\\neural_network\\_multilayer_perceptron.py:691: ConvergenceWarning: Stochastic Optimizer: Maximum iterations (200) reached and the optimization hasn't converged yet.\n",
      "  warnings.warn(\n"
     ]
    },
    {
     "name": "stdout",
     "output_type": "stream",
     "text": [
      "."
     ]
    },
    {
     "name": "stderr",
     "output_type": "stream",
     "text": [
      "c:\\Users\\Kabum\\virtual_enviroment_llm\\.venv\\Lib\\site-packages\\sklearn\\neural_network\\_multilayer_perceptron.py:691: ConvergenceWarning: Stochastic Optimizer: Maximum iterations (200) reached and the optimization hasn't converged yet.\n",
      "  warnings.warn(\n",
      "c:\\Users\\Kabum\\virtual_enviroment_llm\\.venv\\Lib\\site-packages\\sklearn\\neural_network\\_multilayer_perceptron.py:691: ConvergenceWarning: Stochastic Optimizer: Maximum iterations (200) reached and the optimization hasn't converged yet.\n",
      "  warnings.warn(\n"
     ]
    },
    {
     "name": "stdout",
     "output_type": "stream",
     "text": [
      "."
     ]
    },
    {
     "name": "stderr",
     "output_type": "stream",
     "text": [
      "c:\\Users\\Kabum\\virtual_enviroment_llm\\.venv\\Lib\\site-packages\\sklearn\\neural_network\\_multilayer_perceptron.py:691: ConvergenceWarning: Stochastic Optimizer: Maximum iterations (200) reached and the optimization hasn't converged yet.\n",
      "  warnings.warn(\n"
     ]
    },
    {
     "name": "stdout",
     "output_type": "stream",
     "text": [
      "."
     ]
    },
    {
     "name": "stderr",
     "output_type": "stream",
     "text": [
      "c:\\Users\\Kabum\\virtual_enviroment_llm\\.venv\\Lib\\site-packages\\sklearn\\neural_network\\_multilayer_perceptron.py:691: ConvergenceWarning: Stochastic Optimizer: Maximum iterations (200) reached and the optimization hasn't converged yet.\n",
      "  warnings.warn(\n"
     ]
    },
    {
     "name": "stdout",
     "output_type": "stream",
     "text": [
      "."
     ]
    },
    {
     "name": "stderr",
     "output_type": "stream",
     "text": [
      "c:\\Users\\Kabum\\virtual_enviroment_llm\\.venv\\Lib\\site-packages\\sklearn\\neural_network\\_multilayer_perceptron.py:691: ConvergenceWarning: Stochastic Optimizer: Maximum iterations (200) reached and the optimization hasn't converged yet.\n",
      "  warnings.warn(\n"
     ]
    },
    {
     "name": "stdout",
     "output_type": "stream",
     "text": [
      "."
     ]
    },
    {
     "name": "stderr",
     "output_type": "stream",
     "text": [
      "c:\\Users\\Kabum\\virtual_enviroment_llm\\.venv\\Lib\\site-packages\\sklearn\\neural_network\\_multilayer_perceptron.py:691: ConvergenceWarning: Stochastic Optimizer: Maximum iterations (200) reached and the optimization hasn't converged yet.\n",
      "  warnings.warn(\n"
     ]
    },
    {
     "name": "stdout",
     "output_type": "stream",
     "text": [
      "."
     ]
    },
    {
     "name": "stderr",
     "output_type": "stream",
     "text": [
      "c:\\Users\\Kabum\\virtual_enviroment_llm\\.venv\\Lib\\site-packages\\sklearn\\neural_network\\_multilayer_perceptron.py:691: ConvergenceWarning: Stochastic Optimizer: Maximum iterations (200) reached and the optimization hasn't converged yet.\n",
      "  warnings.warn(\n",
      "c:\\Users\\Kabum\\virtual_enviroment_llm\\.venv\\Lib\\site-packages\\sklearn\\neural_network\\_multilayer_perceptron.py:691: ConvergenceWarning: Stochastic Optimizer: Maximum iterations (200) reached and the optimization hasn't converged yet.\n",
      "  warnings.warn(\n"
     ]
    },
    {
     "name": "stdout",
     "output_type": "stream",
     "text": [
      "."
     ]
    },
    {
     "name": "stderr",
     "output_type": "stream",
     "text": [
      "c:\\Users\\Kabum\\virtual_enviroment_llm\\.venv\\Lib\\site-packages\\sklearn\\neural_network\\_multilayer_perceptron.py:691: ConvergenceWarning: Stochastic Optimizer: Maximum iterations (200) reached and the optimization hasn't converged yet.\n",
      "  warnings.warn(\n"
     ]
    },
    {
     "name": "stdout",
     "output_type": "stream",
     "text": [
      "."
     ]
    },
    {
     "name": "stderr",
     "output_type": "stream",
     "text": [
      "c:\\Users\\Kabum\\virtual_enviroment_llm\\.venv\\Lib\\site-packages\\sklearn\\neural_network\\_multilayer_perceptron.py:691: ConvergenceWarning: Stochastic Optimizer: Maximum iterations (200) reached and the optimization hasn't converged yet.\n",
      "  warnings.warn(\n"
     ]
    },
    {
     "name": "stdout",
     "output_type": "stream",
     "text": [
      "\n",
      "\n",
      "\n",
      " **** TREINANDO ENSEMBLE PARA Support Vector Machine ****\n",
      "\n",
      "..........\n",
      "\n",
      "\n",
      " **** TREINANDO ENSEMBLE PARA Random Forest ****\n",
      "\n",
      "..........\n",
      "\n",
      "\n",
      " **** TREINANDO ENSEMBLE PARA Logistic Regression ****\n",
      "\n",
      "."
     ]
    },
    {
     "name": "stderr",
     "output_type": "stream",
     "text": [
      "c:\\Users\\Kabum\\virtual_enviroment_llm\\.venv\\Lib\\site-packages\\sklearn\\linear_model\\_logistic.py:1207: UserWarning: Setting penalty=None will ignore the C and l1_ratio parameters\n",
      "  warnings.warn(\n",
      "c:\\Users\\Kabum\\virtual_enviroment_llm\\.venv\\Lib\\site-packages\\sklearn\\linear_model\\_logistic.py:1207: UserWarning: Setting penalty=None will ignore the C and l1_ratio parameters\n",
      "  warnings.warn(\n"
     ]
    },
    {
     "name": "stdout",
     "output_type": "stream",
     "text": [
      "."
     ]
    },
    {
     "name": "stderr",
     "output_type": "stream",
     "text": [
      "c:\\Users\\Kabum\\virtual_enviroment_llm\\.venv\\Lib\\site-packages\\sklearn\\linear_model\\_logistic.py:1207: UserWarning: Setting penalty=None will ignore the C and l1_ratio parameters\n",
      "  warnings.warn(\n",
      "c:\\Users\\Kabum\\virtual_enviroment_llm\\.venv\\Lib\\site-packages\\sklearn\\linear_model\\_logistic.py:1207: UserWarning: Setting penalty=None will ignore the C and l1_ratio parameters\n",
      "  warnings.warn(\n"
     ]
    },
    {
     "name": "stdout",
     "output_type": "stream",
     "text": [
      "."
     ]
    },
    {
     "name": "stderr",
     "output_type": "stream",
     "text": [
      "c:\\Users\\Kabum\\virtual_enviroment_llm\\.venv\\Lib\\site-packages\\sklearn\\linear_model\\_logistic.py:1207: UserWarning: Setting penalty=None will ignore the C and l1_ratio parameters\n",
      "  warnings.warn(\n",
      "c:\\Users\\Kabum\\virtual_enviroment_llm\\.venv\\Lib\\site-packages\\sklearn\\linear_model\\_logistic.py:1207: UserWarning: Setting penalty=None will ignore the C and l1_ratio parameters\n",
      "  warnings.warn(\n"
     ]
    },
    {
     "name": "stdout",
     "output_type": "stream",
     "text": [
      "."
     ]
    },
    {
     "name": "stderr",
     "output_type": "stream",
     "text": [
      "c:\\Users\\Kabum\\virtual_enviroment_llm\\.venv\\Lib\\site-packages\\sklearn\\linear_model\\_logistic.py:1207: UserWarning: Setting penalty=None will ignore the C and l1_ratio parameters\n",
      "  warnings.warn(\n",
      "c:\\Users\\Kabum\\virtual_enviroment_llm\\.venv\\Lib\\site-packages\\sklearn\\linear_model\\_logistic.py:1207: UserWarning: Setting penalty=None will ignore the C and l1_ratio parameters\n",
      "  warnings.warn(\n"
     ]
    },
    {
     "name": "stdout",
     "output_type": "stream",
     "text": [
      "."
     ]
    },
    {
     "name": "stderr",
     "output_type": "stream",
     "text": [
      "c:\\Users\\Kabum\\virtual_enviroment_llm\\.venv\\Lib\\site-packages\\sklearn\\linear_model\\_logistic.py:1207: UserWarning: Setting penalty=None will ignore the C and l1_ratio parameters\n",
      "  warnings.warn(\n",
      "c:\\Users\\Kabum\\virtual_enviroment_llm\\.venv\\Lib\\site-packages\\sklearn\\linear_model\\_logistic.py:1207: UserWarning: Setting penalty=None will ignore the C and l1_ratio parameters\n",
      "  warnings.warn(\n"
     ]
    },
    {
     "name": "stdout",
     "output_type": "stream",
     "text": [
      "."
     ]
    },
    {
     "name": "stderr",
     "output_type": "stream",
     "text": [
      "c:\\Users\\Kabum\\virtual_enviroment_llm\\.venv\\Lib\\site-packages\\sklearn\\linear_model\\_logistic.py:1207: UserWarning: Setting penalty=None will ignore the C and l1_ratio parameters\n",
      "  warnings.warn(\n",
      "c:\\Users\\Kabum\\virtual_enviroment_llm\\.venv\\Lib\\site-packages\\sklearn\\linear_model\\_logistic.py:1207: UserWarning: Setting penalty=None will ignore the C and l1_ratio parameters\n",
      "  warnings.warn(\n"
     ]
    },
    {
     "name": "stdout",
     "output_type": "stream",
     "text": [
      "."
     ]
    },
    {
     "name": "stderr",
     "output_type": "stream",
     "text": [
      "c:\\Users\\Kabum\\virtual_enviroment_llm\\.venv\\Lib\\site-packages\\sklearn\\linear_model\\_logistic.py:1207: UserWarning: Setting penalty=None will ignore the C and l1_ratio parameters\n",
      "  warnings.warn(\n",
      "c:\\Users\\Kabum\\virtual_enviroment_llm\\.venv\\Lib\\site-packages\\sklearn\\linear_model\\_logistic.py:1207: UserWarning: Setting penalty=None will ignore the C and l1_ratio parameters\n",
      "  warnings.warn(\n"
     ]
    },
    {
     "name": "stdout",
     "output_type": "stream",
     "text": [
      "."
     ]
    },
    {
     "name": "stderr",
     "output_type": "stream",
     "text": [
      "c:\\Users\\Kabum\\virtual_enviroment_llm\\.venv\\Lib\\site-packages\\sklearn\\linear_model\\_logistic.py:1207: UserWarning: Setting penalty=None will ignore the C and l1_ratio parameters\n",
      "  warnings.warn(\n",
      "c:\\Users\\Kabum\\virtual_enviroment_llm\\.venv\\Lib\\site-packages\\sklearn\\linear_model\\_logistic.py:1207: UserWarning: Setting penalty=None will ignore the C and l1_ratio parameters\n",
      "  warnings.warn(\n"
     ]
    },
    {
     "name": "stdout",
     "output_type": "stream",
     "text": [
      "."
     ]
    },
    {
     "name": "stderr",
     "output_type": "stream",
     "text": [
      "c:\\Users\\Kabum\\virtual_enviroment_llm\\.venv\\Lib\\site-packages\\sklearn\\linear_model\\_logistic.py:1207: UserWarning: Setting penalty=None will ignore the C and l1_ratio parameters\n",
      "  warnings.warn(\n",
      "c:\\Users\\Kabum\\virtual_enviroment_llm\\.venv\\Lib\\site-packages\\sklearn\\linear_model\\_logistic.py:1207: UserWarning: Setting penalty=None will ignore the C and l1_ratio parameters\n",
      "  warnings.warn(\n"
     ]
    },
    {
     "name": "stdout",
     "output_type": "stream",
     "text": [
      "."
     ]
    },
    {
     "name": "stderr",
     "output_type": "stream",
     "text": [
      "c:\\Users\\Kabum\\virtual_enviroment_llm\\.venv\\Lib\\site-packages\\sklearn\\linear_model\\_logistic.py:1207: UserWarning: Setting penalty=None will ignore the C and l1_ratio parameters\n",
      "  warnings.warn(\n",
      "c:\\Users\\Kabum\\virtual_enviroment_llm\\.venv\\Lib\\site-packages\\sklearn\\linear_model\\_logistic.py:1207: UserWarning: Setting penalty=None will ignore the C and l1_ratio parameters\n",
      "  warnings.warn(\n"
     ]
    },
    {
     "name": "stdout",
     "output_type": "stream",
     "text": [
      "\n",
      "\n",
      "\n",
      " **** TREINANDO ENSEMBLE PARA KNN ****\n",
      "\n",
      ".........."
     ]
    }
   ],
   "source": [
    "#models_list = ['MLP Neural Network', 'Support Vector Machine', 'Random Forest', 'Logistic Regression', 'KNN']\n",
    "\n",
    "for model_name in BASIC_MODEL_NAMES:\n",
    "    print(f\"\\n\\n\\n **** TREINANDO ENSEMBLE PARA {model_name} ****\\n\")\n",
    "    contracted_name = ''.join([name[0] for name in model_name.split()])\n",
    "    results_ensemble = train_ensemble(select_best_models_of_type_fn(model_name), last_run_all, dfx, dfy, name_prefix=contracted_name)\n",
    "\n",
    "    # merge results with results_with_ensemble\n",
    "    last_run_all.update(results_ensemble)"
   ]
  },
  {
   "cell_type": "code",
   "execution_count": 48,
   "metadata": {
    "metadata": {}
   },
   "outputs": [
    {
     "name": "stdout",
     "output_type": "stream",
     "text": [
      "."
     ]
    },
    {
     "name": "stderr",
     "output_type": "stream",
     "text": [
      "c:\\Users\\Kabum\\virtual_enviroment_llm\\.venv\\Lib\\site-packages\\sklearn\\linear_model\\_logistic.py:1207: UserWarning: Setting penalty=None will ignore the C and l1_ratio parameters\n",
      "  warnings.warn(\n"
     ]
    },
    {
     "name": "stdout",
     "output_type": "stream",
     "text": [
      "."
     ]
    },
    {
     "name": "stderr",
     "output_type": "stream",
     "text": [
      "c:\\Users\\Kabum\\virtual_enviroment_llm\\.venv\\Lib\\site-packages\\sklearn\\linear_model\\_logistic.py:1207: UserWarning: Setting penalty=None will ignore the C and l1_ratio parameters\n",
      "  warnings.warn(\n"
     ]
    },
    {
     "name": "stdout",
     "output_type": "stream",
     "text": [
      "."
     ]
    },
    {
     "name": "stderr",
     "output_type": "stream",
     "text": [
      "c:\\Users\\Kabum\\virtual_enviroment_llm\\.venv\\Lib\\site-packages\\sklearn\\linear_model\\_logistic.py:1207: UserWarning: Setting penalty=None will ignore the C and l1_ratio parameters\n",
      "  warnings.warn(\n"
     ]
    },
    {
     "name": "stdout",
     "output_type": "stream",
     "text": [
      "."
     ]
    },
    {
     "name": "stderr",
     "output_type": "stream",
     "text": [
      "c:\\Users\\Kabum\\virtual_enviroment_llm\\.venv\\Lib\\site-packages\\sklearn\\linear_model\\_logistic.py:1207: UserWarning: Setting penalty=None will ignore the C and l1_ratio parameters\n",
      "  warnings.warn(\n"
     ]
    },
    {
     "name": "stdout",
     "output_type": "stream",
     "text": [
      "."
     ]
    },
    {
     "name": "stderr",
     "output_type": "stream",
     "text": [
      "c:\\Users\\Kabum\\virtual_enviroment_llm\\.venv\\Lib\\site-packages\\sklearn\\linear_model\\_logistic.py:1207: UserWarning: Setting penalty=None will ignore the C and l1_ratio parameters\n",
      "  warnings.warn(\n"
     ]
    },
    {
     "name": "stdout",
     "output_type": "stream",
     "text": [
      "."
     ]
    },
    {
     "name": "stderr",
     "output_type": "stream",
     "text": [
      "c:\\Users\\Kabum\\virtual_enviroment_llm\\.venv\\Lib\\site-packages\\sklearn\\linear_model\\_logistic.py:1207: UserWarning: Setting penalty=None will ignore the C and l1_ratio parameters\n",
      "  warnings.warn(\n"
     ]
    },
    {
     "name": "stdout",
     "output_type": "stream",
     "text": [
      "."
     ]
    },
    {
     "name": "stderr",
     "output_type": "stream",
     "text": [
      "c:\\Users\\Kabum\\virtual_enviroment_llm\\.venv\\Lib\\site-packages\\sklearn\\linear_model\\_logistic.py:1207: UserWarning: Setting penalty=None will ignore the C and l1_ratio parameters\n",
      "  warnings.warn(\n"
     ]
    },
    {
     "name": "stdout",
     "output_type": "stream",
     "text": [
      "."
     ]
    },
    {
     "name": "stderr",
     "output_type": "stream",
     "text": [
      "c:\\Users\\Kabum\\virtual_enviroment_llm\\.venv\\Lib\\site-packages\\sklearn\\linear_model\\_logistic.py:1207: UserWarning: Setting penalty=None will ignore the C and l1_ratio parameters\n",
      "  warnings.warn(\n"
     ]
    },
    {
     "name": "stdout",
     "output_type": "stream",
     "text": [
      "."
     ]
    },
    {
     "name": "stderr",
     "output_type": "stream",
     "text": [
      "c:\\Users\\Kabum\\virtual_enviroment_llm\\.venv\\Lib\\site-packages\\sklearn\\linear_model\\_logistic.py:1207: UserWarning: Setting penalty=None will ignore the C and l1_ratio parameters\n",
      "  warnings.warn(\n"
     ]
    },
    {
     "name": "stdout",
     "output_type": "stream",
     "text": [
      "."
     ]
    },
    {
     "name": "stderr",
     "output_type": "stream",
     "text": [
      "c:\\Users\\Kabum\\virtual_enviroment_llm\\.venv\\Lib\\site-packages\\sklearn\\linear_model\\_logistic.py:1207: UserWarning: Setting penalty=None will ignore the C and l1_ratio parameters\n",
      "  warnings.warn(\n"
     ]
    }
   ],
   "source": [
    "results_ensemble = train_ensemble(select_best_models_per_fold, last_run_basic, dfx, dfy, name_prefix=\"BPF\")  # BPF - best per fold\n",
    "\n",
    "# check if keys have no intersection (no common key)\n",
    "assert len(set(last_run_all.keys()) & set(results_ensemble.keys())) == 0\n",
    "\n",
    "# merge results with results_with_ensemble\n",
    "last_run_all.update(results_ensemble)"
   ]
  },
  {
   "cell_type": "markdown",
   "metadata": {},
   "source": [
    "## 3.4 - Salva Resultados"
   ]
  },
  {
   "cell_type": "code",
   "execution_count": 49,
   "metadata": {},
   "outputs": [],
   "source": [
    "from util import save_results"
   ]
  },
  {
   "cell_type": "code",
   "execution_count": 50,
   "metadata": {},
   "outputs": [
    {
     "data": {
      "text/plain": [
       "dict_keys(['MLP Neural Network', 'Support Vector Machine', 'Random Forest', 'Logistic Regression', 'KNN', 'MNN-hard-vote', 'MNN-soft-vote', 'SVM-hard-vote', 'SVM-soft-vote', 'RF-hard-vote', 'RF-soft-vote', 'LR-hard-vote', 'LR-soft-vote', 'K-hard-vote', 'K-soft-vote', 'BPF-hard-vote', 'BPF-soft-vote'])"
      ]
     },
     "execution_count": 50,
     "metadata": {},
     "output_type": "execute_result"
    }
   ],
   "source": [
    "last_run_all.keys()"
   ]
  },
  {
   "cell_type": "code",
   "execution_count": 51,
   "metadata": {},
   "outputs": [
    {
     "name": "stdout",
     "output_type": "stream",
     "text": [
      "Arquivo salvo: resultados/resultados50p_2025-03-13-13h08m_bolsonaro.npy\n"
     ]
    }
   ],
   "source": [
    "OUTPUT_FILE_PATH = f'resultados/resultados50p_{START_DATE_STR}_{SUB_DATASET}.npy'\n",
    "\n",
    "save_results(OUTPUT_FILE_PATH, last_run_all, metadata)\n",
    "\n",
    "print(\"Arquivo salvo:\", OUTPUT_FILE_PATH)"
   ]
  },
  {
   "cell_type": "markdown",
   "metadata": {},
   "source": [
    "----"
   ]
  },
  {
   "cell_type": "markdown",
   "metadata": {},
   "source": [
    "# FIM"
   ]
  }
 ],
 "metadata": {
  "colab": {
   "authorship_tag": "ABX9TyOuiv0RFkkwcXnb26LS0lwg",
   "provenance": [
    {
     "file_id": "1y8SEBwz0ltHkmfXNFpsBTWvHkCb-CFdt",
     "timestamp": 1676506165799
    }
   ]
  },
  "kernelspec": {
   "display_name": ".venv",
   "language": "python",
   "name": "python3"
  },
  "language_info": {
   "codemirror_mode": {
    "name": "ipython",
    "version": 3
   },
   "file_extension": ".py",
   "mimetype": "text/x-python",
   "name": "python",
   "nbconvert_exporter": "python",
   "pygments_lexer": "ipython3",
   "version": "3.12.6"
  }
 },
 "nbformat": 4,
 "nbformat_minor": 0
}
