{
 "cells": [
  {
   "cell_type": "markdown",
   "metadata": {},
   "source": [
    "# Previsão de Engajamento - Classificação"
   ]
  },
  {
   "cell_type": "markdown",
   "metadata": {},
   "source": [
    "Este notebook define modelos e hiperparâmetros e executa um validação cruzada aninhada com grid search para otimização de hiperparâmetros e treinamento.\n",
    "\n",
    "- Entrada: `full-preproc2-inputs` e `full-preproc2-outputs`\n",
    "- Saída: `resultados/resultados50p_{START_DATE_STR}_{SUB_DATASET}.npy`\n"
   ]
  },
  {
   "cell_type": "code",
   "execution_count": 1,
   "metadata": {
    "cellView": "form",
    "executionInfo": {
     "elapsed": 3119,
     "status": "ok",
     "timestamp": 1678973020538,
     "user": {
      "displayName": "PABLO SAMPAIO",
      "userId": "06578877141428254753"
     },
     "user_tz": 180
    },
    "id": "OJV4GlB7-Jqx",
    "metadata": {}
   },
   "outputs": [],
   "source": [
    "#@title Importações de pacote\n",
    "import pandas as pd\n",
    "import numpy as np\n",
    "\n",
    "import matplotlib.pyplot as plt"
   ]
  },
  {
   "cell_type": "code",
   "execution_count": 2,
   "metadata": {
    "metadata": {}
   },
   "outputs": [],
   "source": [
    "BASE_PATH = 'dados/'"
   ]
  },
  {
   "cell_type": "markdown",
   "metadata": {
    "id": "xg4V0QFFLo7g"
   },
   "source": [
    "# 1 - Carregando os Dados"
   ]
  },
  {
   "cell_type": "markdown",
   "metadata": {
    "id": "Z_SocVpnTp-p"
   },
   "source": [
    "Carregando dados brutos gerais."
   ]
  },
  {
   "cell_type": "code",
   "execution_count": 3,
   "metadata": {
    "executionInfo": {
     "elapsed": 838,
     "status": "ok",
     "timestamp": 1678973021364,
     "user": {
      "displayName": "PABLO SAMPAIO",
      "userId": "06578877141428254753"
     },
     "user_tz": 180
    },
    "id": "pbGadD5L-aMf",
    "metadata": {}
   },
   "outputs": [
    {
     "data": {
      "text/html": [
       "<div>\n",
       "<style scoped>\n",
       "    .dataframe tbody tr th:only-of-type {\n",
       "        vertical-align: middle;\n",
       "    }\n",
       "\n",
       "    .dataframe tbody tr th {\n",
       "        vertical-align: top;\n",
       "    }\n",
       "\n",
       "    .dataframe thead th {\n",
       "        text-align: right;\n",
       "    }\n",
       "</style>\n",
       "<table border=\"1\" class=\"dataframe\">\n",
       "  <thead>\n",
       "    <tr style=\"text-align: right;\">\n",
       "      <th></th>\n",
       "      <th>Candidato_Bolsonaro</th>\n",
       "      <th>Candidato_Lula</th>\n",
       "      <th>Dispositivo Retórico</th>\n",
       "      <th>Main character</th>\n",
       "      <th>Retórica Aristotélica</th>\n",
       "      <th>Tipo de conteúdo</th>\n",
       "      <th>Texto / Hashtag</th>\n",
       "      <th>Tonalidade</th>\n",
       "      <th>Abordagem</th>\n",
       "      <th>Duracao</th>\n",
       "      <th>DiasDecorridos</th>\n",
       "    </tr>\n",
       "    <tr>\n",
       "      <th>ID</th>\n",
       "      <th></th>\n",
       "      <th></th>\n",
       "      <th></th>\n",
       "      <th></th>\n",
       "      <th></th>\n",
       "      <th></th>\n",
       "      <th></th>\n",
       "      <th></th>\n",
       "      <th></th>\n",
       "      <th></th>\n",
       "      <th></th>\n",
       "    </tr>\n",
       "  </thead>\n",
       "  <tbody>\n",
       "    <tr>\n",
       "      <th>7114971700365691904</th>\n",
       "      <td>1</td>\n",
       "      <td>0</td>\n",
       "      <td>Political Statement</td>\n",
       "      <td>Self alone</td>\n",
       "      <td>Pathos</td>\n",
       "      <td>Campaign Act</td>\n",
       "      <td>Hashtag</td>\n",
       "      <td>Neutral</td>\n",
       "      <td>Acclamation</td>\n",
       "      <td>57.93</td>\n",
       "      <td>94</td>\n",
       "    </tr>\n",
       "    <tr>\n",
       "      <th>7115050482179050496</th>\n",
       "      <td>1</td>\n",
       "      <td>0</td>\n",
       "      <td>Fact/Statistic</td>\n",
       "      <td>Self alone</td>\n",
       "      <td>Logos</td>\n",
       "      <td>Political-Purposeful</td>\n",
       "      <td>Hashtag</td>\n",
       "      <td>Positive</td>\n",
       "      <td>Acclamation</td>\n",
       "      <td>17.13</td>\n",
       "      <td>94</td>\n",
       "    </tr>\n",
       "    <tr>\n",
       "      <th>7115120078982630400</th>\n",
       "      <td>1</td>\n",
       "      <td>0</td>\n",
       "      <td>Commitment</td>\n",
       "      <td>Self + voters</td>\n",
       "      <td>Ethos</td>\n",
       "      <td>Political-Purposeful</td>\n",
       "      <td>Hashtag</td>\n",
       "      <td>Positive</td>\n",
       "      <td>Acclamation</td>\n",
       "      <td>52.54</td>\n",
       "      <td>94</td>\n",
       "    </tr>\n",
       "    <tr>\n",
       "      <th>7115161088219565056</th>\n",
       "      <td>1</td>\n",
       "      <td>0</td>\n",
       "      <td>Humor</td>\n",
       "      <td>Self alone</td>\n",
       "      <td>Nenhum</td>\n",
       "      <td>Personal</td>\n",
       "      <td>Hashtag</td>\n",
       "      <td>Positive</td>\n",
       "      <td>Acclamation</td>\n",
       "      <td>34.48</td>\n",
       "      <td>94</td>\n",
       "    </tr>\n",
       "    <tr>\n",
       "      <th>7115207919750253568</th>\n",
       "      <td>1</td>\n",
       "      <td>0</td>\n",
       "      <td>Fact/Statistic</td>\n",
       "      <td>Self alone</td>\n",
       "      <td>Logos</td>\n",
       "      <td>Political-Purposeful</td>\n",
       "      <td>Hashtag</td>\n",
       "      <td>Negative</td>\n",
       "      <td>Attack</td>\n",
       "      <td>66.66</td>\n",
       "      <td>94</td>\n",
       "    </tr>\n",
       "  </tbody>\n",
       "</table>\n",
       "</div>"
      ],
      "text/plain": [
       "                     Candidato_Bolsonaro  Candidato_Lula Dispositivo Retórico  \\\n",
       "ID                                                                              \n",
       "7114971700365691904                    1               0  Political Statement   \n",
       "7115050482179050496                    1               0       Fact/Statistic   \n",
       "7115120078982630400                    1               0           Commitment   \n",
       "7115161088219565056                    1               0                Humor   \n",
       "7115207919750253568                    1               0       Fact/Statistic   \n",
       "\n",
       "                    Main character Retórica Aristotélica  \\\n",
       "ID                                                         \n",
       "7114971700365691904     Self alone                Pathos   \n",
       "7115050482179050496     Self alone                 Logos   \n",
       "7115120078982630400  Self + voters                 Ethos   \n",
       "7115161088219565056     Self alone                Nenhum   \n",
       "7115207919750253568     Self alone                 Logos   \n",
       "\n",
       "                         Tipo de conteúdo Texto / Hashtag Tonalidade  \\\n",
       "ID                                                                     \n",
       "7114971700365691904          Campaign Act         Hashtag    Neutral   \n",
       "7115050482179050496  Political-Purposeful         Hashtag  Positive    \n",
       "7115120078982630400  Political-Purposeful         Hashtag  Positive    \n",
       "7115161088219565056              Personal         Hashtag  Positive    \n",
       "7115207919750253568  Political-Purposeful         Hashtag  Negative    \n",
       "\n",
       "                       Abordagem  Duracao  DiasDecorridos  \n",
       "ID                                                         \n",
       "7114971700365691904  Acclamation    57.93              94  \n",
       "7115050482179050496  Acclamation    17.13              94  \n",
       "7115120078982630400  Acclamation    52.54              94  \n",
       "7115161088219565056  Acclamation    34.48              94  \n",
       "7115207919750253568       Attack    66.66              94  "
      ]
     },
     "execution_count": 3,
     "metadata": {},
     "output_type": "execute_result"
    }
   ],
   "source": [
    "dfx = pd.read_excel(BASE_PATH + 'full-preproc2-inputs.xlsx', index_col='ID')\n",
    "dfx.head()"
   ]
  },
  {
   "cell_type": "code",
   "execution_count": 4,
   "metadata": {
    "metadata": {}
   },
   "outputs": [
    {
     "data": {
      "text/html": [
       "<div>\n",
       "<style scoped>\n",
       "    .dataframe tbody tr th:only-of-type {\n",
       "        vertical-align: middle;\n",
       "    }\n",
       "\n",
       "    .dataframe tbody tr th {\n",
       "        vertical-align: top;\n",
       "    }\n",
       "\n",
       "    .dataframe thead th {\n",
       "        text-align: right;\n",
       "    }\n",
       "</style>\n",
       "<table border=\"1\" class=\"dataframe\">\n",
       "  <thead>\n",
       "    <tr style=\"text-align: right;\">\n",
       "      <th></th>\n",
       "      <th>Curtidas</th>\n",
       "      <th>Curtidas-Log</th>\n",
       "      <th>Curtidas-MinMax</th>\n",
       "      <th>Curtidas-Log-MinMax</th>\n",
       "      <th>Curtidas-2Classes-75p</th>\n",
       "      <th>Curtidas-2Classes-50p</th>\n",
       "    </tr>\n",
       "    <tr>\n",
       "      <th>ID</th>\n",
       "      <th></th>\n",
       "      <th></th>\n",
       "      <th></th>\n",
       "      <th></th>\n",
       "      <th></th>\n",
       "      <th></th>\n",
       "    </tr>\n",
       "  </thead>\n",
       "  <tbody>\n",
       "    <tr>\n",
       "      <th>7114971700365691904</th>\n",
       "      <td>24400</td>\n",
       "      <td>4.387390</td>\n",
       "      <td>0.018396</td>\n",
       "      <td>0.374522</td>\n",
       "      <td>0</td>\n",
       "      <td>0</td>\n",
       "    </tr>\n",
       "    <tr>\n",
       "      <th>7115050482179050496</th>\n",
       "      <td>9163</td>\n",
       "      <td>3.962038</td>\n",
       "      <td>0.005674</td>\n",
       "      <td>0.217264</td>\n",
       "      <td>0</td>\n",
       "      <td>0</td>\n",
       "    </tr>\n",
       "    <tr>\n",
       "      <th>7115120078982630400</th>\n",
       "      <td>3485</td>\n",
       "      <td>3.542203</td>\n",
       "      <td>0.000933</td>\n",
       "      <td>0.062046</td>\n",
       "      <td>0</td>\n",
       "      <td>0</td>\n",
       "    </tr>\n",
       "    <tr>\n",
       "      <th>7115161088219565056</th>\n",
       "      <td>22100</td>\n",
       "      <td>4.344392</td>\n",
       "      <td>0.016476</td>\n",
       "      <td>0.358626</td>\n",
       "      <td>0</td>\n",
       "      <td>0</td>\n",
       "    </tr>\n",
       "    <tr>\n",
       "      <th>7115207919750253568</th>\n",
       "      <td>115700</td>\n",
       "      <td>5.063333</td>\n",
       "      <td>0.094630</td>\n",
       "      <td>0.624428</td>\n",
       "      <td>1</td>\n",
       "      <td>1</td>\n",
       "    </tr>\n",
       "  </tbody>\n",
       "</table>\n",
       "</div>"
      ],
      "text/plain": [
       "                     Curtidas  Curtidas-Log  Curtidas-MinMax  \\\n",
       "ID                                                             \n",
       "7114971700365691904     24400      4.387390         0.018396   \n",
       "7115050482179050496      9163      3.962038         0.005674   \n",
       "7115120078982630400      3485      3.542203         0.000933   \n",
       "7115161088219565056     22100      4.344392         0.016476   \n",
       "7115207919750253568    115700      5.063333         0.094630   \n",
       "\n",
       "                     Curtidas-Log-MinMax  Curtidas-2Classes-75p  \\\n",
       "ID                                                                \n",
       "7114971700365691904             0.374522                      0   \n",
       "7115050482179050496             0.217264                      0   \n",
       "7115120078982630400             0.062046                      0   \n",
       "7115161088219565056             0.358626                      0   \n",
       "7115207919750253568             0.624428                      1   \n",
       "\n",
       "                     Curtidas-2Classes-50p  \n",
       "ID                                          \n",
       "7114971700365691904                      0  \n",
       "7115050482179050496                      0  \n",
       "7115120078982630400                      0  \n",
       "7115161088219565056                      0  \n",
       "7115207919750253568                      1  "
      ]
     },
     "execution_count": 4,
     "metadata": {},
     "output_type": "execute_result"
    }
   ],
   "source": [
    "dfy_full = pd.read_excel(BASE_PATH + 'full-preproc2-outputs.xlsx', index_col='ID')\n",
    "dfy_full.head()"
   ]
  },
  {
   "cell_type": "markdown",
   "metadata": {},
   "source": [
    "## 1.1 - Escolha do Dataset (ALTERE)"
   ]
  },
  {
   "cell_type": "code",
   "execution_count": 5,
   "metadata": {},
   "outputs": [],
   "source": [
    "from util import filter_dataset\n",
    "\n",
    "# 'geral', 'lula' ou 'bolsonaro'\n",
    "SUB_DATASET = 'bolsonaro'\n",
    "\n",
    "TARGET_COL = 'Curtidas-2Classes-50p'"
   ]
  },
  {
   "cell_type": "code",
   "execution_count": 6,
   "metadata": {},
   "outputs": [
    {
     "name": "stdout",
     "output_type": "stream",
     "text": [
      "Dataset BOLSONARO (indicador 0)\n"
     ]
    }
   ],
   "source": [
    "dfx, dfy = filter_dataset(dfx, dfy_full, SUB_DATASET, TARGET_COL)"
   ]
  },
  {
   "cell_type": "code",
   "execution_count": null,
   "metadata": {},
   "outputs": [
    {
     "data": {
      "text/plain": [
       "Index(['Dispositivo Retórico', 'Main character', 'Retórica Aristotélica',\n",
       "       'Tipo de conteúdo', 'Texto / Hashtag', 'Tonalidade', 'Abordagem',\n",
       "       'Duracao', 'DiasDecorridos'],\n",
       "      dtype='object')"
      ]
     },
     "execution_count": 7,
     "metadata": {},
     "output_type": "execute_result"
    }
   ],
   "source": [
    "#dfx.columns\n",
    "dfx.shape"
   ]
  },
  {
   "cell_type": "code",
   "execution_count": null,
   "metadata": {},
   "outputs": [
    {
     "data": {
      "text/plain": [
       "ID\n",
       "7114971700365691904    0\n",
       "7115050482179050496    0\n",
       "7115120078982630400    0\n",
       "7115161088219565056    0\n",
       "7115207919750253568    1\n",
       "Name: Curtidas-2Classes-50p, dtype: int64"
      ]
     },
     "execution_count": 8,
     "metadata": {},
     "output_type": "execute_result"
    }
   ],
   "source": [
    "#dfy.head()\n",
    "dfy.shape"
   ]
  },
  {
   "cell_type": "markdown",
   "metadata": {},
   "source": [
    "## 1.2 - Informações do Treinamento (ALTERE)"
   ]
  },
  {
   "cell_type": "code",
   "execution_count": null,
   "metadata": {},
   "outputs": [],
   "source": [
    "from datetime import datetime\n",
    "\n",
    "RANDOM_STATE = 1231\n",
    "\n",
    "START_DATE_STR = datetime.now().strftime(\"%Y-%m-%d-%Hh%Mm\")\n",
    "#print(start_date_str)\n",
    "\n",
    "metadata = dict()\n",
    "metadata['date'] = START_DATE_STR\n",
    "metadata['subdataset'] = SUB_DATASET\n",
    "metadata['target'] = TARGET_COL\n",
    "metadata['random_state'] = RANDOM_STATE\n",
    "\n",
    "metadata['description'] =  f'''Treinamento com modelos com os \n",
    "dados balanceados (50p), com o dataset {SUB_DATASET}, com todos os modelos \n",
    "e com todos os ENSEMBLE, com a correção de escala para a MLP,\n",
    "variando class_weight para os modelos que suportam'''"
   ]
  },
  {
   "cell_type": "markdown",
   "metadata": {
    "id": "GbxpznNI60BD"
   },
   "source": [
    "# 2 - Modelos"
   ]
  },
  {
   "cell_type": "code",
   "execution_count": null,
   "metadata": {
    "metadata": {}
   },
   "outputs": [],
   "source": [
    "from sklearn.pipeline import Pipeline\n",
    "from data_transformations_util import IdentityTransformer"
   ]
  },
  {
   "cell_type": "code",
   "execution_count": null,
   "metadata": {
    "metadata": {}
   },
   "outputs": [],
   "source": [
    "from sklearn.ensemble import RandomForestClassifier\n",
    "from sklearn.linear_model import LogisticRegression\n",
    "from sklearn.svm import SVC\n",
    "from sklearn.neighbors import KNeighborsClassifier\n",
    "from sklearn.neural_network import MLPClassifier\n",
    "\n",
    "from sklearn.decomposition import PCA\n",
    "from sklearn.preprocessing import StandardScaler, MinMaxScaler"
   ]
  },
  {
   "cell_type": "code",
   "execution_count": null,
   "metadata": {
    "metadata": {}
   },
   "outputs": [],
   "source": [
    "lista_modelos = [\n",
    "    {\n",
    "        \"nome_do_modelo\": 'MLP Neural Network',\n",
    "        \"estimador\": Pipeline([\n",
    "            ('pca', PCA()),\n",
    "            ('scaler', StandardScaler()), \n",
    "            ('predictor', MLPClassifier(random_state=42))\n",
    "        ]),\n",
    "        \"parametros\": {\n",
    "            'pca': [PCA(n_components=0.50), PCA(n_components=0.65), PCA(n_components=0.80), IdentityTransformer()],\n",
    "            'scaler': [IdentityTransformer(), StandardScaler(), MinMaxScaler()],\n",
    "            'predictor__hidden_layer_sizes': [(256,), (512,), (1024,)],  # Number of neurons in the hidden layer\n",
    "            'predictor__learning_rate_init': [0.001, 0.01, 0.05],        # Learning rate\n",
    "        }\n",
    "    },\n",
    "    {\n",
    "        \"nome_do_modelo\": 'Support Vector Machine',\n",
    "        \"estimador\": Pipeline([\n",
    "            ('pca', PCA()),\n",
    "            ('scaler', StandardScaler()), \n",
    "            ('predictor', SVC(random_state=42))   #SVC(probability=True) # muito lento?  Tempo médio de treinamento sem proba: 21.55 segundos / com proba: 35.11 segundos\n",
    "        ]),\n",
    "        \"parametros\": {\n",
    "            'pca': [PCA(n_components=0.50), PCA(n_components=0.65), PCA(n_components=0.80), IdentityTransformer()],\n",
    "            'scaler': [IdentityTransformer(), StandardScaler(), MinMaxScaler()],\n",
    "            'predictor__class_weight': ['balanced', None], \n",
    "            'predictor__C': [0.1, 1.0, 10.0, 20.0, 50.0],\n",
    "            'predictor__gamma': ['scale', 'auto'],\n",
    "            'predictor__kernel': ['rbf', 'sigmoid']  # removi 'linear' porque deixava lento!\n",
    "        }\n",
    "    },\n",
    "    {\n",
    "        \"nome_do_modelo\": 'Random Forest',\n",
    "        \"estimador\": Pipeline([\n",
    "            ('pca', PCA()),\n",
    "            ('predictor', RandomForestClassifier(random_state=42))\n",
    "        ]),\n",
    "        \"parametros\": {\n",
    "            'pca': [PCA(n_components=0.50), PCA(n_components=0.65), PCA(n_components=0.80), IdentityTransformer()],\n",
    "            'predictor__n_estimators': [10, 30, 70], \n",
    "            'predictor__class_weight': ['balanced', None], \n",
    "            'predictor__max_depth': [3, 4, 5, None],\n",
    "            'predictor__min_samples_split': [2, 4, 8]\n",
    "        }\n",
    "    },\n",
    "    {\n",
    "        \"nome_do_modelo\": 'Logistic Regression',\n",
    "        \"estimador\": Pipeline([\n",
    "            ('pca', PCA()),\n",
    "            ('scaler', StandardScaler()), \n",
    "            ('predictor', LogisticRegression(solver='saga', random_state=42))   # Saga is the only solver to support the 3 options for 'penalty'\n",
    "        ]),\n",
    "        \"parametros\": {\n",
    "            'pca': [PCA(n_components=0.50), PCA(n_components=0.65), PCA(n_components=0.80), IdentityTransformer()],\n",
    "            'scaler': [IdentityTransformer(), StandardScaler(), MinMaxScaler()],\n",
    "            'predictor__class_weight': ['balanced', None], \n",
    "            'predictor__C': [0.01, 0.1, 1.0, 2.0],         # Regularization parameter\n",
    "            'predictor__penalty': ['l1', 'l2', None]       # Penalty term\n",
    "        }\n",
    "    },\n",
    "    {\n",
    "        \"nome_do_modelo\": 'KNN',\n",
    "        \"estimador\": Pipeline([\n",
    "            ('pca', PCA),\n",
    "            ('scaler', StandardScaler()), \n",
    "            ('predictor', KNeighborsClassifier())\n",
    "        ]),\n",
    "        \"parametros\": {\n",
    "            'pca': [PCA(n_components=0.50), PCA(n_components=0.65), PCA(n_components=0.80), IdentityTransformer()],\n",
    "            'scaler': [IdentityTransformer(), StandardScaler(), MinMaxScaler()],\n",
    "            'predictor__n_neighbors': [5, 10, 15, 20], \n",
    "            'predictor__weights': ['uniform', 'distance'], \n",
    "            'predictor__p': [1, 2]\n",
    "        }\n",
    "    },\n",
    "\n",
    "]"
   ]
  },
  {
   "cell_type": "code",
   "execution_count": null,
   "metadata": {},
   "outputs": [
    {
     "data": {
      "text/plain": [
       "['MLP Neural Network',\n",
       " 'Support Vector Machine',\n",
       " 'Random Forest',\n",
       " 'Logistic Regression',\n",
       " 'KNN']"
      ]
     },
     "execution_count": 16,
     "metadata": {},
     "output_type": "execute_result"
    }
   ],
   "source": [
    "BASIC_MODEL_NAMES = [ mdl[\"nome_do_modelo\"] for mdl in lista_modelos ]\n",
    "metadata['basic_models'] = BASIC_MODEL_NAMES\n",
    "\n",
    "BASIC_MODEL_NAMES"
   ]
  },
  {
   "cell_type": "markdown",
   "metadata": {},
   "source": [
    "# 3 - Treinamento"
   ]
  },
  {
   "cell_type": "code",
   "execution_count": null,
   "metadata": {
    "metadata": {}
   },
   "outputs": [],
   "source": [
    "from classification_train_util import nested_cross_validation_grid_search"
   ]
  },
  {
   "cell_type": "markdown",
   "metadata": {},
   "source": [
    "A linha abaixo executa nested cross-validation, com um grid search nos *inner folds*, para cada modelo."
   ]
  },
  {
   "cell_type": "code",
   "execution_count": null,
   "metadata": {
    "metadata": {}
   },
   "outputs": [
    {
     "name": "stdout",
     "output_type": "stream",
     "text": [
      "\n",
      "\n",
      "\n",
      " **** RESULTADO DOS MODELOS + CURVAS ROC E PR ****\n",
      "\n",
      "Treinando modelo MLP Neural Network ."
     ]
    },
    {
     "name": "stderr",
     "output_type": "stream",
     "text": [
      "c:\\Users\\pablo\\.conda\\envs\\socialnet\\lib\\site-packages\\sklearn\\neural_network\\_multilayer_perceptron.py:691: ConvergenceWarning: Stochastic Optimizer: Maximum iterations (200) reached and the optimization hasn't converged yet.\n",
      "  warnings.warn(\n"
     ]
    },
    {
     "name": "stdout",
     "output_type": "stream",
     "text": [
      "...."
     ]
    },
    {
     "name": "stderr",
     "output_type": "stream",
     "text": [
      "c:\\Users\\pablo\\.conda\\envs\\socialnet\\lib\\site-packages\\sklearn\\neural_network\\_multilayer_perceptron.py:691: ConvergenceWarning: Stochastic Optimizer: Maximum iterations (200) reached and the optimization hasn't converged yet.\n",
      "  warnings.warn(\n",
      "c:\\Users\\pablo\\.conda\\envs\\socialnet\\lib\\site-packages\\sklearn\\neural_network\\_multilayer_perceptron.py:691: ConvergenceWarning: Stochastic Optimizer: Maximum iterations (200) reached and the optimization hasn't converged yet.\n",
      "  warnings.warn(\n"
     ]
    },
    {
     "name": "stdout",
     "output_type": "stream",
     "text": [
      "\n",
      "-- coletando e armazenando resultados --\n",
      "\n",
      " - Acurácia   : 0.6628 +/- 0.03943\n",
      " - Precisão   : 0.6582 +/- 0.04264\n",
      " - Revocação  : 0.6769 +/- 0.06706\n",
      " - F1 - Score : 0.6657 +/- 0.04370\n",
      " - ROC - AUC  : 0.7253 +/- 0.03021\n",
      " - PR - AUC   : 0.7418 +/- 0.04848\n",
      " - Tempo médio de treinamento: 99.89 segundos\n",
      "\n",
      "================================================== \n",
      "\n",
      "Treinando modelo Support Vector Machine .....\n",
      "-- coletando e armazenando resultados --\n",
      "\n",
      " - Acurácia   : 0.6630 +/- 0.06634\n",
      " - Precisão   : 0.6565 +/- 0.05859\n",
      " - Revocação  : 0.6923 +/- 0.12640\n",
      " - F1 - Score : 0.6676 +/- 0.07587\n",
      " - ROC - AUC  : 0.7223 +/- 0.05701\n",
      " - PR - AUC   : 0.7145 +/- 0.06852\n",
      " - Tempo médio de treinamento: 20.62 segundos\n",
      "\n",
      "================================================== \n",
      "\n",
      "Treinando modelo Random Forest .....\n",
      "-- coletando e armazenando resultados --\n",
      "\n",
      " - Acurácia   : 0.6475 +/- 0.04931\n",
      " - Precisão   : 0.6599 +/- 0.05847\n",
      " - Revocação  : 0.6462 +/- 0.16209\n",
      " - F1 - Score : 0.6371 +/- 0.07446\n",
      " - ROC - AUC  : 0.7019 +/- 0.06719\n",
      " - PR - AUC   : 0.7287 +/- 0.06568\n",
      " - Tempo médio de treinamento: 43.57 segundos\n",
      "\n",
      "================================================== \n",
      "\n",
      "Treinando modelo Logistic Regression ."
     ]
    },
    {
     "name": "stderr",
     "output_type": "stream",
     "text": [
      "c:\\Users\\pablo\\.conda\\envs\\socialnet\\lib\\site-packages\\sklearn\\linear_model\\_logistic.py:1186: UserWarning: Setting penalty=None will ignore the C and l1_ratio parameters\n",
      "  warnings.warn(\n",
      "c:\\Users\\pablo\\.conda\\envs\\socialnet\\lib\\site-packages\\sklearn\\linear_model\\_logistic.py:1186: UserWarning: Setting penalty=None will ignore the C and l1_ratio parameters\n",
      "  warnings.warn(\n"
     ]
    },
    {
     "name": "stdout",
     "output_type": "stream",
     "text": [
      "."
     ]
    },
    {
     "name": "stderr",
     "output_type": "stream",
     "text": [
      "c:\\Users\\pablo\\.conda\\envs\\socialnet\\lib\\site-packages\\sklearn\\linear_model\\_logistic.py:1186: UserWarning: Setting penalty=None will ignore the C and l1_ratio parameters\n",
      "  warnings.warn(\n",
      "c:\\Users\\pablo\\.conda\\envs\\socialnet\\lib\\site-packages\\sklearn\\linear_model\\_logistic.py:1186: UserWarning: Setting penalty=None will ignore the C and l1_ratio parameters\n",
      "  warnings.warn(\n"
     ]
    },
    {
     "name": "stdout",
     "output_type": "stream",
     "text": [
      "...\n",
      "-- coletando e armazenando resultados --\n",
      "\n",
      " - Acurácia   : 0.6783 +/- 0.02626\n",
      " - Precisão   : 0.6813 +/- 0.03040\n",
      " - Revocação  : 0.6692 +/- 0.08635\n",
      " - F1 - Score : 0.6719 +/- 0.04435\n",
      " - ROC - AUC  : 0.7475 +/- 0.02413\n",
      " - PR - AUC   : 0.7647 +/- 0.03288\n",
      " - Tempo médio de treinamento: 13.05 segundos\n",
      "\n",
      "================================================== \n",
      "\n",
      "Treinando modelo KNN .....\n",
      "-- coletando e armazenando resultados --\n",
      "\n",
      " - Acurácia   : 0.6782 +/- 0.05354\n",
      " - Precisão   : 0.6956 +/- 0.06979\n",
      " - Revocação  : 0.6538 +/- 0.04865\n",
      " - F1 - Score : 0.6704 +/- 0.03616\n",
      " - ROC - AUC  : 0.7017 +/- 0.06878\n",
      " - PR - AUC   : 0.7298 +/- 0.04114\n",
      " - Tempo médio de treinamento: 9.09 segundos\n",
      "\n",
      "================================================== \n",
      "\n",
      "Terminado em 15/08/2024 13:16:58\n"
     ]
    },
    {
     "data": {
      "image/png": "[encoded data removed]",
      "text/plain": [
       "<Figure size 1000x800 with 1 Axes>"
      ]
     },
     "metadata": {},
     "output_type": "display_data"
    }
   ],
   "source": [
    "\n",
    "last_run_basic = nested_cross_validation_grid_search(lista_modelos, dfx, dfy, 5, 5, rand_state=RANDOM_STATE)\n"
   ]
  },
  {
   "cell_type": "markdown",
   "metadata": {},
   "source": [
    "## 3.3 - Treina Ensembles (não foi publicado)"
   ]
  },
  {
   "cell_type": "code",
   "execution_count": 19,
   "metadata": {},
   "outputs": [],
   "source": [
    "from copy import deepcopy\n",
    "\n",
    "from ensemble_train_util import select_best_models_of_type_fn, select_best_models_per_fold\n",
    "from ensemble_train_util import train_ensemble"
   ]
  },
  {
   "cell_type": "code",
   "execution_count": 20,
   "metadata": {
    "metadata": {}
   },
   "outputs": [],
   "source": [
    "last_run_all = deepcopy(last_run_basic)"
   ]
  },
  {
   "cell_type": "code",
   "execution_count": 21,
   "metadata": {
    "metadata": {}
   },
   "outputs": [
    {
     "name": "stdout",
     "output_type": "stream",
     "text": [
      "\n",
      "\n",
      "\n",
      " **** TREINANDO ENSEMBLE PARA MLP Neural Network ****\n",
      "\n",
      "...."
     ]
    },
    {
     "name": "stderr",
     "output_type": "stream",
     "text": [
      "c:\\Users\\pablo\\.conda\\envs\\socialnet\\lib\\site-packages\\sklearn\\neural_network\\_multilayer_perceptron.py:691: ConvergenceWarning: Stochastic Optimizer: Maximum iterations (200) reached and the optimization hasn't converged yet.\n",
      "  warnings.warn(\n"
     ]
    },
    {
     "name": "stdout",
     "output_type": "stream",
     "text": [
      "."
     ]
    },
    {
     "name": "stderr",
     "output_type": "stream",
     "text": [
      "c:\\Users\\pablo\\.conda\\envs\\socialnet\\lib\\site-packages\\sklearn\\neural_network\\_multilayer_perceptron.py:691: ConvergenceWarning: Stochastic Optimizer: Maximum iterations (200) reached and the optimization hasn't converged yet.\n",
      "  warnings.warn(\n"
     ]
    },
    {
     "name": "stdout",
     "output_type": "stream",
     "text": [
      "...."
     ]
    },
    {
     "name": "stderr",
     "output_type": "stream",
     "text": [
      "c:\\Users\\pablo\\.conda\\envs\\socialnet\\lib\\site-packages\\sklearn\\neural_network\\_multilayer_perceptron.py:691: ConvergenceWarning: Stochastic Optimizer: Maximum iterations (200) reached and the optimization hasn't converged yet.\n",
      "  warnings.warn(\n"
     ]
    },
    {
     "name": "stdout",
     "output_type": "stream",
     "text": [
      "."
     ]
    },
    {
     "name": "stderr",
     "output_type": "stream",
     "text": [
      "c:\\Users\\pablo\\.conda\\envs\\socialnet\\lib\\site-packages\\sklearn\\neural_network\\_multilayer_perceptron.py:691: ConvergenceWarning: Stochastic Optimizer: Maximum iterations (200) reached and the optimization hasn't converged yet.\n",
      "  warnings.warn(\n"
     ]
    },
    {
     "name": "stdout",
     "output_type": "stream",
     "text": [
      "\n",
      "\n",
      "\n",
      " **** TREINANDO ENSEMBLE PARA Support Vector Machine ****\n",
      "\n",
      "..........\n",
      "\n",
      "\n",
      " **** TREINANDO ENSEMBLE PARA Random Forest ****\n",
      "\n",
      "..........\n",
      "\n",
      "\n",
      " **** TREINANDO ENSEMBLE PARA Logistic Regression ****\n",
      "\n",
      ".."
     ]
    },
    {
     "name": "stderr",
     "output_type": "stream",
     "text": [
      "c:\\Users\\pablo\\.conda\\envs\\socialnet\\lib\\site-packages\\sklearn\\linear_model\\_logistic.py:1186: UserWarning: Setting penalty=None will ignore the C and l1_ratio parameters\n",
      "  warnings.warn(\n",
      "c:\\Users\\pablo\\.conda\\envs\\socialnet\\lib\\site-packages\\sklearn\\linear_model\\_logistic.py:1186: UserWarning: Setting penalty=None will ignore the C and l1_ratio parameters\n",
      "  warnings.warn(\n",
      "c:\\Users\\pablo\\.conda\\envs\\socialnet\\lib\\site-packages\\sklearn\\linear_model\\_logistic.py:1186: UserWarning: Setting penalty=None will ignore the C and l1_ratio parameters\n",
      "  warnings.warn(\n",
      "c:\\Users\\pablo\\.conda\\envs\\socialnet\\lib\\site-packages\\sklearn\\linear_model\\_logistic.py:1186: UserWarning: Setting penalty=None will ignore the C and l1_ratio parameters\n",
      "  warnings.warn(\n"
     ]
    },
    {
     "name": "stdout",
     "output_type": "stream",
     "text": [
      ".."
     ]
    },
    {
     "name": "stderr",
     "output_type": "stream",
     "text": [
      "c:\\Users\\pablo\\.conda\\envs\\socialnet\\lib\\site-packages\\sklearn\\linear_model\\_logistic.py:1186: UserWarning: Setting penalty=None will ignore the C and l1_ratio parameters\n",
      "  warnings.warn(\n",
      "c:\\Users\\pablo\\.conda\\envs\\socialnet\\lib\\site-packages\\sklearn\\linear_model\\_logistic.py:1186: UserWarning: Setting penalty=None will ignore the C and l1_ratio parameters\n",
      "  warnings.warn(\n",
      "c:\\Users\\pablo\\.conda\\envs\\socialnet\\lib\\site-packages\\sklearn\\linear_model\\_logistic.py:1186: UserWarning: Setting penalty=None will ignore the C and l1_ratio parameters\n",
      "  warnings.warn(\n",
      "c:\\Users\\pablo\\.conda\\envs\\socialnet\\lib\\site-packages\\sklearn\\linear_model\\_logistic.py:1186: UserWarning: Setting penalty=None will ignore the C and l1_ratio parameters\n",
      "  warnings.warn(\n"
     ]
    },
    {
     "name": "stdout",
     "output_type": "stream",
     "text": [
      ".."
     ]
    },
    {
     "name": "stderr",
     "output_type": "stream",
     "text": [
      "c:\\Users\\pablo\\.conda\\envs\\socialnet\\lib\\site-packages\\sklearn\\linear_model\\_logistic.py:1186: UserWarning: Setting penalty=None will ignore the C and l1_ratio parameters\n",
      "  warnings.warn(\n",
      "c:\\Users\\pablo\\.conda\\envs\\socialnet\\lib\\site-packages\\sklearn\\linear_model\\_logistic.py:1186: UserWarning: Setting penalty=None will ignore the C and l1_ratio parameters\n",
      "  warnings.warn(\n",
      "c:\\Users\\pablo\\.conda\\envs\\socialnet\\lib\\site-packages\\sklearn\\linear_model\\_logistic.py:1186: UserWarning: Setting penalty=None will ignore the C and l1_ratio parameters\n",
      "  warnings.warn(\n",
      "c:\\Users\\pablo\\.conda\\envs\\socialnet\\lib\\site-packages\\sklearn\\linear_model\\_logistic.py:1186: UserWarning: Setting penalty=None will ignore the C and l1_ratio parameters\n",
      "  warnings.warn(\n"
     ]
    },
    {
     "name": "stdout",
     "output_type": "stream",
     "text": [
      ".."
     ]
    },
    {
     "name": "stderr",
     "output_type": "stream",
     "text": [
      "c:\\Users\\pablo\\.conda\\envs\\socialnet\\lib\\site-packages\\sklearn\\linear_model\\_logistic.py:1186: UserWarning: Setting penalty=None will ignore the C and l1_ratio parameters\n",
      "  warnings.warn(\n",
      "c:\\Users\\pablo\\.conda\\envs\\socialnet\\lib\\site-packages\\sklearn\\linear_model\\_logistic.py:1186: UserWarning: Setting penalty=None will ignore the C and l1_ratio parameters\n",
      "  warnings.warn(\n",
      "c:\\Users\\pablo\\.conda\\envs\\socialnet\\lib\\site-packages\\sklearn\\linear_model\\_logistic.py:1186: UserWarning: Setting penalty=None will ignore the C and l1_ratio parameters\n",
      "  warnings.warn(\n",
      "c:\\Users\\pablo\\.conda\\envs\\socialnet\\lib\\site-packages\\sklearn\\linear_model\\_logistic.py:1186: UserWarning: Setting penalty=None will ignore the C and l1_ratio parameters\n",
      "  warnings.warn(\n"
     ]
    },
    {
     "name": "stdout",
     "output_type": "stream",
     "text": [
      ".."
     ]
    },
    {
     "name": "stderr",
     "output_type": "stream",
     "text": [
      "c:\\Users\\pablo\\.conda\\envs\\socialnet\\lib\\site-packages\\sklearn\\linear_model\\_logistic.py:1186: UserWarning: Setting penalty=None will ignore the C and l1_ratio parameters\n",
      "  warnings.warn(\n",
      "c:\\Users\\pablo\\.conda\\envs\\socialnet\\lib\\site-packages\\sklearn\\linear_model\\_logistic.py:1186: UserWarning: Setting penalty=None will ignore the C and l1_ratio parameters\n",
      "  warnings.warn(\n",
      "c:\\Users\\pablo\\.conda\\envs\\socialnet\\lib\\site-packages\\sklearn\\linear_model\\_logistic.py:1186: UserWarning: Setting penalty=None will ignore the C and l1_ratio parameters\n",
      "  warnings.warn(\n",
      "c:\\Users\\pablo\\.conda\\envs\\socialnet\\lib\\site-packages\\sklearn\\linear_model\\_logistic.py:1186: UserWarning: Setting penalty=None will ignore the C and l1_ratio parameters\n",
      "  warnings.warn(\n"
     ]
    },
    {
     "name": "stdout",
     "output_type": "stream",
     "text": [
      "\n",
      "\n",
      "\n",
      " **** TREINANDO ENSEMBLE PARA KNN ****\n",
      "\n",
      ".........."
     ]
    }
   ],
   "source": [
    "#models_list = ['MLP Neural Network', 'Support Vector Machine', 'Random Forest', 'Logistic Regression', 'KNN']\n",
    "\n",
    "for model_name in BASIC_MODEL_NAMES:\n",
    "    print(f\"\\n\\n\\n **** TREINANDO ENSEMBLE PARA {model_name} ****\\n\")\n",
    "    contracted_name = ''.join([name[0] for name in model_name.split()])\n",
    "    results_ensemble = train_ensemble(select_best_models_of_type_fn(model_name), last_run_all, dfx, dfy, name_prefix=contracted_name)\n",
    "\n",
    "    # merge results with results_with_ensemble\n",
    "    last_run_all.update(results_ensemble)"
   ]
  },
  {
   "cell_type": "code",
   "execution_count": 22,
   "metadata": {
    "metadata": {}
   },
   "outputs": [
    {
     "name": "stdout",
     "output_type": "stream",
     "text": [
      "...."
     ]
    },
    {
     "name": "stderr",
     "output_type": "stream",
     "text": [
      "c:\\Users\\pablo\\.conda\\envs\\socialnet\\lib\\site-packages\\sklearn\\neural_network\\_multilayer_perceptron.py:691: ConvergenceWarning: Stochastic Optimizer: Maximum iterations (200) reached and the optimization hasn't converged yet.\n",
      "  warnings.warn(\n"
     ]
    },
    {
     "name": "stdout",
     "output_type": "stream",
     "text": [
      "."
     ]
    },
    {
     "name": "stderr",
     "output_type": "stream",
     "text": [
      "c:\\Users\\pablo\\.conda\\envs\\socialnet\\lib\\site-packages\\sklearn\\neural_network\\_multilayer_perceptron.py:691: ConvergenceWarning: Stochastic Optimizer: Maximum iterations (200) reached and the optimization hasn't converged yet.\n",
      "  warnings.warn(\n"
     ]
    },
    {
     "name": "stdout",
     "output_type": "stream",
     "text": [
      "...."
     ]
    },
    {
     "name": "stderr",
     "output_type": "stream",
     "text": [
      "c:\\Users\\pablo\\.conda\\envs\\socialnet\\lib\\site-packages\\sklearn\\neural_network\\_multilayer_perceptron.py:691: ConvergenceWarning: Stochastic Optimizer: Maximum iterations (200) reached and the optimization hasn't converged yet.\n",
      "  warnings.warn(\n"
     ]
    },
    {
     "name": "stdout",
     "output_type": "stream",
     "text": [
      "."
     ]
    },
    {
     "name": "stderr",
     "output_type": "stream",
     "text": [
      "c:\\Users\\pablo\\.conda\\envs\\socialnet\\lib\\site-packages\\sklearn\\neural_network\\_multilayer_perceptron.py:691: ConvergenceWarning: Stochastic Optimizer: Maximum iterations (200) reached and the optimization hasn't converged yet.\n",
      "  warnings.warn(\n"
     ]
    }
   ],
   "source": [
    "results_ensemble = train_ensemble(select_best_models_per_fold, last_run_basic, dfx, dfy, name_prefix=\"BPF\")  # BPF - best per fold\n",
    "\n",
    "# check if keys have no intersection (no common key)\n",
    "assert len(set(last_run_all.keys()) & set(results_ensemble.keys())) == 0\n",
    "\n",
    "# merge results with results_with_ensemble\n",
    "last_run_all.update(results_ensemble)"
   ]
  },
  {
   "cell_type": "markdown",
   "metadata": {},
   "source": [
    "## 3.4 - Salva Resultados"
   ]
  },
  {
   "cell_type": "code",
   "execution_count": 23,
   "metadata": {},
   "outputs": [],
   "source": [
    "from util import save_results"
   ]
  },
  {
   "cell_type": "code",
   "execution_count": 24,
   "metadata": {},
   "outputs": [
    {
     "data": {
      "text/plain": [
       "dict_keys(['MLP Neural Network', 'Support Vector Machine', 'Random Forest', 'Logistic Regression', 'KNN', 'MNN-hard-vote', 'MNN-soft-vote', 'SVM-hard-vote', 'SVM-soft-vote', 'RF-hard-vote', 'RF-soft-vote', 'LR-hard-vote', 'LR-soft-vote', 'K-hard-vote', 'K-soft-vote', 'BPF-hard-vote', 'BPF-soft-vote'])"
      ]
     },
     "execution_count": 24,
     "metadata": {},
     "output_type": "execute_result"
    }
   ],
   "source": [
    "last_run_all.keys()"
   ]
  },
  {
   "cell_type": "code",
   "execution_count": 26,
   "metadata": {},
   "outputs": [
    {
     "name": "stdout",
     "output_type": "stream",
     "text": [
      "Arquivo salvo: ./resultados/resultados50p_2024-08-15-13h01m_bolsonaro.npy\n"
     ]
    }
   ],
   "source": [
    "OUTPUT_FILE_PATH = f'resultados/resultados50p_{START_DATE_STR}_{SUB_DATASET}.npy'\n",
    "\n",
    "save_results(OUTPUT_FILE_PATH, last_run_all, metadata)\n",
    "\n",
    "print(\"Arquivo salvo:\", OUTPUT_FILE_PATH)"
   ]
  },
  {
   "cell_type": "markdown",
   "metadata": {},
   "source": [
    "----"
   ]
  },
  {
   "cell_type": "markdown",
   "metadata": {},
   "source": [
    "# FIM"
   ]
  }
 ],
 "metadata": {
  "colab": {
   "authorship_tag": "ABX9TyOuiv0RFkkwcXnb26LS0lwg",
   "provenance": [
    {
     "file_id": "1y8SEBwz0ltHkmfXNFpsBTWvHkCb-CFdt",
     "timestamp": 1676506165799
    }
   ]
  },
  "kernelspec": {
   "display_name": "Python 3",
   "name": "python3"
  },
  "language_info": {
   "codemirror_mode": {
    "name": "ipython",
    "version": 3
   },
   "file_extension": ".py",
   "mimetype": "text/x-python",
   "name": "python",
   "nbconvert_exporter": "python",
   "pygments_lexer": "ipython3",
   "version": "3.10.14"
  }
 },
 "nbformat": 4,
 "nbformat_minor": 0
}
